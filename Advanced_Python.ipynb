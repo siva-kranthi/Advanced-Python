{
  "nbformat": 4,
  "nbformat_minor": 0,
  "metadata": {
    "colab": {
      "name": "Advanced_Python.ipynb",
      "provenance": [],
      "collapsed_sections": [
        "MNAjuqXC3ZBX",
        "i8SxW4ne8tkm",
        "hemeVite5Jxd",
        "PMxM6Sn314s-",
        "tZKn4-V8cVEp",
        "OfMmeEVW74GM",
        "5gMvaxz2l2OI",
        "BtfeVeAam9MK",
        "rB3azgyEp_Vy",
        "s03s1OSsq_LS",
        "yt69GZfWuboi",
        "rjS4chBuurIZ",
        "PpY6cdIAu49K",
        "mJHPTdVs7RG1",
        "TmGKR1f55g7-",
        "UPAF3ePpdWlq",
        "s9ji2TJ2EnSg",
        "XRqY7JRHszY7",
        "OtHfxdc5yT-d",
        "UdUK6c57yknm",
        "onON5YG9zjvu",
        "qd6rpD956MEe",
        "k1TuUnpu8wxO",
        "mDa3_2JR8bVe",
        "aH55Rflm9Vie",
        "FvmVnDQ_FvEg",
        "UjpgkSR-kAms",
        "_Hcy2-Jvmn1V",
        "ZlcIOgmFmek4",
        "V7s7i2Lhr9Ho",
        "VjUYIjvX1QAq",
        "OPvRzxSy-B6l",
        "gFtp0aYm82fU",
        "lkfT3rvaN5TH",
        "JthbZ--_X2VO",
        "6t0oU6g5gKQ3",
        "o0WGoYSTcElG",
        "WpUKHakXBlak",
        "YmkuHdZ6B2Ud"
      ],
      "toc_visible": true
    },
    "kernelspec": {
      "name": "python3",
      "display_name": "Python 3"
    },
    "language_info": {
      "name": "python"
    }
  },
  "cells": [
    {
      "cell_type": "markdown",
      "metadata": {
        "id": "mR1yAqmZg3zl"
      },
      "source": [
        "# Advanced Python \n",
        "\n"
      ]
    },
    {
      "cell_type": "markdown",
      "metadata": {
        "id": "NNxGG8gPhvW9"
      },
      "source": [
        "## Basics\n"
      ]
    },
    {
      "cell_type": "markdown",
      "metadata": {
        "id": "zblGkm_gmwvt"
      },
      "source": [
        "### Running Python\n",
        "\n",
        "\n",
        "1. Interactive mode (console)\n",
        "2. Script/Program mode (.py file)\n",
        "3. Notebook mode\n",
        "\n",
        "> In interactive mode, underscore _ holds the last result (This is only true in the interactive mode. You never use _ in a program)"
      ]
    },
    {
      "cell_type": "markdown",
      "metadata": {
        "id": "fQLKIkLRm3qW"
      },
      "source": [
        "### Remember\n",
        "\n",
        "\n",
        "* Dynamically typed language. The perceived \"type\" of a variable might change as a program executes depending on the current value assigned to it\n",
        "* Variables do not need to be declared with the type of the value. The type is associated with the value on the right hand side, not name of the variable.\n",
        "* Python is case sensitive. Upper and lower-case letters are considered different letters\n",
        "* Everything in python is an object"
      ]
    },
    {
      "cell_type": "markdown",
      "metadata": {
        "id": "qK0qxcvzuPA-"
      },
      "source": [
        "### Statements\n",
        "\n",
        "A python program is a sequence of statements\n",
        "\n",
        "Each statement is terminated by a newline. Statements are executed one after the other until control reaches the end of the file"
      ]
    },
    {
      "cell_type": "code",
      "metadata": {
        "id": "Fdd8uMMduWkF"
      },
      "source": [
        "a = 3 + 4 # Statement 1\n",
        "b = a * 2 # Statement 2\n",
        "print(b) # End Statement"
      ],
      "execution_count": null,
      "outputs": []
    },
    {
      "cell_type": "markdown",
      "metadata": {
        "id": "0fbz5Ynmus8_"
      },
      "source": [
        "Python statements are usually written in single line. Python treats each line as a separate statement. (The newline chracter marks the end of the statement)\n",
        "\n",
        "If the statement is very long, we can explicitly divide into multiple lines with the line continuation character **`\\`**."
      ]
    },
    {
      "cell_type": "code",
      "metadata": {
        "colab": {
          "base_uri": "https://localhost:8080/"
        },
        "id": "p0rdnEDbvSlE",
        "outputId": "a5b5cc74-d08f-473a-a1a9-81ffa70e797e"
      },
      "source": [
        "math_result = 1 + 2 + 3 + 4 + \\\n",
        "              5 + 6 + 7 + 8 + \\\n",
        "              9 + 10\n",
        " \n",
        "message = \"Hello There.\\nYou have come to the right place to learn Python Programming.\\n\" \\\n",
        "          \"Follow the tutorials to become expert in Python.\"  \\\n",
        "          \"Don't forget to share it with your friends too.\"\n",
        "          \n",
        "print(message)\n",
        "print(math_result)"
      ],
      "execution_count": null,
      "outputs": [
        {
          "output_type": "stream",
          "name": "stdout",
          "text": [
            "Hello There.\n",
            "You have come to the right place to learn Python Programming.\n",
            "Follow the tutorials to become expert in Python.Don't forget to share it with your friends too.\n",
            "55\n"
          ]
        }
      ]
    },
    {
      "cell_type": "markdown",
      "metadata": {
        "id": "c3qnjtujvrn-"
      },
      "source": [
        "Python supports multi-line continuation inside **parentheses ( ), brackets [ ], and braces { }**\n",
        "\n",
        "The brackets are used by List and the braces are used by dictionary objects. We can use parentheses for expressions, tuples, and strings\n",
        "\n",
        "> **Statements** represent an action or command\n",
        ">\n",
        "> **Expressions** are combinations of values and operators and always evaluate down to a single value. Some statements contain expressions"
      ]
    },
    {
      "cell_type": "code",
      "metadata": {
        "colab": {
          "base_uri": "https://localhost:8080/"
        },
        "id": "c0jY6sl8zCMH",
        "outputId": "178cffb6-d3a4-4bd6-d1a0-872f69217056"
      },
      "source": [
        "message = (\"Hello\\n\"\n",
        "           \"Hi\\n\"\n",
        "           \"Namaste\")\n",
        " \n",
        "math_result = (1 + 2 + 3 + 4 +\n",
        "               5 + 6 + 7 + 8 +\n",
        "               9 + 10)\n",
        " \n",
        "prime_numbers_tuple = (2, 3, 5, 7,\n",
        "                       11, 13, 17)\n",
        " \n",
        "list_fruits = [\"Apple\", \"Banana\",\n",
        "               \"Orange\", \"Mango\"]\n",
        " \n",
        "dict_countries = {\"USA\": \"United States of America\", \"IN\": \"India\",\n",
        "                  \"UK\": \"United Kingdom\", \"FR\": \"France\"}\n",
        "\n",
        "print(message, math_result)\n",
        "print(math_result)\n",
        "print(prime_numbers_tuple)\n",
        "print(dict_countries)"
      ],
      "execution_count": null,
      "outputs": [
        {
          "output_type": "stream",
          "name": "stdout",
          "text": [
            "Hello\n",
            "Hi\n",
            "Namaste 55\n",
            "55\n",
            "(2, 3, 5, 7, 11, 13, 17)\n",
            "{'USA': 'United States of America', 'IN': 'India', 'UK': 'United Kingdom', 'FR': 'France'}\n"
          ]
        }
      ]
    },
    {
      "cell_type": "markdown",
      "metadata": {
        "id": "19var3MOnN6H"
      },
      "source": [
        "### Pass statement\n",
        "\n",
        "Sometimes you need to specify an empty code block. The keyword pass is used for it.\n",
        "\n",
        "This is also called a \"no-op\" statement. It does nothing. It serves as a placeholder for statements, possibly to be added later."
      ]
    },
    {
      "cell_type": "code",
      "metadata": {
        "id": "XFcoWebQnfHF"
      },
      "source": [
        "if a > b:\n",
        "    pass\n",
        "else:\n",
        "    print('Computer says false')"
      ],
      "execution_count": null,
      "outputs": []
    },
    {
      "cell_type": "markdown",
      "metadata": {
        "id": "OZvSXoMKm8q9"
      },
      "source": [
        "### User Input\n",
        "\n",
        "To read a line of typed user input, use the input() function\n",
        "\n",
        "`input` prints a prompt to the user and returns their response. This is useful for small programs, learning exercises or simple debugging. It is not widely used for real programs"
      ]
    },
    {
      "cell_type": "code",
      "metadata": {
        "colab": {
          "base_uri": "https://localhost:8080/"
        },
        "id": "9Gj7-H55lm3e",
        "outputId": "75c281de-1b07-47eb-8ee1-0bc2af01f3e4"
      },
      "source": [
        "name = input('Enter your name:')\n",
        "print('Your name is', name)]"
      ],
      "execution_count": null,
      "outputs": [
        {
          "output_type": "stream",
          "name": "stdout",
          "text": [
            "Enter your name:siva\n",
            "Your name is siva\n"
          ]
        }
      ]
    },
    {
      "cell_type": "markdown",
      "metadata": {
        "id": "MNAjuqXC3ZBX"
      },
      "source": [
        "### Formatting\n",
        "\n",
        "when you work with data, you often want to produce structured output (tables, etc.). For example:\n",
        "\n",
        "```code\n",
        "      Name      Shares        Price\n",
        "----------  ----------  -----------\n",
        "        AA         100        32.20\n",
        "       IBM          50        91.10\n",
        "       CAT         150        83.44\n",
        "      MSFT         200        51.23\n",
        "        GE          95        40.37\n",
        "      MSFT          50        65.10\n",
        "       IBM         100        70.44\n",
        "```\n"
      ]
    },
    {
      "cell_type": "markdown",
      "metadata": {
        "id": "i8SxW4ne8tkm"
      },
      "source": [
        "#### String Formatting\n",
        "\n",
        "One way to format string in Python 3.6+ is with f-strings\n",
        "\n",
        "`f\"{expression:format}\"`"
      ]
    },
    {
      "cell_type": "code",
      "metadata": {
        "colab": {
          "base_uri": "https://localhost:8080/",
          "height": 35
        },
        "id": "i8OgoeHV4E_2",
        "outputId": "5494800b-ae00-4ad9-f8e0-741b3f0f07da"
      },
      "source": [
        "name = 'IBM'\n",
        "shares = 100\n",
        "price = 91.1\n",
        "\n",
        "f'{name:>10s} {shares:>10d} {price:>10.2f}' # It is commonly used with print"
      ],
      "execution_count": null,
      "outputs": [
        {
          "output_type": "execute_result",
          "data": {
            "application/vnd.google.colaboratory.intrinsic+json": {
              "type": "string"
            },
            "text/plain": [
              "'       IBM        100      91.10'"
            ]
          },
          "metadata": {},
          "execution_count": 10
        }
      ]
    },
    {
      "cell_type": "markdown",
      "metadata": {
        "id": "hemeVite5Jxd"
      },
      "source": [
        "Format codes (after the : inside the {}) are similar to C printf(). Common codes include:\n",
        "\n",
        "```code\n",
        "d       Decimal integer\n",
        "b       Binary integer\n",
        "x       Hexadecimal integer\n",
        "f       Float as [-]m.dddddd\n",
        "e       Float as [-]m.dddddde+-xx\n",
        "g       Float, but selective use of E notation\n",
        "s       String\n",
        "c       Character (from integer)\n",
        "```\n",
        "\n",
        "Common modifiers adjust the field width and decimal precision.  This is a partial list:\n",
        "\n",
        "```code\n",
        ":>10d   Integer right aligned in 10-character field\n",
        ":<10d   Integer left aligned in 10-character field\n",
        ":^10d   Integer centered in 10-character field\n",
        ":0.2f   Float with 2 digit precision\n",
        "```\n",
        "\n",
        "https://docs.python.org/3/library/string.html#format-specification-mini-language\n",
        "\n",
        "#### Dictionary Formatting\n",
        "\n",
        "You can use the `format_map()` method to apply string formatting to a dictionary of values:\n",
        "\n",
        "It uses the same codes as `f-strings` but takes the values from the\n",
        "supplied dictionary."
      ]
    },
    {
      "cell_type": "code",
      "metadata": {
        "id": "zBHLxN4E5v4l"
      },
      "source": [
        "s = {\n",
        "    'name': 'IBM',\n",
        "    'shares': 100,\n",
        "    'price': 91.1\n",
        "}\n",
        "\n",
        "'{name:>10s} {shares:10d} {price:10.2f}'.format_map(s)"
      ],
      "execution_count": null,
      "outputs": []
    },
    {
      "cell_type": "markdown",
      "metadata": {
        "id": "PMxM6Sn314s-"
      },
      "source": [
        "### Scoping Rules\n",
        "\n",
        "**Scope** refers to the visibility of object (object lifetime). In other words, which parts of your program can see or use it\n",
        "\n",
        "Python has below 4 scopes (highest to lowest)\n",
        "\n",
        "1. **Local (L):** Within the current function/class. You can access all local variables with `locals()`.\n",
        "2. **Enclosed (E):** inside enclosing functions\n",
        "3. **Global (G):** In the main part of the script. By default, this already contains the built-ins. You can access all global variables with `globals()`. Within the main script, `locals() == globals()`\n",
        "4. **Built-in (B)** : keywords, functions, and other attributes that are built into Python\n",
        "\n",
        "Python uses above **LEGB** rule for scope resolution\n",
        "\n",
        "![6385a29a0cc08eb5fad8382f721a868769a80dc8.png](data:image/png;base64,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)"
      ]
    },
    {
      "cell_type": "code",
      "metadata": {
        "colab": {
          "base_uri": "https://localhost:8080/"
        },
        "id": "mESaP9DR4zjV",
        "outputId": "b65c90bb-fe20-4f07-b8d5-24af4319c0ca"
      },
      "source": [
        "\n",
        "# Built-in Scope\n",
        "from math import pi\n",
        "  \n",
        "pi = 'global pi variable'\n",
        "  \n",
        "def outer():\n",
        "    pi = 'outer pi variable'\n",
        "    a = \"hi\" # Enclosed Scopr\n",
        "    def inner():\n",
        "        pi = 'inner pi variable' # Local Scope\n",
        "        print(pi)\n",
        "        print(a)\n",
        "    print(pi)\n",
        "    inner()\n",
        "    print(pi)\n",
        "  \n",
        "outer()"
      ],
      "execution_count": null,
      "outputs": [
        {
          "output_type": "stream",
          "name": "stdout",
          "text": [
            "3.141592653589793\n",
            "3.141592653589793\n",
            "hi\n",
            "3.141592653589793\n"
          ]
        }
      ]
    },
    {
      "cell_type": "markdown",
      "metadata": {
        "id": "tZKn4-V8cVEp"
      },
      "source": [
        "## Objects"
      ]
    },
    {
      "cell_type": "markdown",
      "metadata": {
        "id": "z-aAdo1Lgn1a"
      },
      "source": [
        "In python everything is an **object**\n",
        "\n",
        "Almost every object has some metadata (called *attributes*) and associated functionality (called *methods*)\n",
        "\n",
        "Even these attributes and methods of objects are themselves objects with their own type information.\n",
        "\n",
        "Every object is **first-class** i.e. it can be assigned to a variable, placed in containers, passed as an argument to a function, returned as a value "
      ]
    },
    {
      "cell_type": "code",
      "metadata": {
        "id": "UNdwxnVqtfgT"
      },
      "source": [
        "import math\n",
        "\n",
        "items = [abs, math, ValueError ]\n",
        "\n",
        "print(items)\n",
        "# [<built-in function abs>,\n",
        "#   <module 'math' (builtin)>,\n",
        "#   <type 'exceptions.ValueError'>]\n",
        "\n",
        "print(items[0](-45)) # 45\n",
        "\n",
        "print(items[1].sqrt(2)) # 1.4142135623730951\n",
        "\n",
        "try:\n",
        "  x = int('not a number')\n",
        "except items[2]:\n",
        "  print('Failed!')\n",
        "# Failed!"
      ],
      "execution_count": null,
      "outputs": []
    },
    {
      "cell_type": "markdown",
      "metadata": {
        "id": "OfMmeEVW74GM"
      },
      "source": [
        "### Object introspection\n",
        "\n",
        "**introspection** is the ability to examine the object at runtime\n",
        "\n",
        "Below are some widely used built-in introspection functions\n",
        "\n",
        "* **`help()`**: returns the Python documentation of a particular object, method, attributes, etc.\n",
        "* **`dir()`**: returns list of attributes and methods belonging to an object\n",
        "* **`type()`**: returns the type of an object\n",
        "* **`isinstance()`**: is a function, returns `Tru`e if the specified object is of the specified type, otherwise `False`\n",
        "* **`id()`**: returns the unique id of the object\n",
        "* **`is`**: operator to check if two values are exactly the same object"
      ]
    },
    {
      "cell_type": "code",
      "metadata": {
        "id": "gPQX7ODGkzI5"
      },
      "source": [
        "# This can be handy when you are not able to recall a method name\n",
        "help(list)\n",
        "\n",
        "a = [1]\n",
        "print(dir(a))"
      ],
      "execution_count": null,
      "outputs": []
    },
    {
      "cell_type": "code",
      "metadata": {
        "id": "zcy452-_-0HE"
      },
      "source": [
        "print(type(''))\n",
        "# Output: <type 'str'>\n",
        "\n",
        "print(type([]))\n",
        "# Output: <type 'list'>\n",
        "\n",
        "print(type({}))\n",
        "# Output: <type 'dict'>\n",
        "\n",
        "print(type(dict))\n",
        "# Output: <type 'type'>\n",
        "\n",
        "print(type(3))\n",
        "# Output: <type 'int'>"
      ],
      "execution_count": null,
      "outputs": []
    },
    {
      "cell_type": "code",
      "metadata": {
        "colab": {
          "base_uri": "https://localhost:8080/"
        },
        "id": "yTno3aL_s4ms",
        "outputId": "83b1476c-3c40-4ffa-b818-0a96bd8825e0"
      },
      "source": [
        "a = [1]\n",
        "if isinstance(a, list):\n",
        "    print('a is a list')\n",
        "\n",
        "a = (1,)\n",
        "if isinstance(a, (list,tuple)):\n",
        "    print('a is a list or tuple')"
      ],
      "execution_count": null,
      "outputs": [
        {
          "output_type": "stream",
          "name": "stdout",
          "text": [
            "a is a list\n",
            "a is a list or tuple\n"
          ]
        }
      ]
    },
    {
      "cell_type": "code",
      "metadata": {
        "id": "Fazvy8-p_gmj",
        "colab": {
          "base_uri": "https://localhost:8080/"
        },
        "outputId": "c9ed47be-ed6c-43e7-a61f-14dae46fe955"
      },
      "source": [
        "name = \"siva\"\n",
        "print(id(name))"
      ],
      "execution_count": null,
      "outputs": [
        {
          "output_type": "stream",
          "name": "stdout",
          "text": [
            "140698028008368\n"
          ]
        }
      ]
    },
    {
      "cell_type": "code",
      "metadata": {
        "colab": {
          "base_uri": "https://localhost:8080/"
        },
        "id": "zhUN_EMdopaE",
        "outputId": "d638dab1-11bb-4053-885d-7faede02c3ea"
      },
      "source": [
        "a = [1,2,3]\n",
        "b = a\n",
        "print(a is b) # is compares the object identity\n",
        "\n",
        "print(id(a))\n",
        "print(id(b))"
      ],
      "execution_count": null,
      "outputs": [
        {
          "output_type": "stream",
          "name": "stdout",
          "text": [
            "True\n",
            "140697959333232\n",
            "140697959333232\n"
          ]
        }
      ]
    },
    {
      "cell_type": "markdown",
      "metadata": {
        "id": "Kwq0uyRYpChh"
      },
      "source": [
        "> It is almost always better to use == for checking objects. The behavior of is is often unexpected"
      ]
    },
    {
      "cell_type": "code",
      "metadata": {
        "colab": {
          "base_uri": "https://localhost:8080/"
        },
        "id": "f2UruRS0pGri",
        "outputId": "670cb165-be17-4e64-95cc-4f9724bf83b5"
      },
      "source": [
        "a = [1,2,3]\n",
        "b = a\n",
        "c = [1,2,3]\n",
        "print(a is b) # True\n",
        "print(a is c) # False\n",
        "print(a == c) # True"
      ],
      "execution_count": null,
      "outputs": [
        {
          "output_type": "stream",
          "name": "stdout",
          "text": [
            "True\n",
            "False\n",
            "True\n"
          ]
        }
      ]
    },
    {
      "cell_type": "markdown",
      "metadata": {
        "id": "a8LDi9Aj_-L2"
      },
      "source": [
        "There are some more built-in introspection functions, modules like `hasattr(), getattr(), issubclass(), isinstance(), sys` module etc."
      ]
    },
    {
      "cell_type": "markdown",
      "metadata": {
        "id": "5gMvaxz2l2OI"
      },
      "source": [
        "### Assignment\n",
        "\n",
        "Consider this code fragment.\n",
        "\n",
        "```python\n",
        "a = [1,2,3]\n",
        "b = a\n",
        "c = [a,b]\n",
        "```\n",
        "\n",
        "A picture of the underlying memory operations. In this example, there\n",
        "is only one list object `[1,2,3]`, but there are four different\n",
        "references to it.\n",
        "\n",
        "![references.png](data:image/png;base64,iVBORw0KGgoAAAANSUhEUgAAAscAAAEGCAYAAACJqjiiAAAYPWlDQ1BJQ0MgUHJvZmlsZQAAWIWVWQdUFUuT7pm5ES6XnHNOknPOOeekSM7xkoMICEhQEFRUQFBQEVFBVJIkUVDEh5hQEZUgIoiKAUEB2QHU9/b9Z3fP9jk9893q6uqq6lR1BwBORe+oqDCYDoDwiFiKvYk+n6ubOx/+NYABBGgADpC8fWOi9GxtLQFafr//e/k2gvKi5aHUhqz/bP9fC72ff4wvAJAtin38YnzDUXwFAIyybxQlFgDsPEoXTIiNQjEO1RIwUVAFUSy0gQO3sOoG9tnClps8jvYGKPYCgEDy9qYEAkDe0Isv3jcQlUPeh7YxRPgFR6CsJ1Cs7Rvk7QcAxzjKsy08PBLFnCQUi/n8Q07gf5Pp80emt3fgH7xly2YhGAbHRIV5J/0/3fF/l/CwuN9jCKKVFEQxtd+wecNvoZEWGxjVHbod4WNtg2IGFD8K9tvk38BvguJMnX7xL/vGGKA+AywAwCQ/b0MLFHOhWCAizNryF107INjYDMWo72HH4Fgzx62+sB8l0v6XfDjRP8bI4Tf2pmyOtcGTHxfqpPdLZmWQv9lvme3JQY4uW3rCw/HBztYoJqN4LCbUweIXz1xykIH1bx5KnP2GzuicIyCAYmy/xYMIhcf8tgtRDwo2s/6FLWODHE23+iKevt6burGhOMQ/xtXyt55+/oZGW3Yhmf4RTr/0R0qiYvXtf/Gfigqz/cWPdPiHmWzQBVA8FBPv8LvvQiy62LbsxYCoWFvHLd0wTCHe5rZbOmAkgCUwAIaAD8Sh1QdEghAQPDTfMo/+2moxBt6AAgKBP5D6Rfndw2WzJQJ9OoBk8B5F/iDmTz/9zVZ/EI/S1/5Qt55SIGCzNX6zRyh4g+JwYAHC0N9xm70i/ozmDF6jlOD/GN0X1TUMrRtt/0Hjo/1NwxnhDHGmOGOcOIYDo43RwFiiT120ymNUMWq/9fqbH/sGex87iX2MHcc+2xmcSfmX5nzACoyjOhr/ss7nn9ZhRFCpShh9jBYqH5WNYcFwACmMIjqSHkYHHVsJpf5T17g/Fv/ty1+yiLJEmMhK1CWK/VsDsgRZ6Y+UDU/90xdbevn88ZbBn5Z/22HwD//5oW+Lf3Miuchl5BZyHRlAOpAWwId0I63IXaRzA/9ZG68318bv0ew39QlF5QT/x3jev8bc8FqMbL3srOzqrzYQ658Yu7FZDCKjkijBgUGxfHroae3PZxbhK72NT15WXhaAjbN/62j5Yr95pkMs9/6mRcoBoLZxVu/5m+b1AYCWEPS4Y/ibJtICAK08AANHfOMo8Vs0zMYDC6gALbpT2AEPenaJoRbJA2WgAXSBETAHNsARuAFP1M9B6DqlgASQCjJADigAB8BhUAaqQA04Cy6AJtACOsB10A8GwTB4DJ6ja2UavAML4BtYgSAID9FAjBA7xAsJQ5KQPKQKaUNGkCVkD7lBXlAgFAHFQanQHqgAKoHKoJNQHXQJaoOuQwPQfegZNAHNQp+hHzACk2AmmBsWgWVgVVgPtoAd4R1wIBwNJ8NZcCF8FK6Gz8PN8HV4EH4Mj8Pv4EUEINQIC8KPSCGqiAFig7gjAQgFSUPykVKkGrmItKMz/RAZR+aR7xgchhHDh5FC16spxgnji4nGpGH2YcowZzHNmJuYh5gJzALmJ5YGy4WVxKpjzbCu2EBsAjYHW4o9g72K7UP3zjT2Gw6HY8GJ4lTQveeGC8Gl4PbhjuMacD24+7gp3CIej2fHS+K18DZ4b3wsPgd/DH8e341/gJ/GLxOoCbwEeYIxwZ0QQcgklBLOEboIDwgzhBUiHVGYqE60IfoRk4hFxFPEduI94jRxhYqeSpRKi8qRKoQqg+oo1UWqPqoxqi/U1NQC1GrUdtTB1OnUR6kbqW9TT1B/JzGQJEgGpO2kOFIhqZbUQ3pG+kJDQyNCo0vjThNLU0hTR3OD5iXNMpmRLE02I/uRd5PLyc3kB+QPtERaYVo9Wk/aZNpS2su092jn6Yh0InQGdN50aXTldG10T+gW6Rnp5eht6MPp99Gfox+gf8uAZxBhMGLwY8hiqGG4wTDFiDAKMhow+jLuYTzF2Mc4zYRjEmUyYwphKmC6wDTEtMDMwKzI7MycyFzO3Mk8zoKwiLCYsYSxFLE0sYyw/GDlZtVj9WfNY73I+oB1iY2TTZfNny2frYHtMdsPdj52I/ZQ9mL2FvYXHBgOCQ47jgSOSo4+jnlOJk4NTl/OfM4mzlEumEuCy54rhauG6y7XIjcPtwl3FPcx7hvc8zwsPLo8ITyHeLp4ZnkZebV5g3kP8XbzzvEx8+nxhfEd5bvJt8DPxW/KH8d/kn+If0VAVMBJIFOgQeCFIJWgqmCA4CHBXsEFIV4hK6FUoXqhUWGisKpwkPAR4VvCSyKiIi4ie0VaRN6KsomaiSaL1ouOidGI6YhFi1WLPRLHiauKh4ofFx+WgCWUJIIkyiXuScKSypLBkscl72/DblPbFrGtetsTKZKUnlS8VL3UhDSLtKV0pnSL9AcZIRl3mWKZWzI/ZZVkw2RPyT6XY5Azl8uUa5f7LC8h7ytfLv9IgUbBWGG3QqvCJ0VJRX/FSsWnSoxKVkp7lXqV1pRVlCnKF5VnVYRUvFQqVJ6oMqnaqu5Tva2GVdNX263WofZdXVk9Vr1J/aOGlEaoxjmNt5qimv6apzSntAS0vLVOao1r82l7aZ/QHtfh1/HWqdaZ1BXU9dM9ozujJ64Xonde74O+rD5F/6r+koG6wS6DHkPE0MQw33DIiMHIyajM6KWxgHGgcb3xgomSSYpJjynW1MK02PSJGbeZr1md2YK5ivku85sWJAsHizKLSUsJS4pluxVsZW510GrMWtg6wrrFBtiY2Ry0eWErahtte80OZ2drV273xl7OPtX+lgOjw06Hcw7fHPUdixyfO4k5xTn1OtM6b3euc15yMXQpcRl3lXHd5TroxuEW7Nbqjnd3dj/jvuhh5HHYY3q70vac7SM7RHck7hjw5PAM8+zcSbvTe+dlL6yXi9c5r1VvG+9q70UfM58KnwVfA98jvu/8dP0O+c36a/mX+M8EaAWUBLwN1Ao8GDgbpBNUGjQfbBBcFvwpxDSkKmQp1Ca0NnQ9zCWsIZwQ7hXeFsEQERpxM5InMjHyfpRkVE7UeLR69OHoBYoF5UwMFLMjpjWWCQ2y78aJxWXHTcRrx5fHLyc4J1xOpE+MSLybJJGUlzSTbJx8OgWT4pvSm8qfmpE6sUtv18k0KM0nrXe34O6s3dPpJulnM6gyQjP+ypTNLMn8usdlT3sWd1Z61lS2SXZ9DjmHkvNkr8beqlxMbnDuUJ5C3rG8n/l++XcKZAtKC1b3+e67s19u/9H964UBhUNFykWVB3AHIg6MFOsUny2hL0kumTpodbD5EN+h/ENfD+88PFCqWFp1hOpI3JHxo5ZHW48JHTtwbLUsqOxxuX55QwVXRV7F0nG/4w8qdSsvVnFXFVT9OBF84ulJk5PN1SLVpTW4mviaN6ecT906rXq67gzHmYIza7URteNn7c/erFOpqzvHda6oHq6Pq589v/388AXDC60XpS6ebGBpKGgEjXGNc5e8Lo00WTT1Xla9fPGK8JWKq4xX85uh5qTmhZaglvFWt9b7beZtve0a7VevSV+r7eDvKO9k7izqourK6lrvTu5e7Inqmb8eeH2qd2fv8xuuNx7dtLs51GfRd7vfuP/GLb1b3be1bncMqA+03VG90zKoPNh8V+nu1b+U/ro6pDzUfE/lXuuw2nD7fc37XQ90Hlx/aPiw/5HZo8HH1o/vjziNPH2y/cn4U7+nb5+FPfs0Gj+68jx9DDuW/4LuRelLrpfVr8RfNYwrj3dOGE7cnXSYfD7lO/Xudczr1emsNzRvSmd4Z+reyr/tmDWeHZ7zmJt+F/VuZT7nPf37ig9iH6581P14d8F1YfoT5dP6531f2L/UflX82rtou/jyW/i3laX8Zfbls99Vv9/64fJjZiVhFb96dE18rf2nxc+x9fD19ShvivdmKICgFQ4IAOBzLQA0bgAwDgNA5bGVm/0qCBp8wOgbj0YK5mgEMAVJoPd2D8wOx8KjiBlyA2OCeYQNx9HjevGpBG0inviCqo26glREU0seo6Ojt2DIYxxgpmfZznqeHcPhzdnJzcezj3eZ309gVMhaeEBURqxQ/J2k2bYqqW8yBrL75YYVaBT1lWKUK1R6VMfV1jRYNSW11LSNdOx1ffVi9LMMjhjWG3UbPzSZNV03Z7bYZmlg5WEdbBNvm21XYl/lUO/Ygu76QZcHrs/cXrlPebzd/n7HW8+xnUNe3d4NPpW++/2S/QMC7AI1goSCycHfQl6F9ofVhe+PiIp0iFKJ5ohepbyM6YmticuOD0gwS5RMokqaS76b0ph6dFdWWsLu6HRKRnJm/p6TWZ3Zr/YSczXzovJrCkb2UxVqFoUfqCweKlk7tO2wR2n+keaj42XU5UoVO4/nVTZVPT+JqZaqcT61+/TZM/drl+v4zlnWp55vuvCpQb2x6NLHyx5X7jXbtDxq02yPvVbXMdZF3a3Q43w9ujf7RvHN0r7S/uJbubf3DOy9s39w/93sv2KHXO5J31sZ7rmf8kD5wbeHTx61PS4b2fVk51P9Z8KjxNH3z++PXX1R9nLXK69xwwnxSbrJ71NvXo9MD7y5PnPtbdts29zpd4Xz8e89Pxh9lFygW1j8NPq568vJr9mLQd8slmSWGZeXvo/96FmpXs1a8/9puC6wvo7OPw5woNFhIuhDIzpL6AD0ClZAY68vyE5kBI2aXmCjcGRcC96fwEEYJVZQBVLrk7RoHMlBtOl0J+ivM8wyMTMbsiSxNrB95JDmpHB18FDzOvOd418X1BPKEO4WWRVTEQ+ROC45uO2zNLOMgqypnId8oEK0YpLSLuVklRBVDzVLdS0NWU0BLWZtgvYPnfe6E3qP9e8YdBleNqo1PmqSa5pgFmTuZmFqqWolas1sg7H5ajtpd9++x6HRsdIp1znGxdPVzE3BndsD5/EBPek7PWt25ntFejv6KPqSfCf92vyLAgICNYPog94EXwspDvUPUw+nDZ+KaInMjXKLlkTXxVDMiVhKnEE8c/xMQlviviTPZNkUOOVJasOugrTw3U7phhnqmWp7tLJMs11zIvbuzT2ddyN/ouDnfq5CtSLnAzHFB0rOHxw49KYUPsJ1VPmYXVl4eUHF+ePDld9OCJy0rd5T03bq0xnp2uizV+qW6tXOp17oagCNepf2NPVdwV41ac5tudWGbze6ltnR2fm1W6TH4XpKb+WNazcf9832L93GDDDe4R+Uuav1l+WQ+72g4YT7OQ8OP6x+1PC4Y2TgycjT6WdfnyNjTC+EX6q+shwPnKiZnH0tOu3+Jmfm3NtbsxNzy/Pk98IfdD56LKR/Gv6i8PXg4pcl++UrP9hWsleXfyZszj8G0AMJYA3SQQ8a16tDsVALDMNW8Al4BfFE7mA0Mc1YVWwvzhY3hU8hcBJuEfdT+VJrkjhJP2kmyYO0V+lO0x9lKGTMZcpmzmEpYD3IVsVez9HK2cnVyd3F083bxXeN/6pAveBxoQLhOJHtorpiAuJA/LlEi2TBNmcpPqk56asy6bIWcixyE/L1CnGKOkpEpYfKx1WCVBVVl9W61LM1LDQZNEe1qrVDdOR1VnX79Yr1dxhIGCwZ3jAqMvYwETX5bNpllm/ubMFv8c6y2Srd2tKGxWbCtt4uxl7DAXa441ji5O7M5zzjctE1zk3DHXYf8Cja7rCDZcczz/KdO7y4vV54H/fZ4cvlO+p31N85gDHgXmBBkFEwQNdLfKhc6HxYbbhPBFfEk8iDUdbRhOjrlOQYhZj52NNxnvGs8fcS9ibqJC4nNSYHp/ClPEs9tMsxjT1tendr+qGMpMyAPduz3LI9cvz3xuVm55Xmnylo3te//3HhdNHXYqSE8aDAIdnD6qUGR8yP2h1zK/Mpj6zYffxg5fmqwRMfq4Vrkk4NnxGtTTs7ck6qPuv884tyDbmNL5uULxdcedWs0LK3daxd4Vp+x2SXZvfRnm+9jjeu9on2n7otNdA3GPqX0ND88K0Hlx7VjTQ+vT764gV4JTtR+zpnJn+u5QPtp9xFtuWrqy4b87/1H91GwSkDcHoKAOeTANh5AFArCYBwOQBkJgBsaQBwVAOwfhGAnh0DkMnFP/cHDRBF8+cAsBfNHAfAO4gMyUFOUDJ0HOqAnkOraH6nA/vAOfA5+B78FeFE9JAg5ADShkxiqDFKGC80I2vFvMYyYHWwEdiT2Mc4KpweLhHXhJvHi+ED8bX4WYI0IY7QTaQmuhPPU0FUrlRN1GTqCOoHJFXSCRoCDYXmJdmc3EYrRltGR0OXQbdEH4nmK74Mrxh9GGeYwpm+MWewkFmOs8qw3mDzYFtkL+aQ43jImcDFzTXMvZdHnxfwXufL5rcSYBd4K3hNqFg4RMRYVFiMJLYoPinxQPLmtnapy9KNMg2yTXKt8j0Kg4ovlT6pYFSZ1QTVpTTkNGW1JLT5dBh0Yd2Pes/1uw2qDXONIo1dTfRNZcx4zGktEItlywWrOetpm0nbCbvX9u8cvjiuORNdWF1F3dTcrTx8t6fsOOzZiN5j733Ivgp+bv67A2oC+4KmgtdCGcL4wyUipCOlosSjBSgsMcSYH7Gz8RwJVolZSd3JP1ONdh1Me5dulXFtj2JWW47Z3qm8vQX8+y4W6haNFxcfdD2sdcTsWEJ5XyXnCXI1XPP99OfaD3Xz9fMXPjYsXlq7QmjmbJVpN+xw6wruie9Nu5nev+t2/J2wu15DBcOtD+Ye8z/Z8azq+ZuXcuMZk4+nJWdyZ2fmTT6c+0T3JWXx/XLAj5m1qM3zgxZIAzsQB8pAN3gNUUPykAeUhWb8g9BHNLtXh73gXLgRfoYgaM7uhmQjl5BXGBr0VAnFlGP+QvNvOawftgKdd1qcJS4PdxtPhbfCl+BHCcIECqGXyEIMI/ZTCVJlUk1Tm1O3kyRJVTTMNPvIOHImLaDNoEPocunJ9EcYBBgaGHUZHzOFM+OYq1n0WCZZc9ik2EbYMzhkOcY5D3KZcmO4e3n28BrzkfhG+KsFYgSNhXiEloVHRFpET4gdES+WKJQs3FYiVSZ9Ruaq7G25l/JLisxK6sq+KoWqnWofNYQ1d2qVaz/X5dHz028wWDEyMi4wGTTDmqtY+FjmWJ2xvm4zartgj3FgcZRw0nV2c4lxLXK76D7k8WkHi6fWzgCvYu8unw9+gv6uAUWB/UFrIYqhwWGV4fcj4Sj5aC9KYcy12LfxtAkqiV5JBcmtKTO7WNPMdu9Kb8qY2yOYtSO7LOdpLmueW35lwev9UoWJRf3FbCWRB+8eli0tP0o+lldOqjhcKVp162RwDelU0xn3s5i6xvqdF+gu3mhMbJK5/PZqbUtwm1T75472rswey17WG1N9jbdSB8wH2e8ODzndm7qf/JDn0dBIwVOHUZEx6MXkq/6J+qmiacqMwyznXNW86PtLH7UXhj7v/PJxMX2JdvnYD56VqjWOn0Wb888K9EAUqAL3wDo69wHQMagP+gILwPZwFtwCzyP8iCu63wcwCEYbk4xpwSxilbDx2E4cFmeDK8fN4TXwB/BvCYaEU0QCMYo4RmVJ1UOtgs60PukujRvNHDmNlpm2kc6G7hN9KYM2wyzjcSYHZhrmOyx5rJZsDGyj7Kc5KJx6XIxc77j7eU7x5vCF8jsK6AnKC4kK84pwinKI8YlLSqhJWmzzlkqVLpPplH0tT1bQVKQoXVT+qKqklqH+QFNMK0v7ja6lXouBpOEpY36TGjNx86uWhlZPbaLsSPaNjh7ofu10i/dQ3L7s2eO138fTTzmAFPgsuCzULGw2IilyNTqWMh1rG3c5gT6RkvQoRT31ZBr17sT0mUzXPXez9XPacxXzmgu09g0UuhW9K047SH+oulTmSNsx7bLuCs3jzVXYE5YnD1e/OiVxOuFM31nmuoBz7efJF/wudjQyX4pqGrwihmY+71vt2lqu8XTkdH7odum53it54/DN9f6QW48GdO/U32X5K2bozjDn/aAH5x/OPRYccXmS+fTsszuj089XX9C95H0lOa40oT6pPaX7Wnda+436jMpbuVmJOYF35Hez823vEz4ofZj/eHrB7RPVp47PAV/ovrR+3b4IFqu/6X+bXNq9zLXc9t3p+8KPfSuiK72rnqvLawd/yvwcWPfbmP+YAAX5zesDIukDgH25vv5FBE0qSgBYK15fX6leX1+rQZONMQB6wra++2zeNXQAVNT8T99f/gtoYtJ9SP9XewAAAgRpVFh0WE1MOmNvbS5hZG9iZS54bXAAAAAAADx4OnhtcG1ldGEgeG1sbnM6eD0iYWRvYmU6bnM6bWV0YS8iIHg6eG1wdGs9IlhNUCBDb3JlIDUuNC4wIj4KICAgPHJkZjpSREYgeG1sbnM6cmRmPSJodHRwOi8vd3d3LnczLm9yZy8xOTk5LzAyLzIyLXJkZi1zeW50YXgtbnMjIj4KICAgICAgPHJkZjpEZXNjcmlwdGlvbiByZGY6YWJvdXQ9IiIKICAgICAgICAgICAgeG1sbnM6ZXhpZj0iaHR0cDovL25zLmFkb2JlLmNvbS9leGlmLzEuMC8iCiAgICAgICAgICAgIHhtbG5zOnRpZmY9Imh0dHA6Ly9ucy5hZG9iZS5jb20vdGlmZi8xLjAvIj4KICAgICAgICAgPGV4aWY6UGl4ZWxZRGltZW5zaW9uPjI2MjwvZXhpZjpQaXhlbFlEaW1lbnNpb24+CiAgICAgICAgIDxleGlmOlBpeGVsWERpbWVuc2lvbj43MTE8L2V4aWY6UGl4ZWxYRGltZW5zaW9uPgogICAgICAgICA8dGlmZjpPcmllbnRhdGlvbj4xPC90aWZmOk9yaWVudGF0aW9uPgogICAgICA8L3JkZjpEZXNjcmlwdGlvbj4KICAgPC9yZGY6UkRGPgo8L3g6eG1wbWV0YT4KmiDR3AAAQABJREFUeAHs3QmYNEV5B/DWmJiYGI1XIl6giCgCgsgl4CcCooConALKB5FDDhEPQEBBVMSLS5BDUFAQEUGQM4IB5RAFQQUUEDmjEA884hGjplO/yldrf8PMzszuzO7M7vs+T2/3TnfX8a/qqn+99dZbD6uTVCGBQCAQCAQCgUAgEAgEAoFAIFA9PDAIBAKBQCAQCAQCgUAgEAgEAoH/RyDIcdSEQCAQCAQCgUAgEAgEAoFAYBECQY6jKgQCgUAgEAgEAoFAIBAIBAKLEAhyHFUhEAgEAoFAIBAIBAKBQCAQWIRAkOOoCoFAIBAIBAKBQCAQCAQCgcAiBIIcR1UIBAKBQCAQCAQCgUAgEAgEFiEQ5DiqQiAQCAQCgUAgEAgEAoFAILAIgSDHURUCgUAgEAgEAoFAIBAIBAKBRQgEOY6qEAgEAoFAIBAIBAKBQCAQCCxCIMhxVIVAIBAIBAKBQCAQCAQCgUBgEQJBjqMqBAKBQCAQCAQCgUAgEAgEAosQCHIcVSEQCAQCgUAgEAgEAoFAIBBYhECQ46gKgUAgEAgEAoFAIBAIBAKBwCIEghxHVQgEAoFAIBAIBAKBQCAQCAQWIRDkOKpCIBAIBAKBQCAQCAQCgUAgsAiBIMdRFQKBQCAQCAQCgUAgEAgEAoFFCAQ5jqoQCAQCgUAgEAgEAoFAIBAILEIgyHFUhUAgEAgEAoFAIBAIBAKBQGARAkGOoyoEAoFAIBAIBAKBQCAQCAQCixAIchxVIRAIBAKBQCAQCAQCgUAgEFiEQJDjqAqBQCAQCAQCgUAgEAgEAoHAIgSCHEdVCAQCgUAgEAgEAoFAIBAIBBYhEOQ4qkIgEAgEAoFAIBAIBAKBQCCwCIEgx1EVAoFAIBAIBAKBQCAQCAQCgUUIBDmOqhAIBAKBQCAQCAQCgUAgEAgsQiDIcVSFQCAQCAQCgUAgEAgEAoFAYBECQY6jKgQCgUAgEAgEAoFAIBAIBAKLEAhyHFUhEAgEAoFAIBAIBAKBQCAQWIRAkOOoCoFAIBAIBAKBQCAQCAQCgcAiBIIcR1UIBAKBQCAQCAQCgUAgEAgEFiEQ5DiqQiAQCAQCgUAgEAgEAoFAILAIgSDHURUCgUAgEAgEAoFAIBAIBAKBRQg8IpAIBAKBQCAQmF0E6rqufvvb31bf/OY3qx/96EfVL37xi+of/uEfqqWXXrpaY401qr/+67+e3QQOMfY//OEP1W233Vb9zd/8TbXUUktVj3zkI4cYWwQdCAQCgUB3BIIcd8conggEAoFAYGgI/Pd//3d12WWXVYcffnh11113Vf/zP/9T/elPf6r+6q/+qvrnf/7n6u1vf3u17bbbDi3+2Qz4j3/8Y3X99ddXO+20U/W3f/u31dZbb13ts88+s5mkiDsQCAQCgSrIcVSCQCAQCARmCYE///nPWWu67777Vv/xH/9RveQlL6le+MIXVg9/+MOrn/zkJxXySJs6V+XBBx+cGBQYDNx5551zNauRr0AgEBgjBIIcj1FhRVIDgUBgbiHw+9//vrrqqquqH/7wh5kUH3PMMdmcQi4R4//93/+tHvvYx86tTC/Kjbxfeuml1bXXXlttvvnm1Re/+MWc3zmZ2chUIBAIjBUCQY7HqrgisYFAIDCXEGBCceutt2Y723XXXbd6+tOfPpey1zEvbKzvv//+6thjj62e//znVxtvvHEmxx1fiBuBQCAQCMwgAkGOZxDsiCoQCARGA4Ff/epX1SmnnFLdc889OUGPfvSjq9e85jXViiuuWLn35S9/OS+Ou/nmm6snPelJ1UYbbVRttdVWD0k82+Dvf//71Zlnnlndcccd2TTi7//+76tnP/vZ1VprrVW99rWvzQvNmi/SBv/0pz+tbrzxxurnP/95dcstt+Tbv/71r6sLLrhg4lEL1J773OdWT3va0yZ+m+4FUirNzt3kYQ97WLZ7ZuIxaJHX0047rfrxj39cvetd76rEFRIIBAKBwKggEOR4VEoi0hEIBAIzhgACfOKJJ2bPECL9p3/6p0yCH/OYx1T7779/NnX4zW9+kz1IIKnf+973qpVXXjmT3pJIYRx33HHVZz7zmeo///M/q7/7u7+rnvCEJ1Q/+9nP8iIzRPfCCy+sDjjggGrZZZctr1WI4fHHH1996lOfqtgc80zBxOD000+vzj333InnxLv22mtXn/zkJyd+m87FL3/5y+roo4+uzjnnnJ7IMVLM3vmEE06onvjEJ04n6sXeRc5py+H2spe9rHrxi19cXXPNNYs9E/8EAoFAIDCbCAQ5nk30I+5AIBCYFQR4gUDOuE1DYj/3uc9NEFqa4A022CATU0TuiiuuyLawiG8RxJnmk4cJJHK//fbL7yDITCW4JnPvvPPOq373u99lgot4k0c96lHVeuutl4n3f/3Xf+V4b7rppqwlthivCO8NyPGghHZWWqW9F/Esu+dHPGKw3YTBAHMK2us3v/nNeVDRS3rimUAgEAgEZgqBwbZ6M5XqiCcQCAQCgWkgwJfuSiutlDWjtJgII5LMrzCtLvOKf/zHf8wE7hWveEUmx4XcFs3nhz/84YqP3t1226164xvfOLFwDul75jOfmbWtXJRdeeWV1Sc+8Ynskk2S+SxeZZVVqmWWWaYq2twf/OAH1Utf+tJqjz32mMgVMsvX8aBEWDvvvHNe/NZLmOKHExwGJdzWfe1rX6v+/d//vXrDG95QLbfccj1psQcVf4QTCAQCgUAvCAQ57gWleCYQCATmHALIH60oF2K0pGx7aXuZTzQ3omglqAgeMwD2sp5FaJseJYRLg2yh2atf/erqiCOOyGSQv2JSSCdTBUSZjbL4xcO+eVgin8IfZhyTpd2ggXu6I488snr84x9f7bLLLjn/NO0hgUAgEAiMEgJBjkepNCItgUAgMCsIIKg8JtDodtuNjraYGQR7YRrfLbfcsu2CMvfZIjNNuPvuu7O5BTvi2RI78H3pS1/KdtC9pAFh5z3jne98Zybwvbwz2TMlfgsXmaG0W2iIQBt8MEV53OMeN1lwcS8QCAQCgaEhEOR4aNBGwIFAIDAuCCCCzCa6EWP5YVbB24R3aIw72eTS1CKATDVWW221nsIeJl7FpIE/4V6Ehlvad99994GQY6Yrl1xySTYlkQbmJoT3Dhpl6eMlhLadp48DDzywl2TGM4FAIBAIDByBIMcDhzQCDAQCgbmMADK8xBJLZNOLddZZJ7simyy/SDTNNLI5m4L824nPFs00tN1EetkbNxcidnun233adJp3G3808UCQ3bNAEknmOi8kEAgEAoHZQiDI8WwhH/EGAoHAWCLAHvl5z3teJnl2tkMeuy1a64WMDhsMpP4Zz3hG9dSnPrXnqBB7xyCEnTF7Y9tkN4Um/oYbbqgOOeSQ7NqNGUfT9V3z2bgOBAKBQGAmEJhVcqxRvPfee6v77ruvetaznpUbbbZm119/fcWNEfu/QTXMrWDOZtytaYn/A4FAYHwQ4IqNf14bdNgk5NBDD802tM1FedqXO++8M5sJMCWgaeYvuKktnY0ci7+TGciw08NkhYcObX1TLMhjl80M5V/+5V+q1VdfPV83n4nrQCAQCARmEoGHJY1G9/m1IaXI7lAHHXRQ9iO6xRZbZGf51113XbXddtvlzoRT/GFtpzqbcQ8Jzgg2EAgEekDAtP3ll19enXXWWXnzDYvqLLBbfvnlM+EVRDEpsNiO6USr2LTD4rY999wzmwPwTGEzCx4oaEa//e1vZxMBrtoQv4ULF1Yf/ehHczDe5crsjDPOyAvP+FVGpJHtpsYU2WYCsWDBgtbo58T/yuGrX/1q9dnPfjZjxsUbF3h2FeTmDR4hgUAgEAjMBgKzqjlmZ8YJPu2xlcw6JIeOwr1eFsdMFbTZjHuqaY73AoFAYPoI0FR+97vfzTvFIa60vM4IMqJKtEPMABDmduTYzNYrX/nK7FHBhhaXXnppfl+bxaYW8bPRyKabbpqfsyCviLhsGc2vsmfFz97WLny33357eSyba7zgBS+Ys+RYOcDcRinwgsNdd92VdwmEeZDjiaoQF4FAIDDDCMwqOTaNZtvWcmZCQVuiY3Lt3rCkxFnOMxn3sPIU4QYCgUB3BCyO23777asNN9xw0oVpzA9M87cTbdSjH/3o6iUveUn1nOc8J3tboDHmuk0b5j3+hLVh/kemi5T4X/7yl3eNH8GeqwKH17/+9dX666+/GA7c3T3lKU+Zq9mOfAUCgcAYIDDr5Jh2BkHl01KHo2HUmeh4mo74B42lOGcr7kHnJcILBLohQDP5q1/9qvrZz35WMSkyU0Nb5zDNX66b/zd/977vEclz2OSieW73e/F04Dtjpzsq4ttHXjsR337Sqb1i+sVlGy0zbShSTYPcybZX/EjvXCa+vWAYOPSCUjwTCAQCs4HArJNjpFgjWRy+61DY7dG4IMvDkhJnOYtnpuIeVp4i3PmLAPKK+Nq1rd1Bo4nsFjMCzzMtah6WHzT/b167Z3al01Fme5r3fVtIIgLJjZhFae0OJNVgeJxF/g0ehjmgH2d8Iu2BQCAQCIwTArNKjnWapiRpXp797Gdn3HQuVivTNk0mOmsaMHZ7FtSwW+YjU4csLLZ+G2ywQUeCPZ24J0tX3AsEho0A7S4XYmxU2cjeeuut2Vbz17/+ddZc0l62Hkixb0a9N/C0VbFp7W4a4KIRNnBsp11u9xsS7njwwQcraRKv71Lc7Q5xMEHQFnCRxtbUNdI8zAHysMspwg8EAoFAIBAYTwRm1VuFTpPrNpou05I6SYsyHnjggdyZPvnJT+6IKk3YHnvsUV1zzTW5I6YJM41Le0ZbhXDvuuuu+Zl2gUwn7nbhxW+BwDAQUK/tHmYBmcMCpttuuy3vMubbKUQUSSU0tL4bB3JZzq4dZmgQVGS1qeXtdF00ws40yb6bpkZ5smvfMvMN36pv+v7778/n5rW8WZSGfCPqDiYYiLu0r7DCCvlgsoAwj5J5xjDKO8IMBAKBQCAQmH0EZpUcTyf7tm+125MO18KWlVdeOXf8/j///POrj3/849kG0DalSy655HSiincDgRlDABlWh/n6dtx4443V3XffnUkmMlxshRFc/mKLptVsiXrOXr9oZ4tJQzn7HQmdSUGeaa1pssu5eY3UGxzThCP9RROOQEsrklzIsrxxmfbCF74wHwiz+yGBQCAQCAQCgcAgERhbclw0zMiETlMnqTPVAetgN9tss+wm7hOf+ES1ySabDBKzCCsQGBgCNLEIrx3Crr766urrX/96dccdd1S/+c1v8uGeOl60qAihw2YKtMSIY9G4MkmiER4nkX/fLJJMC14GAMgxLXk5mI64J69MQhxMr1ZaaaVqrbXWyqZYBgthhjFOpR9pDQQCgUBgNBEYW3IMTgSZVg2hMHXL4X7RMvGd+Z3vfKd6z3ve09G0YjSLJFI11xFACJFfJkH84yLFzAvY5/L7jQzb5rdoSBFAW/6Wuu3MBIkpxFwVhBkZLmTZt40gf+tb38oHExNYGRRbzMeOmvacW7CXvvSleTONIMpztXZEvgKBQCAQGC4CY0mOkQuaJdu2fuUrX8kuqnSmpnB1iLRnOlWa5P333796+9vfPjAU2UdeddVV1ac+9alq6aWXzgeNlYOXjeiQBwb1nAvIYM4mD+ecc05lS2F+cblXQ5RpQm0Useaaa+Yzclw0pAgg04j5LL5t2uWiUUeWaZWLth1x9t2bRaJRZqtspzWLcmnYQwKBQCAQCAQCgV4RmFkDxF5T1eU5XioOPvjg6gtf+EJeZPTmN7+5WmWVVXLHiIDwXnHqqadmDRMiPUhBjr/5zW9WbJnLSv4yrf2EJzwhk+QmabYdanTOgyyB8QtLnfnGN75R2Q7dFrns5WmJLSB92cteVq233nrVqquumkkdLahjvpPh1lKmJacxd/Bs4bu2QA/5NcC455578pbQBsu2brbTGuK81FJLZZK8+eabx8YSraDG/4FAIBAIBAJtERg7ckyDZAHPmWeembdXpcE1nYpQ0BzpNC1MYlJhCnbQYjGRhUNlyrcZPk21RVRN0qwz5yWAZrmQZmeaQfdC5i4CbGiRtc985jO5XiDFiLLFo2zi11133TzbQNtJSxyzDr3XBVjRqDvYY/u+mKHsuOOOWTvPrOrCCy/Mpiu+19NOO63aeOONq2233TZ/h73HFE8GAoFAIBAIzDcExo4cM5+wsh055a4N0UBKi+g02WyySRyG0BK/8pWvzMTWwilpue+++/KiIlrrMu1b4pYe/mjZRRfS7IwMcV+HKBfi7Oy30BoW9MbzjBRfdtll1Sc/+cm80I57QZpP9rBbb711JnGm/mmO57Ld8EyWnm/GzA1ci732zjvvXF100UV5IG3BI23yueeeW2200UbVwoULgyTPZAFFXIFAIBAIjBECf2GVY5JoZIKmrSzGY+LATpMgzuwQjzzyyDylynXVoAU5fsUrXlGts846EyvsLQyyMBBZLgfSzC66uLKSNlPpRZDmW265JRNmYSLMzjTgSybNd9EyI8wO2rEgUgW90TybVbj22muzG0GDIZpiHiS23HLL6nWve13e3AKBU84hw0HAdwVz34vtmX07bI+vuOKKrMFHkm0YdPHFF1dMLWia5/s2zsMpiQg1EAgEAoHxRWDsFuQxm9C50cAxm2DTu9xyy+XV/H5HOJHVpzzlKZkoc3tl9TqC8qIXvWgoJYUAmy63YKi4pKI9tGgISS6E2Zn2iiaxkyDAOveiZUakHAYEOvpCmp3ZUyJbIbOLgJmKu9Pg6GMf+1j2sW1QRJPJdOL1r399drumnIYxWJvdnI9H7L5PMzp20Lzyyiurk046KbcdtMx249tpp51y+xDlMx7lGakMBAKBQGDYCIwdOQYIIsoN1iGHHJIXOOnUEErmFQjw7rvvnk0rTJ0yv2CqcPDBB1fbbbfdsPFcLHykqRDmcpYebruQ5kKcLSBErpD6TsKeuhDmcmazzENG0zSjkGYa6JDhI8AP8dlnn52JsXI0Q2BmYZdddskbViDFYSYz/HLoJQYDaySZGdSXv/zl6vjjj8/foIG0maB99tknl1kvYcUzgUAgEAgEAnMXgbEkx4oDQdbJIZg0Quw3aVZtj2sBHGJ65513ZvML5MQ0q3ujIExCioa5kGYky0JD2uVCml3ThnumkxgQFJOMQprLIiULFZvaZjbangmZPgK0kcrmAx/4QHXBBRdUPKiYwdh7772rl7zkJXmqPjSR08d5GCEoOwNR3xcPIhb1GtTYbXC33XbL2n6D0ZBAIBAIBAKB+YnA2JJjxUUThGgiykgi7TGbw3EUedFBt5Jmmi4kTEdeDuSZj1wDgHYCAwOCVtJsESCC3DTNQJ5tMBFkoB2S7X9TTkx63vnOd+Yz7HbYYYc8PQ9fg5OQ0UfA98Mu3LqFD33oQ9leXPmxRT7ggAPCBePoF2GkMBAIBAKBoSAw1uR4KIiMWKBIc6s9MwLNtyv75UKYnWnK7RTonXZSFisVDXMhz/wws19ukma23BYqjetgo13+B/Gbsrj88svzFDwziiXT4kkmO+zaYxOYQSA8s2GU70tZnnzyydUJJ5yQPcnwaIEw86kcEggEAoFAIDC/EAhyPKblbWq4mGSUM3vmBx98MJtlFNMMnT4S/Ytf/KJjTi0CbBJm1+yZmaHQLDdNM5BmW/XOR0GMeT2w6Qxtvo07DjvssGrFFVcMn9VjXiFoke+///68uY/Bjv8R5KOOOioWvY552UbyA4FAIBDoF4Egx/0iNuLP69RbTTOQZhrlomUuxBlpdq+TlEWAvGUU8ow00ygXLXMhzjSos2VOQPtnsDBM0xCmFDZ44TsXjhZwHX744XmXtqaf7U5Yxu+jj4B6ZBDJhtyW88p8iy22yK4hY8Oe0S+/SGEgEAgEAoNCIMjxoJAc4XB0+mURYJM4WwRoMWMhzeVsoSOfve2EmUVZBFjMMpwRY6v+C2l2RpzZcA57YRqXeZ///OfzVsJI+qAF8Tag4BMXQV599dWrY489tlp22WXD9/SgwZ7l8HwrTJZsFvLWt7412+7vuuuu2XQmTIxmuXAi+kAgEAgEZgiBIMczBPQoRoMIIMHFLINvZtdlU5OiYUaaXZt2ppluJ4gDElw0zIU4cylnx7JW0sx7yKA0vcjMMcccU1166aXVvvvum12ptUvjVH/jl3q//farPvvZz+atyu18t9JKK80YMZY/HhUMZJrCVpwfZfg2xfOnnnpq3oSGBw1bJvcqBgJmGc4555zsM5zbQeFzkfia17wmL3rtNSxmKLZxt/GGs0WkPMk8//nPr7baaqt8XcKy8BQh9VxTLCJ99atfnU1Xmr8P89p3wTzJtt/K3aCP/TG/1SGBQCAQCAQCcx+BIMdzv4z7ziGChDQXsly0zTS0Fv0Vssye2f/II0LRTpBmXkSaphllUxP2y0XD7Oz/qSxqk1aL5F71qlflMN7whjdku+BBmHnAAFHk4kt4xx13XLZFnUlTCi7+7LDXuiW6AQYS3Lq5jecR4ltvvTUPFJD5XoSJzfnnn5/tbJWr/5kWKD925lzUvec973kIGe8UNjJsdzozEWYplBMvKnDkNo1HiJe97GX5dXXoHe94RybIzfD4if7gBz+Yw2n+Puxr3wAc3/e+9+WFeuzLzU4gyiGBQCAQCAQCcxuBsds+em4Xx2jkrrlAr5kiWuMXvOAFi9k0I1B8/BaTjKJtZs9Mg4k0F810Myxa429/+9uLuZtDmpGhomUu9sw8adCSdhKEi09nJhy33357Jnc333xz9e53vzvbBHd6r9vv0k6LesQRR+R8IKjrr79+Nivp9u4g7yNqtPkIJlK58cYb5+D59qaJbRXppok1mJnMprz1PdubI9LXXXdd9lKyzDLLVHaR+973vlfdc8891XnnnZfJrc0zetH6M+XhKs0udMIS/te+9rWsAWfbi3gyTUE4lf2GG26Yr6UfMT3llFPybARSPdPiGzD4eNOb3lRdddVVGYMTTzwxDw5mOi0RXyAQCAQCgcDMIhDkeGbxHuvYECILk1oXJyFBq6yyykNIMzOMQpYLeUayaGMRbcStlbzRyLLrLWYZzuJDVApZLtpm9sVIFe00omiRnHiYAiByd6ddB9mN0l5OxV5U2i655JIK0RbnHnvs8ZC8z2SBwqZsNCJeBG6QOyGWMuGWjnmKnSXFSYv83ve+N2+9zHTF7nJ2AewmFm4yRUHglZPwkd7TTjutOvroozPh/Pd///dsGuL+K1/5ymq99dbLz914442ZHHeLY5j31XflzjuJmQMzCOzOW81YhpmGUQnbwOxLX/pS9Y1vfKPvJD32sY/NO0aafbB992WXXVb5dg08QkYLAQNRPtzVdW4MzeaE/D8CcwkbfbC21/dIsfSv//qvUcwtCAQ5bgEk/u0fAQSKbaijCO0fLeeaa645oTn2QepkuUFrkmbXpt6RbAetp6MIYkt7acvwYtOMTJmeR+AQGOeiXRa3eGzuYKMOGmreB8r9Em63M02nqXRmBextZ5sUwUH+aXOHIcKmvbUJBhMXGnlCswtHGmXaaOdeyLHwmHyoH0UQZf+z51UfDDxIk+gj0f2WVQl/0GcDs3XXXbdaYYUVsvYcQdxzzz0HHc3Ih2f2hwbdjoL9ivrDxtz3iniZnVAv5hI51uaY3YGRdsIgdhyFGZW29qSTTsqkKcjxX0qxHTbjWu7Wgxjo+hYplXohx/Jqllg/rD00wJ3L8pdeay7nMvI24wggcsiVg1a3iA9Mx4EYFXML14goTW/RMDsjzQ888EA2adAwOTxXRBy33HJL1koisMwPmoJoC4MZwPe///3qXe96V88Lu4qWUwPC3zPtMwI3l6Vo+OS3mVfYMn/Q6ZeBTS84KJ8mMfYObSwNosGNAYzzKIs8sIPfZJNNsk9rMwnzkRxbbMukqvn9KTedLFv42267LQ+Omfy0lrn6ZIbDt++bN8BqDn5Hufx7TZtZpi984QvVIYcckk2Izj777IHO6vSajkE8R0PKJK61rAcR9riH0YrNuJa7b1G/q5y1w72I+qAvtVmSwe3nPve5xfqJXsIYp2eCHI9Tac2BtCIbyJajKYit0ajOsxBnZ7aprVpm0/xGsD5wnbOjkwjXsxdddFHW/Jki32abbbrazArzpptuymHTfI2rJqgTLu1+R1zZfLcTZNmAwXk6Wl240uSzRUaabKAy6kJ7TLvCtMQiVIsHO+E06nmZavpoffl8ZvrSFESXv2/k2IwGO3IzBk1Rr9xrNaFqPjPu174LAz312iCytX0b9/xF+tsjMJ/KXV5928wWS1/QHpW58WuQ47lRjmOfi9LI6GCaO/D5CLlNa2qZkWYfaJM0Iy20zZ5rlTJKRsoOOuig7C6MTS2NYCehpUbCacyYbQzbV3OndIzC7/CjNWD6gigyuehHlCHPFQYo1157bZ6Wo11EONdee+1+gpqVZ6XVYk/aT3UPDvONHPs+zSw4muJ7LeZUSPASSywx8rMBzfQP6rqYJLHJVzeKSdKgwo9wRhOBQZW7fosbS23NC1/4wpHMrAEy16H8/D/1qU+d0TTOBj5Bjme0iCOyfhHQ4fooHU1hMsG9lo+GrZ+FBd1sGJE000hMNZhZTEaOPUsrVrRezbjn2zWNHy8TtL5shnns6Ee8x9WeKWdlBVuL/vgOHpb9dD/p6/as2Q6DI8TQoEm9CAkEmgioIwb1q622Wp5d8X/I3EdgEOWuD/u3f/u36iMf+Ug2/RtV1AyQLdI0+NMvzpTMFj5BjmeqhCOegSJghE2TR2vFZoq/XySsVXzERrm0lI6VV145EzJT+iHdEaA1NpjgxozWmDcJbtn6keKKTjhEI8tO1Yr4vfbaa0Yb2n7S3fosLEIGh4BBF1JggQ9TFd+m+sX1X6vAnnmUOmOdgefNYKyxxhp5cWghowbNTDzOOOOMTFZ32WWX3C588YtfrL7+9a9n23lmVUylSK/htqan9X+2qGam+Ak34HvLW96SH/E7jeBZZ52VZxwM8p/znOdUL3/5y6vll1++by86BpY2A7KwkbtMgzUzW8y+rAtoClIB2yuuuCIPanfYYYfsKcRAF348DG2wwQZ54V3zvea1gaBFWwa1wrewsinaXLNBNObMrbbffvtMoJrPdLqeqbwMqozb5aNTuXu2l7JXRmbU9tlnnzwbarMn5UNKPSp1O/84yZ9+8GwGow6VOmq2lDbct2jzpaaGuJT1V77ylfz9+Laa0i/Onqes8s0wYTQjZyZKPaOAscZBnIPCp5nWnq5TAkMCgbFFIHWYdeqI6mTjh7nkw3Wamqr33nvvOi2MqdPq6zp1KHVq4OtE1HrKa+oU6rSAr04fa506057eGdZDqdGok2lJnchpnVyJdY0mmTDUqeOrUyNXp86s6/OTPZBsvuvkqaJO08R1Mi2oE8GY7PG29xJhqdNCvjot4KjT6vc6aR/qRJDrRBLqiy+++CHveF48ytOzieg85JmZ/iGZ7NSJ2NSps6jTjn8zHf3Ixuf7S3b8uawSWa0T4e2YVt9UMmuq08C2Th1g/ba3va1OXmbqpJHP2CbXf3WaUaiTB5PFwkgko04LY+vkIaVOMxd1WuCbv4U0wK3TQC3XT982SWSjTh5F6qTFrZM9e51miOqddtqpTq4g6zSQzvUpLRqs0w6IdT/hLpagNv+kBYZ1WqhUS1Oa0cpPSMsFF1yQ0yiP2hJpSDNWdZqartNsSpuQOv8Ev4997GO5LYCbbyNp8TKGiUjUhx56aO17LZKIR33YYYfViWTVaVfKOhGw/A0XvGGZBiN1GmyUV2r5+PjHP14nQpa/z/L9CyMtwsrf8cTD6SK566yTHXqt7JKXm4xp836n65nIi7gHXcZNbITfrtz93kvZ+1bSoKn23cBbm6h+qLsOfVg//VU/dUP9Tx6ccpzi8h05q6PaOXUjDeDqNPCRnSzJtK7+6Ec/mutcIq/l53zuF+dEyOvksrXedNNN62SKlduAErfvI204Vev3BoXPYont8Z/QHPc0hIiHRhEBmqcLL7wwa42NdhcsWJC1w9zHGfHykuFwr19hM8ivcvro88YiNFK01fNJiqaAWydaYzsPsv/uV2jvaersYEh7TzPAdRA7ZJpA7uNGWWhWaFTYG6dOo1pyjrswGnZZ0HDdnTzT0BqbObAok4ZTPaPd5VWGprVM3dqIxzbePMeoRzbjMXvx1a9+NWss+c3mypFZVer38jdrIS+Nm5X1TKhoi2lc+XY1NWzWyUxGr+H2gonvRby0YSQRwBy/uqPO85NOaFrl07O9imftFHlK2hhH+DCzgFl+ad34hpcfmyDZxVOb5546S+POO0gaiGZ/07CDN4yvvvrq6sADD1wM72aazMzxQCJM6zpgza0jkV9bw9NMax94dOnF1nom89JP3Wnmu5/r1nL3bi9lr12xdsYuoeppIoe5LSztC/OFXrTGU8Gz5K/M6jEZM7PAN736xNuK78sanTPPPDPPCqhPNN3iM5PQlH5xVldpy9VDdUYd4/pVuOoyr0hlbdF08Wmms6/rlOGQQGDsEEgdbNZipO2M6xNOOCGPQtM0Y9YIGZVOV4RPQ2g0S0uTfPtON8gpvz8bmmP5Tx1t1oLRxNMipAZtynkoL9KEpE42aypoEF/84heXWxPnUdMcp86gTgQiz04kAlDDJuT/EZiK5piWLBGAOk2X1jSItE7qeNrRMmvQ0o6Yddr6PEdAI3zUUUdl7BMxrtOUbp064poWS/1MnXedSHTWaiaiUacOtU4u1SZmkNLAq07mDrV7iZDXaQOSOnX+eRapn3C7lXerxtXzZqvSQD23Idttt11Os3Sb2dG2JNLcLdh8v+SJZo/W9+CDD67NZKQNdfJB0/6BD3wgx0PjlzbYye/BFj7whh2NOo2h8OBN0+gevGnYSbt8wI72Hc5pun2iHfD71ltvnWcC5NN30k1mMi/91p1uaW+HTbvfhNNL2WvnkneTOvnjzzNzZgISEc11Fba+rW4yVTyL5liZmnWgxfVdKUP96LHHHpvTRItLW07MRLz//e/P9cDMR5F+cS4aaP2K8M24+CbkV771D5enWRXxTRefksapnOe249a+hgnx8DghwG7VKHfnnXfOmiQaTSPu1IEMRMNbwk/kLWtqjKTnk6TGMy+YYxtsB6XUKPZsSzgZTjQhFrelxiprRXrRNE0W3kzcowVis8pelI2muhEydQRohO14aXMVdqrqAI08O1zY0k7ZSZFYT5A6yqxFZo+81lprTWh+2RynadmsBfY8DXFTaD35J2fbmzrh7HGEdxRa3OmE24xjsmvaVDMlNIu0cLSvhPab5pe2uxdJZCLbUCcilDGjgTarBUMHG+1tt9022/tyJWeDHTNeRXxztJDsOLWPtMq8ihRPMfC2m2kn8Y5ZI/Wfxp9/WzNptNTsQc3O0czTPnaTmczLTJRxp/z2Uva+A+VS1r+o+74HddVRfu8Uh9+ni6c0iIt9rxkVZcgV4UYbbZTt/2ly1d3JpF+cPW/WSNxmDbfccsv8TcivtKjb+l3f73TxmSzd3e5FK98Nobg/sgggWTpVU6TDICwaCo1+0g7kRQOmFeeS6BQtXkJUmyK/tn027WpRCN+1OnOdbDtpF47O01bhps+agiiYtjNthhQhOKMssEh2o9lNICJip8SQ6SPARClpjiYC8r/OGakoU71uInnqqDqGiHEjZbGQw0YESSObv0/1ivlCU4RlwV5pG8rATFzTCbcZx2TX2qWkWc0eLJh08AetPWHKIE3S0YsgxRbgIacGCL7JpgiLooDZUprVqExxI7FNQUSa5mXeQT5a8W6+U66lkynGZpttlsmYtkH4SDKig0zxgd2LzGReZqKMO+V5UGXfKfzy+6DwVD+K+E70fb4vph9cpE4m/eLsWzWQZUZSSHAzfPHrG8p327w3k9e9fZ0zmaKIKxAYEQR8vDQ/3DMhdEcccUSVpiInbCFHJJlTSgY7xDSNnbe7tRV0WriTw9FwcYvHzRpCgoSkqa5sd9aMSMdqQwiai07hsO+0oxKNldX0Onf2iUiOeJDNXjvVZtwzdY1opCnGXObqAltXaQ4ZDgI66NIhwp4YuKkriJ2OlIarnbhPI9wU4dE8tZPphNsuvHa/iZ9WN01RV8n0K2t0eXVga8/Wmja25Lfd++U3BAXhpaGldW4nCKx7iIXnkXGEeTLxbCFFBe9Oz9MeL1y4MO8CiCxpC+0IiAT6hmn8epGZzMtMlHGnPA+q7DuFX36fKp7dyku9VOYGqr6/VgVKid+5X5zVNTOT+oPWgV4z3Nm+DnI82yUQ8Y8sAjoPHc5b3/rWPGVJg0gTxRH6uAuNaLJBzNPXtLxcT2kwaekOOOCA/Lv801iZPm0Vm2JYKNEuHNp8DSbi7H0adxoqHYbFRKbqdPTIgcHHqAp3V8mWM2u5ub2yiLAXMjOq+RnHdJkdQnqVBfOeTlt3q6tNzWjJayF/5f9ynm64JZxuZ/FYOGeRoe/FoPPGG2/MPm2ZNjDT6Sa0aAZlzHuSrXDbx33DSLfvDlEWdjeBmaMXkQYu6MycWJR3+umn52+fRplJRz/hzFReZqqMO+E3iLLvFHb5fVh1Q31S14Rvcftk5dsvzkx/1AEKGjOIoyphVjGqJRPpGgkETP0icGyb2TUmVzZ5WnQkEjeNRND8mobVkSKxzB/kz+p9WnKdLK2Be7RQrQdNlvut4fidwM1Agk2osLxfViDT/tE8GXQgzaMoSHxaiJLNaWgfrejvpokbxXyMe5oQXrMXPNOwfTSNzDaxedBwqW/u9SrDCrcZPw2ZeoSgI6tW5Jt5sgPa3cksgea1FzFr4ZsxqPQOUtEqPAjw9mHwpr4umdZfDFpgzqOB9MgXzV+rL9xucc5kXmaijDvlt5+yRzy1w0Wj2inMdr8PA0/tuv7g3HPPzd9VcgPYLuqJ3/rF2bdqwKs+W8uBLE8m08FnsnC73Qty3A2huD+vEfBhmvrh8Jy9H1up/fffPxPIUQWG7SbNDtdXxVyiNa1syuSJNgjBpR3wHrvI5Jkja7douDodHLfrHFvDKdO+GnsasyOPPDKTGiYW5513Xjbj4BrIIgzxjaLQhn/605/O0+G0Ikh88rs5qfZkFPMxF9KkjtG4qmfJK0O1++67V1ck0xzkTDnZvIDJAttjm3D0KsMKtxk/giFd6hKtLxJRBlg0c632+M13m9fybnDuO+Xmiss6dsvyb9DANVzyWVt9+ctfzoOG5Hd6MXvuZljTuaZFpL1n3qJdNNNk049+ZlNmMi8zUcad8Oyn7A2e9DHK0gYbFBLMJWx2o5wnk+niWWb4zA6yHy+DUDOJNMfacwOiyaRfnC06XJhMdPQR+hf12cYn8q1Oy/MpyWWh/JPp4DNZurvdC7OKbgjF/bFAgF2UjpL2yAdNUzMoraSP0wragw8+ONvfJtc72QzBdp9T8fs7bEB1YqY7JxOdm04Nbm984xtzp+r/VrvNycJwj5ahNRy/Cx8ZsCLfgQzQjEhbP52psGZSaDPsUsWcwkITpETnIC8hM4+ADpTmWHmkTX0yAeRBRYesHvnelZnnlFevMqxwm/FLDz+ufAGbKWFuhDQhIoVQNJ/vdO2bSRuLZP/C733ve7Nv97JAT9sk/2Zs5CltEpQXznUKazq/I1IIVHKzl9NvrYJ2sR+ZybzMRBl3yns/ZV/qAi8j/L4jjAbl2mb23AYjnWS6eGqXDSrNItLo+qYMPHkvobww6OrWl/SLs3h4ndl1112rY445Jq9B8Y0Y/IlffdZ3M0Eqa1UMkKeCTyfcevk9yHEvKMUzI4+AD9QUU/J7nFetIzNG4zSiyLKjeU3roWPpVTRCiPCHP/zhimbG6JZLJYvRuKAaNzFCp1lOu2pVaVeyKRPWXsNRPo5RFtPVNOcc8iMBbCnTjn5ZaznK6Z7LaTPIsuiLravv1VQvYmihZLmHOC5MmqjJSEQrRuXdQYfbjIe5Bw0cUwiEPu3UmQeT7C0NunpduyCttG2IL6LCNMMAnXcOZAKpgMFuu+2W3bPBaxjiW7fugvkV5YP09PtNz2ReZqKMO+HcT9nT/qbdIrPWVv1GVpWhMjWzN5lMFU/9o82yzEQ4rDUh6hPzGQMf9v1MgLqVcb84e57pD+LNZMOCVTOyFoD7xt1DisuiwengMxl23e49LI0GF/fj1O2NuB8IjCgCtEg8LZgG1xH50IxSjcId5drZaF0nhTBzRcRtzYIFC7rmzAdMG8Q2VyNmmpHm1SgYOR+GWGhjZC9PfJNa6U40cBovDXG/Uuzb4DAdDfugwqElMW1OYyFMi/gQU9qLtFlDdonVbx57fV58tGGHHHJIlTaJyFOaylT86khIZwRgRxvKbtB3pTPXwbYTz3qOllO9W3rppRd7jLZNJ63zNNuAEBYpWkur3E2/Fk2pjhyR0JEK03M0X3cnm17fPDI5Wefea7glHZ3OZlCkzbfquzQD4ze2wAZdFhQ6tBGIpXol7f2ItPpO4C2PsISp8BBkmulmG9TE2++tGsB2eLfLhzSKm2tGu+Ah5cyimLPAeCoyE3kp6Rp2GbeWu3j7LXsaXG2fgYd6on5o1xHFXgY7/eLpeYMdcfmemP04LJTW5jqrT5RCRTxH00shpL+0y2NT+sW5PC/ftMW8ImlDmB75lqWj1Ofp4tNMZ8/XKYEhgcCcQSAR5LwLVnL8n3fJSh9C23PqwPOuW6kBqhMprhPx7BmDRJDrpHWtk9/PvFtQasjq5L8078TVcyB9PGg3q6S1zrtZpUajTp4i8pE0C3XSovUR0ug+mhrpOmm+JvKWGuZcbqmBrM8444yhJTw1ynVayJR3iYKteNMUeN4tamiRRsDTQiARjzrZZOZjWgG1vDyscEWTiGqt3UiEtCXWqf0rrcIaVHjdUpGIVN6JNJGlOpHxOtmIdnul5/szmZdhlnGnDPdT9p5NA6BaOqcqU8HT96R+OneSRJ7rpECY2BGx03N+7xdnz8v3ZPELdxD4CKcXGe15zp4pfjwYCPw/ArQ2plfZ+Fm8U6aLWvFJH2O2gzVC52apH9s5o9tiB2nRGc2m6TCaXU7/ufwy4h+UlPhoh5oiDvfmgtA20v7R4hehlTelVqbXyu+DONOamZ63YNBsAw0fjwDqgulG8YaMJgI0y5Npg6ea6mGFKz3q9yC/VWltavWmmude3/N9MDcyG+f7oDkclMxkXoZZxp3w6KfsPTtVbXyJfyp4+p66fVPaTH2cerdkF28o/eLs+V7yPQh8Ck7dzmFW0Q2huD82CJh6MR1/ySWX5APpYWrRTjTyyBf7Pa7aevkwW8NBsE2pWS2OjHM1xc6ZvdTCZAO5+eabT8tkocQnX6aRTak2RWNmCmqQnW4z/Jm8ThqBPP1sqq8pygmmrQOD5jP9XMPSJgYnnnhidtNmGpNZiQGNhXca/bmAZz+YxLOBwGQIaEMtFPONmOpHkm0AFDJ/END32MCGrTzTwne+853Z7GwuIxDkeC6X7jzIG1LFFs5e7exF2a2ynWKT10omCxxGn+wdjz766GpBsjOeDhlK0zN5lfxdaYHQhRdemH3jcoGDtCbTjrzRBXvh6dj1lnTHeeoIqCdsJXmisPkJ21CaEO75LDyhNaaJp8EICQQCgb8gwCbU4kHKBl4DLDCM9uwv+MyHK37qKQ+uSG4Un/e85+WNYLr5Px53XMKsYtxLcB6mH9HRYPPraTTLhZtpP6TYqLYIEsywn7F/Eb8985nPzNPp0yXGwkSmkGuLXSxgoIXmx5fbGT4rkXWEjLkFh/lTWTxX0h7n/hFINmzZX6Zdvcwo0BTz5Wkho0WU/Bcrt6nMHPSfmngjEBgvBAwgta/aMYuX+TUOYjxeZTiI1Jq9413C4kDemrp50RhEnLMdRmiOZ7sEIv6eEGDCYDWrzSSQYu5nmDTQECM7RZBfdsQ0gquttlpeUYuoEveWWmqpTIzdZ588aCnmAXyZIskOaaSVRMrtGMd3ZdO2dtBpiPCqPEi66qqrqrSYL2u8rOw3PUxDzAUVDRhSbPAUEggEAu0RMDPGS4HdLdmaconZi/eE9qHFr+OMgJlYfbBZ0fmgTAhyPM61dY6nXcOMAF9++eWZEPPLyy0SDTE/tEWQXuRz3XXXrTbYYIO8WISbJFpDtlEIkmcQUrbB/BIPgxiX9DizbeUmx1S+LTI///nPZ60lzbEOxqIWbpFomkMT00Ru6tcGJjpxvlgvvvji7DtTGSgLeNutjCs8jXt08FPHOd4MBAKBQGCuIxDkeK6X8Jjlr2gqbCdJQ8ynsNFqIcTuE+YMiOaCZDOMENMS82rANyptoPum0Lfaaqu8YUdyf5Y3eODcvPhOnAloEDMmH+yQTevTJJuilMaySQniJh9rrLFGeEnos1DKAju2cBZE2myhDKBoNzbccMNs0mIDF/VjUAv7+kxmPB4IBAKBQCAwRggEOR6jwpqrSUV4aYI5FbewzsIPju4RYt4LmFQQhJfGz9aTtL9ctnEUzu0W0uN+UyzUQzq9b6vnjTbaaNa0tNLAvIKttK0yLQpjk+w3eULqab8t4lt99dXz7ki8XsyH6atmmXW7hiPya4cwMwnXXXdd3i0Njg5k2QYMFkEaNDFlgeuwZwq6pTvuBwKBQCAQCIwPAkGOx6es5lxK2YAiOQgxrR9NL0LMxq0QYpmmZUUYEWLT4mX3IISYuUQ7QbjZ/XI5ZItkJgyjYL4gXfLNXARRln9mI7ajpiGn1UaWHTSdyDKtJ1tZZHm+aT6ZSlgpbTfCG2+8MS8O4opNHbHQsrh+s3LaNtjMVJ773OfmWQWDpm6+O9vVnfgtEAgEAoFAYH4jEOR4fpf/jOeeUT+SgxCbCqfdLYQYESpC07fKKqtkQsyjgO1kkR2kke/bbkKDyL0azaJFcKO48MoAALmj8USW7S/PZ7KDeYCV4gi9tDvk32YlSHI5aEbninYZHuoCR/NMT2655ZaMiUGTmYVysCVnN2zA5FBPynbDtj2djmu+bvUq7gcCgUAgEAjMfQSCHM/9Mp71HBZ3WmxueZuwSA0JKtPgJYFI3oorrpgJscV1FtAhhAhPvxpAGlrkEkkeRWJc8lzO0ssNHW0orSjTAQSRxpQZBqLod4MGhLkc8OGzGUmGl2PJtJGFRX8zaVtd8tHLuZhGGBiV4+67786bc/A/jATzQOKgZYcN8kuDXrTo8ls07LTp/daPXtIZzwwOAd86l4ZmAZrCnIgPXfW2KZ4/9dRTs3mVgeC2227bvN31Wh2zcY7NK3w7ZmXEYWe317zmNT0PoAzmuTLzDTqrn7ycmKmwnsF1EQNdO2V6rinqJzeO2rZ+RN3XXjIzs2GRTTjGUbRr8sAPvbbpTW960zhmY6zTrA21OPmUU07JyimeR8ym2qgqpD0C4ee4PS7x6zQRQEqZNVhUp1F0bWGaTg9ZLuIjNQ3OZIJ7LZpRC+0QYvemKuyPaRDHRYsovcisgx018ocUbLzxxpkswu2HP/xhJsxFq2qQAeebbropk+aSX2fh8NjBNEN4jua1e4i1Y1AkmuYfuTfwUdbcpzkQk3KU3zyHeDh0nuUsP9JUNONICKfzTGmKBt15XMp1qvV3rr1nwMNrixmRpihX334rOS7P33rrrZVFtP2QY4Oq888/P2/r7hvxvzZHnUGWDdLf8573PCTOZrrKtfq6xx575AW10mTArV1SB88777zqgAMOyO2W59Vj6wgQ5KaUtQT9kmPfBLv6T37yk9lcaFzJMcxs1S4fBidBjpu1Y/jXiLFBqXpsgbt6TLli9i3IcWf8gxx3xibu9IkAYkMTWHaro7EpGmINfRFaPiRYp8jfsAVUCBEt0lwxESh5neqZLTWNU7Ex1sAZRNCoa9x0+Ago+1sDDyTg7qR9dfCMgajCWUfe7nCvHOU+7F23nv3GlAXB0NG1O/utHOpBOcpvrWf50UAjReyq+Z9WJziXpyVGPop23FlaQ8YXAZpcAyJ112DHoI8YBDe1ryWH6gdNrPZDXe9HzLAgYkyqDDpt0MMzDHMd7RNSq04ff/zxXU201GME2bcnHGHzpINs+P7e97735farzNTwjuJa+pkDnZI0db4n302/IgzaYwNjuI2ryIeBg7IsawTGNS/jmG6Y29VQv6wdtTBdO+s7DOmMQPQ4nbGJOz0ggITpBIqGmBlA0RBrEIsgV9yp8SCw/vrr52lJGmKEOLSABaXOZ508kwoHrS9BOFZYYYXcgTa1rzrSoql1Nr3c7qzTIsJuHoh5+b9ce87z5RB3uXYu/5fwlOkSSyyRy5zWmpaiaLBd02LLB621Z0ve/B8DJCjOTdE5mxXYe++9cwbVL+YxgxRtEkJtgea+++6bB1viNYB873vfm6f47aypzaKVnkzU1c9+9rOZwKubpb2z46Lt5xFupg9MQ9y3ANiA33PWViDHIYHAbCJgQKcO+wYWLlyYvwntbbSzk5dKkOPJ8Ym7bRBAhJAtU4g6GFNmFpTRDNB0FEGIaYWQYQePC2U638cZMj0EEIuiXW2GhKw2NbVF21t+878G05Q1jS2tfvNwH9l2Lr/r7DWmiGw5/K/BpZlAcBCJcq+cm5po183DuyHzC4EyyKPJHZZoW2hwTRkzT1LnCI2uTYFolLVVzt3IsbCYAjTrqjbN/3be1N4xcyJNou97MfAfJ/HNs5eWN9ur9yvTfb/f+OL53hDQht922215No5yyjbgId0RiN6pO0bxREIA4bJIrOxWxwVZ2WyhOeWng2Bjx34YIdaxFEKMyIUMHwEEBHHtpBlQlswxTLV96EMfytPFBjxF+9s8l2vvKFthN89mCY466qjc4G655Zb5Xrk//JxGDIHAQxFgorXLLrvkdkddLGLAxoSLKY+dFNnwdxP1vUmMPW/Qb9aLpljb5zzugtiaducP/l3velff2Znu+31HGC/0hID2m1kOBQYTJrN5Ib0hEOS4N5zm5VMIkQ/LSmMNp006aIxpXXQK7hMdSLvd6nRSCLH7IaODANvPs88+O5cnjwAI8lSEPabV+zRoNNCmlovJx1TCi3cCgUEggLwaoLcTZJlW13mqml2aOOZjbJHV934X2rVLV7ffzPrQ6p511lnZPIRGe+WVV85eMJqaQCTVoit+49nuv/GNb1wsaDN8H/vYx/IMD68dbE+9c9FFF1X77LNPbt95FWFXTWj43/KWt0zahnd7f4cddlgsDUxe9CfSyYOCfDBFYdfdKvoYSpjidcTzZgPsJkrr3+xbtEc0pGeccUbujwyQlJWFoPouA6Ntttlmwia813Bb09T6v77wwgsvzDOo1nuoV/K0xRZb5LU05fl+0uedfvJe4miezQ5qm6+//vqs+PD/CSeckL0b8bTSXATrm2BHbxaYC1T1jRckJlBwa8pU6li/eW/GN2vXqQBCAoEJBNJIs07kqU6NV/3Wt761XnXVVetkK1ynUWedGiJsOB+u/ZaM++ukOazTB1gnbUydPsBaGCGjiYCySR1InVxD1Ykg1KlDqpN5xZQSmzqqetddd831IpGR+uMf//iUwomX5j4CiTTUyQ1fnQbL9Y477tg1w2nQVSf/1XUigXXqyLs+38sD6n7y7JLDTKS2PuKII3p5LT+TOvf67rvvznX8DW94Q52IQ500xnUiQHUiyQ8Jx/OJkOW2Mtna14mwPeSZbj8kIlu//e1vz99pUj7UaUFg7SzetGC1TuYddVrUXCe/6BNBJWVGfdhhh9XJpr9O9s8Tv5eLu+66q07awzqR4tzGJ6JaJ8JdJ8KZv2NtQloEnOMRVzKvmLQ97+X9NLtUH3TQQXXSwNeJaNVve9vb6kTc66Q8yflI5lh1sg+vk3lKSWY+J7OuOnnrqBMJznnV36g/yg4WyUQm91XlpUTa6rTzaE57GrDUyW98vdNOO9XJI0rOk7/MAH4AAEAASURBVHJIC0HrtAajr3BL+K1n9Smtt8n1OQ1Qcn6kL5mYZYyT+75aPS7Sa/qUe795L3E0z4ns1gsWLMjp0W8rWximhXiL1Zmk7KrTgCl/n8oFTtpz18kUsk6baNXKsEi/dcx7/eS9xDPb59Acz9qwZLQiNppnKsGGuOxWZ8qcljE1AhOJ5UXAqJ2nibJbHQ0xrwq0MSGjjYDypIWxOEm50vyefPLJfWuPaQJ+8IMfZE1WasTybMKnP/3p7Ps1tMejXQfma+q0cTSitIllLUSvWHiHSdkhhxyS20SaNgv+zLoM035a+nynvlvtLC0s237uG83+aKsT8azOPPPMrLH0LbKDLm13a/6E5Z70W1NAQ2g2kBmcdoCJCHvtJZM/YkID39TO5h8bf/p5X5xpgJG1xnvttVfWuNMen3TSSVmzy5yDZpzmn1hIvN9++2V3duzFX/e612UTMHm2oNKiSNrx4hpO3uVJ/qRZfmysRFtMK2rhpEXB6kE/4Tayu9glLO1yqhyUjc2maGNpaq3HUdek4d3vfnd+r9f0Wb/xwAMPTDuN+upXvepV2ZTCgjz/b7bZZnmWTx0isPrgBz+YF46aJTYLYpG3tKpj8iItPCIdd9xxeeF0v3VMPP3k3fOjIEGOR6EUZikNGnwrqvn9vCLtVscOj8mE6RcNWRENZnO3OtN4GoM0Cg1CXEAag7MGSkPHzVUpX1OCF1xwQd5gwBRrr6IhZZJhmpYgy+yYddKls+o1rHguEBg2AqXun3jiidnUyzQ+12y9SiGovh9CEcBns4EmolcIXa/h9fOcsPn7RiKRQWsJtNOUFEwebFCC/Ezlu0OYrBWwNuSU5FnD/8wBEH/SLV/9vm9QYkCx5ppr5nIwZa8t4kWEqYo2RDvERha2yDOCzu0eDPRFiLxnuNFjAmLhJe83TdGuWSh5zDHHZHKIEAubmV/SLk853GYcruHz4he/OA9Q9Ivs2vWj2kODKSaJ7aRT+pBWZgvTyXuJD8lm6gYr9cP/adYmm6/ou8VjwOCb8H0YMGy33XYZI2Fo2/kLNyDEET7xiU9Ue+65Zwl+yufJ8t5q3z/lSAbwYpDjAYA4TkEY6Ws02HwZ3aZptjx6RIh90EV85EaRNMQaSiNidsU+qm4NZgkjzqOFQFNrXFKm0+9Xe9yqNS5h6bBDe1zQiPMoIWAwR4vH9ZqNR2yoUbxY9JJOpMwudzSP7DINDGkNEQv+YmlbhyXaW+SPt5/S9rJr5a/WwBYJo02dCjkWHvIJH4L0C7uVbHbKWy/vl7A9C3u+2vUvBFnWx7z//e/PZI1bUGQOgZIv7xjIrLXWWhMLjBFcWloLgT1PO9yaXjOZr33ta7MPdXlC/sTNThw5n2q4TRyEyzc7G279ozCJerXOOuvk/lWb2E46pU+YZeH7dNMoLEosBxGePrzMdNAas88208AFoU1Cyj3PI+r6e77BEWP2y+y4pyuT5X26YQ/y/SDHg0RzRMNCiE2BI8RltzofrUbLvSI+ag29xkoDxiDfh6WxHKURXUlvnHtHoGjOmlrj8raOqB/tsXrT1BqXcEJ7XJCI8yghYIYs2eVmzStilWyG8zbk/aQRsTC1b5oa8aHxRLANLGn5hkmOpVP8jiLMBrTNNL5M4WhFx0H0I4UYS6//DTiUS9HO+515hMV1tJsWC66++up+nhBlSrvsfSZiyqQpwqNZRxAJvGjcxTGdcJtxCJPm3GJk10gmM4SLL744bzSjzW0qnJrvdkqfZ6ab92Y8k11Lr4GePBiANImx92CHIKvzNPfMXO5OZjHFJGOysCe7N1neJ3tvpu8FOZ5pxGcoPh+lilwIMY0JQuzw8RXRuCDBCLHpKo1+IcSdXIGVd+M8Pgi00xqX1PejPe6kNS5hqV+hPS5oxHm2EVC3TXOzyzU7tmDBgqwhaxK0XtOILNAg8xSBjDHLQMy0rbMh0kMTKI/IIjI2joL0FxJbzL3kRZ5gzWyB1ryduK/PahVh0oi3ynTDbQ0PKZbOq6++ujryyCNzfZCetOA5+5Fvfb783yl97g86jSXO1jPFGMJLO2zg107wA/fk0/Nst6dLjifLe7s0zNZvQY5nC/khxKthUXktVnBw/WPqhKbPCLyIymkaqOxWx12LRpaGeCqdRgk3zqOJgMa21da4NaW9ao87aY1LeKE9LkjEeRQQYDdpGp19MMJi+p6mcjqCKFAc+K5c92OeMZ14W9/1rXEdJn72rtLSTBvSNq4CXyST6zbl1snWVX4R5Hain2uVQYTbDNOAiy048xplwD5Xurl2Y687mbRLn+cHncZOaVBvmJpQaKhH7UQdMzuiriPK/CQPoo51ynu7NMzWb+FeYLaQH1C8tAZs36zcZWzPdsiqX4sO7IBmZIgYq4w+Xqud2Q6ZRqdN8TwbLx1GEOMBFcqIBTOZ1rgktak9Lr+1nrtpjcvzRXtcFuuV3+McCAwaAW2baXKdd6uYdrcQiQcEU8YWcFlHoXNvlXbhqO/sLcsivPIO0mklP400gsHvbr/SLr5+wvC9Ste5556b222L1QgNLJtO932H4ikCI/+71yowQX4oWKby3U73/db0ILx8BVtIx56aCQAvOM2DQkef5V6vMshw4cnTx7HHHpu9iey///65P02uT7OpQq9pan1ukGlsDbv5v1kQGnn9gw2h2Dq3CuUa8q9e0cQvmbyYTLWOtYY96v8HOR71EmqTPh+lEfXnP//5bCDP3s1KUy5lbrnllkyWNRgqsSkQrmxUcLZQNCcWM3C4bjFEp1F3m2jjpzFEQF1pao3LqL8QBHXEKmZStMfIRjtp1RobcOmgSPMaqSieK9qFE78FAoNAQGeefOZmbwu2hW4KAstTAK0xQsgEApHhTeX000+fOM4777z8fbQLRxhW82svDzzwwLx4idJBXJ5332wb7w79yGTpbheOb5iGkjst32ghjDxV0PiZ9i4bbdA6yqt3kFyDA30BQswEhOKkaVZX4vP9GkAI20Jt8ZlG158wGegm032/NXx2sMz8mPhZQL777rtXVySPStoggx6zoja04F2Bl4teZZDhwhE+BlDyTwurP4W9NDbFb73KINM4WZyw3XnnnfNgiq20BZ3KWtrVA3b6yc92tmk3KHnzm9+cByNTrWOTpWUU74VZxSiWSps0+bg0DHwnsiNWcTvtVqciL0i2dbZvtpDBiM+HwBC+kKI2UcRPcxCBojXmlUTnpyPnRmnhwoW5EVc3zCCYdjbY6uS5oqk1pq3h43qTTTbJC090pmU1v0HXKckllI48bI/nYIUaoSzpxJFVHgvUT2TRgJ/20wDvgAMOyPe0eRYeqZOtQstnSrxdONpcJNG7FjRrP5Eg7bDviq2mxX2ti8Fa42j9v1O6W58r/8sbAmhhlG/PgFYazBia8UNgils6mmyLqi2w4u2Bj13uzuAi/+L2fqsUQmZW0QJDLj6RIAMAbQa738lksveZ7/WrhKHFpjn+wAc+UO29996ZoGmjxCP9CL8y8Fw7st8prYMMV13gJQPmlFUGTfKqrTUIMyAxeDGwYo5gZrcXGWQaJ4tPutMmXzndXOmVXf5gLG/wNfMsPdLORzKZah2bLC2jeC/I8SiWyqI0lREoX48I8VVXXZUrq+kyFbeMRjX+NBgIi49TQ+ajRYhNsQUhHuFCHmLS1A+NG+2YbWTNILDfU3+KaOhMrdlKlpN9jTrtAXLB3KaIzti9tGNWtTARayvBhc/7CdFh6QDSjlR5caf6ynTHO1NxMVXijXMg0AkBbRvCaFYMiVXXzZQhy2bSmD6oow73Ha2CbLYLB5l0Tz2nOaZBtp6DII2+GdrMtOPahF/Y1rA7/d8pvtbnEUoDWVo9R5nR8a1RgNg+mS2ubxKBIdp632HaJa96z3vek00S0i5zGReaWO7ofOetoq+gDacxZKqBjJtRQp6a7UDre+X/bu/TrvYj8iF+7RKiJk0GKYhnuSdt2qJuxL0Zb3l3EOFKF2xsu512W8wEnpZbetQNs7TqHG8i++67bzMZk14PMo2TRSQevAHxNbjiks5GYGYY1DH1FMa77bZb5hZlhtF7U6ljk6VlFO89LDUcvev7RzEHczBNGiiVFMFgb6WxL4S42IupoEZ4Gm+EOHarm4MVYZpZonHSKSEN7CJpiXWixdG+umRKlqZII+h5fkDVNwRg+eWXn0iBwZjZCuS6uF4Srmk5WjdaNNNuNBDC1SkIxzML0iyG+hoyfxEwI4HIInhbb7119jk8GRqm9BEhJhHq1pLJ1rFVaIhNa5ta9zwzCnWctrO82/pO6//quTrNV25rOLpGYfkm2F4yh/AdmD5nToRAIxDtRNquu+663D77XvjklW/SKd2t4YifppdW0vekD3DAQ5jO0mCA2yq+Zd+fd80w+s7NHEk3LThiZ0MRYRTxDm10ea/kE6aFGJVn2507vS9O5agt0GfxjtQUml/1QhshTQhbERgwJWEiAgNhaMMMDqSJEkiYxLMG8XcnL03KFeErg4YSXjn3E255p91ZWydt4lQ/lAucpU07q+5Y/C5ffus1feIaRBqFgU8oc5joB1q1+J5Rz5nfSZ80q6MIsPqtjpkZbJV+6pg4+sl7a1yz8X9ojmcD9TZxqpx2OkKITYeZjtEQahBU1CIqadmtDunQ6Bm1a+SM9kICgYJA6QA1zp06ifKss2d0iBp4ZKMpOiCO+Ns1ks3nXKuHpU4iNUGMWxGK/7shgPAVU4FOz6pX6pq208wIwkRofNu59+oUDoLTLhzhIxKIjQMZ0BZL23Ta2k7pbk2f5xAqBynx+667fc/uMxmRbt8yYlTE9sDtxDue16eISz6loVfp9j6S1U6krTkQbz4jfgTNgWCVcm2Xf89qdzq5fZtquM33Wq/VA4MHdU/dkK6CGY1+K469pk88/eS9NV3lf2FouyfDxDPq+ZKprYaxNJN2g64SrrO89lrHxNFP3pvxzNb1rJJjhWDFLyJopxneFIxyTCEpLCRwOo3QZKDOZtwlXUbMZbc603a0HTQUCHGpoJ7V2KvcfBEvSIQY2TEaR4g1lCGBQDsENEjNTrHdM+1+U6da65XvsBdi3AzPO+w0QwKBYSBAq8pk4NBDD827eE61r+g1HGSgHSnrN2+9xtca7lTin0obAMeptBslvdN9v4TTepaXQeA/jHDlubX+DRKHYeW9HRbdSHG7d6ZTX1rDG5X/Z5UcU7Mffvjh1RVpFSqjfwsorEK18pZK36piI5OmaFjYH5UpGiYFU3GlM5W4m+mY6rVRvIURNMQWMrmmIZaeprZOBS3bkq6bdqszeDDyMuU0jAZiqvmJ9wKBQCAQ6BUB2jUKEfbohBKEhs1gv1+hEWOq4TydQdigwqHBpuxgmiCfprLbyaDiaxd2/BYIBAKDQWBWybHpLDZcGkt2RUZHDgbh7rWOYKj82a5Z/UnDrEGlVZ0KOe437unATQtMK1wIsR2VyuYczZW2SC/7t7JbHWN/eUSIW7GYTnri3UAgEAgEZgMB7d3Xv/71Cc8RptqPO+64KZFjsxtsTqcrgwqH4sb27IX4N9v2ZhoHFV8zzLgOBAKBwSIwq+RYI4H8lbNpCNpRBNl1qzbB70wvPvrRj+ZNL7g1Q66nIiXOcu4Wd79x0BxY3Wylqt3quKEphNjihCLiZyaBEHO/w5l70RAj/iGBQCAQCIw7AtoyrrlaF7Cx15wr7Zw+BFnXnheh7NCeD4LElzDjHAgEAsNHYNbJsZWdCCKDduSX7YrGxCKEdo2mKamXvOQl2dUMcjxVEWe/cXeLizaauQf3Vggx1zMIMbOJ5i4+4rbwiUkIX8R2bTIQkG/TjCGBQCAQCMwlBLRvXIsxPWiK2TLu1+aCWAPC7RXfx00pfU3zt7gOBAKB0UZg1skxUlzIMag0lkbZGlNkuVX8xsRgugbgJc5y7iXu1rT4HyHmwoWHCYSYCzbuc9gQMxUpUrQKfE0ixRYbyjuTienYy5Xw4xwIBAKBwKgioF3nBWEui76EpxdHSCAQCIw3ArNKjhFcdrUW3Zl+IrTFdnWj1e1VaCPs6GMxBJtkjZPFbKuttlrHFfbTibv47OODmNkEGzq+AWmIEWL3CSKPAC9IHiYQYukxjUhDTAMeEggEAoFAIBAIBAKBQCAwWgjMKjmmAbaJhf3f+VckSLGdZYzCuwkSamWwbRttRGCRHqIsXFNcL3rRi/JOSe18KE41bmYSH/7wh7PpBBMK/1uI0STEtMG2FEWI7XBEE44Qs7drpw3vls+4HwgEAoFAIBAIBAKBQCAwMwjMKjlGFGlQi9ZYlk2/WXTXi/AHbN94JgvcATFZoKnlQgdZ5vKND+Xjjz8+a5KbYU41biuQ7abEnphJBREW4ovoW1hntzqrsAshlr6QQCAQCAQCgUAgEAgEAoHRR2BWyfF04eERgqbYtrX/+q//OuEDmDcIe96/733vq2yu8YEPfCBvVzpdO2XpZR9s73TE26YItNMIsUWCsVvddEs03g8EAoFAIBAIBAKBQGB2ERhrcsw0YqWVVqr22GOPxVzl0EYzq3jHO96Rd1C6+uqrsys1i+CmK8jxq1/96mxbjBBz20NDHLvVTRfZeD8QCATmOwJM1M4777yKL3i7gtocqpswabMI+pRTTslrT/QLm2yySbXZZpu1/X3zzTfvFmTcnwICncoh8J4CmPHKrCMw1uSY5nbVVVddjBgXRDWQdpVbbrnl8kK9W265JXuIKPenemYLvWTag3zPPffMhJgZSEggEAgEAoHA9BEw62fn0EsuuSSTW+QY6eLP/qqrrsrKCG16Eff4k6cgueaaa7LSggLDomwLu1t/5zYuyFpBb3DnTuUQeA8O41EKabJvcpTSOZ20jDWzK65zOgGAIFsMx/zC4rlBCULMtjkkEAgEAoFAYHAIWMdhYTVXmMU3vP+/8IUvVIcccki1zDLLVGeffXb2gy9Wmmb37D6qXd5oo42yByQLvNv9zotRyOAR6FQOgffgsR6FECf7JkchfYNIw1iT4z/+8Y95wV0nINzn2q2fRX6dworfA4FAIBAIBGYeAQuazRJyl8mMrbk5lEXZvB1p4xcuXFjtu+++eSMlz26//fYP+X0Q605mHoHRj7FTOQTeo192U0nhZN/kVMIbxXfGmhzTLFhw98Mf/jCbUDQBNj133XXXVd/5zneyb2H2ayGBQCAQCAQC44WAXUM33HDDvMkSP/FmBItYkH3bbbdlr0dcZxZPR8hau9/Le+N81rfp1wwIeGkaBelUDqOQtvmQhpmuE5N9k/Ce6fQMo4zH2scYcwlu297+9rdXN9xwwwQ+SDNXbu9+97uzv+Qtt9yyWnrppSfux0UgEAgEAoHAeCDAVaYdU22ixO2n/wkTDOYXpvQR5iWWWGLS3/PNMf+DdDAh0efZmXUUpFM5jELa5kMaZqNOdPom4T0b6RlGOY+d5liD8MEPfjBvwqFBZPD/jW98o3rd616XtQZsgZlSOGzQsd5661Vvectbpr3d9DDAjzADgUAgEJivCCC1F198cZ7hu/fee/MC5yc/+cnVPffcsxgkfMt/+9vfrs4///y8SZT2nGb4M5/5THX99ddnkuz/E044IfuXZ3Zxxx13LPY75chWW22VzTIEbkGRvuScc86pLNbm7eKZz3xm9lX/ile8YoKA/+lPf8oa6DPOOCMT9F122SW7D/3iF7+Yd0Zddtllq2222WZia+xew0UgLCC84oorcpp32GGH3Kd97Wtfy2nhWYkmvLkHgHcuuuiiap999ql+8pOfZB//nic2z4JLGTjkH1v+DCMvncqhiXevmEhuP2nsJ9yp4F3gE49BmPp30003ZVNOZj7Kfv31189eVQru/aRJ+Oq2WYCzzjorh8vTll2DuYe1eVkJt6Sl9dxPnaBMtHjVHg133XVXxexUOVngKi/9SLtv0vv9pKef+Gbl2VSYYyNphFonE4o6FWSdbJnqtPFGvdNOO9Wnn356nQq4Tqr+fLiXKlid/BvXd999d+29kEAgEPh/BNJsS51sxuxxXiff3HUaXE4JmgceeKB+1atelcNJrgzrAw88cErhxEvzC4FEgOpk8lBvt912dTKDqJMrzDqRjdyeJ5KXr5PHiTr5rs/AJBJdn3zyyXVSfNTJO1H+LXXy9YIFC+pHP/rRuf6pz+pgUpbUyb3nQ35PC8Pqa6+9Nr+bOvZc5xMJrtNmTfk98Qk/Lfir046rdfKOkZ9NnX2dZiHrpLmuV1xxxTptAJX7nETic3qTV4w6+dSvH3zwwbqfcBPZqg877LBafp///OfXifDWT3/60zMWiSDldCXFTp2Ie05HWgBVJwJVJwJfJ8KUv1/9n3Q5knlF135uGHnpVA4F734wkdFe05gW2PdchsLtF2/vkEQg6zQAqzfddNM6zUxM1FVllBb718mda50GVvnZqeT1ggsuyHWu+Q0IN3laqS+//PIcbqc//dSJX/7yl/XHPvax/G2kxaq1eptMlGrXyeS0PvTQQ+ukTOwU1UN+b/dN9pOehwQ4gj+MlebYKMpGG1Yrp4qYTSaMmG3XzPaKpjh12NlDBds07nxMx4UEAoFAIBAIjAYCNLYHH3xwNn1jN7v11ltnt2sW+Xzzm9/Mfo4T2VwssWxate80eISGLQ3MsimFBXn+59eYdyL2kDTHzd+XWmqpPMvoXZ6L9ttvvzzjqD8x68gLxle/+tVs13zaaadVvF286U1vyhpmfY249T+JpOcdUmmLaeGsedHPJJKe+55+wmX+B4uiQaeVlg4aZZpE/vnTgDNf0/LRFtsFVhpoLtlhL5ncihL9XTctY+Ifud8cZF7g0K4c4A2XfrCWj17TyFtCr1iXcPvBmycsgk/Q1CsTM9U2F+OBg2tBsxZmPGi7Sb95TYQ1l+Wdd96ZNbfcDpI0iMuzEsppMum1TgjHbPspyQ+47ycN8qoVVlghY00TLh/yefvtt1fHHXdc/n4mi7fca/0me01PeX/kzyNI2KecpDRtUKcPoKaZCAkEAoH2CITmuD0u8evwEfjtb39bf/rTn57QEh9zzDH1/fffX9NEOdLmH3XawKNu1Rx//OMfzxpTM4JEW588UtQXXnhh1hzT6l155ZV1IpC1GY3W32n3aPZohI866qg6mV7kWZPkU7mmhUzmAXUiB/VBBx1UJ2JUp51Pc1j6k+QSLsfhnURI62Tike+ZlbzsssvqRDD6DpcmT1y0wGZvaKdpn8V33333ZS2fe4lkZm21Pk1+0+ChTiQta/7OPPPMnA55TiS7a+ENIy+wblcO8JaffrCWgV7SmIhq3+H2i7e0qBMf/ehHc12hzTV7kcw1M9Yw147S7qq3/dYr4dO6r7nmmnmmxCyK+BziSGuo6kSaPdZReqkTBU+zC7TTaVBap4Fj/eMf/zgfN998c55hN3NjFuXoo4/uGF/zhjy3fpO9pKcZxqhfj/WCvNaRB80DrUEZ9bXej/8DgUAgEAgEZg8BGj92trSxZvsSKcg2tzS/DjOBNvHoJtp6O5M6iDbfLCHNsTBaf/cbzV8i51UiNPl561HWWmutCc0vm+M0fZ61wIk8ZA1xMx3JjKF67Wtfm21BxZPMIKq11147a/2mGi5tL60v21Xp139ZWChcwoYzDR5yej1X/OvLvxlT6XCU35vpnex6UHnhEaRdOcBbGU8Va2nvlEa4TzXcXvEWvzK1+FHdoqW3sN9MA6xhbpOxF7/4xVmLP5XyV8/XWWedbMNu1oLWloiDdtfsxWQiXd3qRCLbFXv5RJKrddddN2+KI91s+x3Pfe5zq2233Ta7PeT+kB2/cpuK9JKeqYQ7W++MlVnFbIEU8QYCgUAgEAhMHwFTsbaGRgKTbXAmeNMPtfcQdPwIHdJpcZtd9JoifUkrlt2kme62A2sRZGaNNdaoEFOCaBU/vv2Gi/wUQSrgUUT4iKH4eIIwhT9oGWRekvazbfL6xQRRbEqnNMKknzJsDbdXvNWFZGOeyS8SrEyaovwNuMhU8soUh0kRYsypwOGHH16l2Y9sLiK+Us+acfZ7jRRbgGfgaTBo0NIUcXBqwDTm+OOPz6YhaUYkm/c0n5uP10GO52OpR54DgUAgEJgFBNJUaiamCArt20yL+JEeZBQB6eT/3v3WFfxFM9YuzdMJt114iJf4CC8Dg5aZyMt0MemUxumG2w7LdnjDne17mdFo9175bSppkj+a22OPPTZ7WqG1vfTSS7Onrb322qt6wxveMG2CzA6YLXRarDrhUaWkuZzZ/dNWw8DzbOnZvs93CXI832tA5D8QCAQCgRlCoHTEtLLcp8200PQiveLmJm3PPfdsmwREoanNLQ8Vwlr+L+d+w6VpnEzE7ximDCovndLYLybtwmmXxkGE2xpXO7zVVaYHFk1aeDeZTDVN3rM47l3veldebPmhD32ouvHGG6uPfOQj2byGO7/pCM22PFj8l2zZ2waVbIUzIUfw5bn4C2/78Dz6cU7ZHM+jcousBgKBQCAwdgggnMhAsT3utiJ/0BkU/8orr5zjN51t2pkNafNg+8tXsnu9yrDCbY0fiUNgilaz9f4g/h9UXgYVTmuehhVuazzqgIEUsxZ+rdnkdpKppEkZ8h5hAICQ8oSR3K1lW3ymDWkhaKfoFvt9sjrBq4nZEXkQHqLfKr7Bk046KWup2TAvucgDSutzvf4/WXp6DWMUngtyPAqlEGkIBAKBQGAeIMDOcvPNN89kwOYbb3vb27Jd5zBMB9rBaYqcOzSLyNJK/Wr33XfPCwSRFLbGNmSwmYiFgjYe6VWGFW5r/IgUu1GDi+RpI2+GYioclly/DUIGlZdBhdOap2GF2xqPBY8LFy7MgxHaXK79bLpikZu6Au9Tkns02E8lTdynqWfJe0vW7CLY7H8Jba77vchkdUId33nnnbO9NJdt8iDd0q8OcRtnt8Uvf/nLeYD45je/OQ8Me4m30zOTpcdi3O9+97vVvvvum7GjrR5VCbOKUS2ZSFcgEAgEAnMMAR0ne0b+e00lF3++NFxFI9ptCns6kIiD5jhtEFXtvffemRTorJEbi5Noi2nZPNfN9KGZjmGF24zDdSFh7FPt7oe0mZpnR73FFltkO+rWd/r9f1B5GVQ4rekfVrit8dAc82ay6667VsnlYF7AmVysZaKprqgnFg0yheD7uN96pX7xnyzMI444InttQYj5Gy7l3Jqmdv+XZzvVCelPG9tU733ve6vk4nBigZ5vUR7YJMN0xx13zL7C28XRz2+TpcfA1GDu1FNPzbtV8lhjJ8BRlCDHo1gqkaZAIBAIBOYoAjpPbrFsFGFDC+Q0+YydMGOgTUI6hiGmfGmvX/Oa1+Tp7HPPPXdiO91yj4cKGkML9nqV8m6v4fK4MBWh8aZtp/WTdtpt+ZFm2w4PQvrNS6c4BxVOa/jDCrddPMwMaFbTLoZ54RzvFTydIJbu2XrZwtKppIn5ji2/mTv4BnhxUS/YCNP2vv71r29NUtv/u9UJGnDE16CU2YaNdtj8I/g8cKg7u+22W3YfqC5NVyZLD7y4JuT6jszGotxe8/ew1BCNrl6711zEc4FAINAzAnYP05FqiK1SpoFquqzqNSAaB4142sAgr4Y2JUc7ERII9IIAzRk7Th0lwtEkjDpu5IGvV7/zGpA2R8iL5IoXCV0XkohY057yU2xqutPvzTR5RrzCNU1etGdsjxEEnTYS7zkmF2xAxYFg0LJ1kl7DZUYi7+KlNW/1DgAb7sqQLhggOEVMuSMYfDFbWIhMwQpZm4zcDCsvwm1XDiW9vWLi+X7S2E+408G7xANzmlY7FdIqM4FQR+wEqAxL+nupV55Vr9n7sgNWjg7hsD9Wpupir9KtTsiD2QWaafVZ3YOJuBDktAHIRB56ibPTN1ne7ZQe9VQ6aMeZB+mHDDRGUYIcj2KpRJoCgSEiEOR4iOBG0GOHAOJQbJ4nI779ZmxY4ZZ0IChICI8ESPQwZVB5GVQ4rXkdVrjt4mEWYPDWra70kyZlWcItvpNb4+7l/17qhHSpN2Q6cU01PeKXThgOu972ksZOz3QeAnd6I34PBAKBQCAQCATmCAI66G5EZypZHVa4JS3IBW32TMig8jKocFrzPKxw28XTK+b9pElZ0kZPV3qpE9I1bFJc8tEuPeIfVW1xSbdzeKtoohHXgUAgEAgEAoFAIBAIBALzGoEgx/O6+CPzgUAgEAgEAoFAIBAIBAJNBIIcN9GI60AgEAgEAoFAIBAIBAKBeY1AkON5XfyR+UAgEAgEAoFAIBAIBAKBJgJBjptoxHUgEAgEAoFAIBAIBAKBwLxGIMjxvC7+yHwgEAgEAoFAIBAIBAKBQBOBIMdNNOI6EAgEAoFAIBAIBAKBQGBeIxDkeF4Xf2Q+EAgEAoFAIBAIBAKBQKCJQJDjJhpxHQgEAoFAIBAIBAKBQCAwrxEIcjyviz8yHwgEAoFAIBAIBAKBQCDQRCDIcRONuA4EAoFAIBAIBAKBQCAQmNcIBDme18UfmQ8EAoFAIBAIBAKBQCAQaCIQ5LiJRlwHAoFAIBAIBAKBQCAQCMxrBIIcz+vij8wHAoFAIBAIBAKBQCAQCDQRCHLcRCOuA4FAIBAIBAKBQCAQCATmNQJBjud18UfmA4FAIBAIBAKBQCAQCASaCAQ5bqIR14FAIBAIBAKBQCAQCAQC8xqBIMfzuvgj84FAIBAIBAKBQCAQCAQCTQSCHDfRiOtAIBAIBAKBQCAQCAQCgXmNQJDjeV38kflAIBAIBAKBQCAQCAQCgSYCQY6baMR1IBAIBAKBQCAQCAQCgcC8RiDI8bwu/sh8IBAIBAKBQCAQCAQCgUATgSDHTTTiOhAIBAKBQCAQCAQCgUBgXiMQ5HheF39kPhAIBAKBQCAQCAQCgUCgiUCQ4yYacR0IBAKBQCAQCAQCgUAgMK8RCHI8r4s/Mh8IBAKBQCAQCAQCgUAg0EQgyHETjbgOBAKBQCAQCAQCgUAgEJjXCAQ5ntfFH5kPBAKBQCAQCAQCgUAgEGgi8IjmP3EdCAQCgUATgf/93/+t/vSnP1XOj3jEI6q/+qu/qh72sIc1H4nrQCAQCAQCgUBgTiEQ5HhOFWdkJhD4CwJ1XVf/8z//U/385z+vfvrTn+bjZz/7WXXbbbdV7pFf/epX1Uc+8pHqH//xH6vf//73ix2/+93v8vvlWaQYOf7bv/3b6u/+7u8ySf7e976Xw/nv//7v6rLLLqv+/Oc/V4961KPy8ZjHPKZ64hOfmI8nPOEJ+ey3INcZsvgTCAQCgUAgMKIIPCx1fP/fS45oAiNZgUAg0BkBny9S+x//8R/VfffdV9177735XK5/8pOfZIL7xz/+sSrHH/7whwpJJg9/+MMniC7tcDmQXNftmgfvlMNzDoT3kY98ZA6r3KNp/uu//ut8uP6bv/mb6h/+4R+qpzzlKdXTn/706mlPe1o+yjUijXyHBAKBQCAQCAQCs4lAkOPZRD/iDgT6QABR/e1vf1vdfvvtFY1tOe65555MkJFeB21xuUaIEVekFPmkwaX5vfLKKzPx9fvGG29cLbnkkvl398pBO1yukVbhFu0yTTGCfeaZZ1bf//73M/FdYYUVqhVXXLFyj9b5l7/85YS2+sEHH8zvI85IMiLdejz2sY+tll122ep5z3tePp773Odm8uydkEAgEAgEAoFAYKYQCLOKmUI64gkE+kSARvaBBx6ovvOd70wciPF//dd/ZZKKgBbTB0RziSWWqJZeeumsmX3qU59aOWhpn/zkJ2eziaLFpWVed911Mzl+9KMfXW2//fbVKqusMqENRqaL9rec/Va0yuX8n//5n9U3vvGNTI7Fv/baa1fveMc7Jp5jq4ycOyPrTDt+9KMfZS138+ya6Yc45JVZBmL+93//99WTnvSkavnll8+kG/FGmP0eEggEAoFAIBAIDAuBIMfDQjbCDQT6RAAZZgZx/fXXV9/85jerb33rWxWtMG1xOZBM5HCZZZaZ0LDStj7jGc/IhLJoZZ3LNVLcNFdomkogv4973OOyRrnP5GaCLmyC2EoXIt5OxIkkF622c7mWJ1pmxP+WW27JZJs2mm2032644YYctvBpl5///OdXq666avWiF70oX9NuhwQCgUAgEAgEAoNCIMjxoJCMcAKBKSCAGN58883ZzOHqq6/OxJBm+De/+U0+EGYa4DXXXLNituB49rOfnc0kiobVGRFGUEdVpK1orttpfuXzBS94wYRG3GCA2QZsiuYcYb7zzjszRhdffHFF602zjCSvs8461RprrNGRnI8qLpGuQCAQCAQCgdFDIMjx6JVJpGiOI8DUAOm75JJLqq985StZO/zrX/+6ctCuIsMve9nLsqnDyiuvnE0jEEoHIkxTOspEeCrFR7PN/tlRpBDm1772tVlzzrMGgnzddddl7fp3v/vd6q677sra5nPOOSdrwFdaaaVqww03rF760pdm4lzCinMgEAgEAoFAINArAkGOe0UqngsEpoEAswLk7qKLLqrOPvvsCrFjSuA3Wl8kmM0u7Se74UIUEeJiujCN6MfyVYSZizkHgSETkvXXXz/bXVvkd+ONN2at+zXXXFPddNNN1R133JFdyjHvMMDYfPPNM7ZzbTAxlgUaiQ4EAoFAYEwQCHI8JgUVyRxPBCxeu//++6uzzjqrot1kFlAWnzEHoOVkElAWzTEVsLgt5KEIILg05w7mFEsttVReoLfRRhtVv/jFL7JW+d/+7d8yOWavjSifd9552T55m222ydrk+TrQeCia8UsgEAgEAoFAJwSCHHdCJn4PBKaBAJMAPodPO+206txzz80eGmiKH//4x1c77rhjtemmm2bbYQvMaEabC+amEe28etViwqJh56njWc96VrXWWmtVe+65Z3XttddWn//856urrroql4Mze+3Xv/711Ste8YpsmjKvwIrMBgKBQCAQCPSMQJDjnqGKBwOB7gjQFHOVdsopp2RNsWsL7J75zGdWu+++e/YpzL0aDxGhxeyOZ69P0Cpz/+b4l3/5l4w3swreL84444xszmIRHzMMZWOAgiQzaQkJBAKBQCAQCASaCAQ5bqIR14HAFBFgD2tqn6b405/+dHX33XdnUrzccstlP8IbbLBB9c///M/ZFRmNZ8jwEECUmafQKlvcyJ57p512qj73uc9le2+mF+yTkebddtst23qHTfLwyiNCDgQCgUBg3BAIcjxuJRbpHTkE7Ah3+eWXV0ccccTEQjt+iBGyl7/85ZkUM50IAjazRQdvnj1sU02bbAOR7bbbrvrMZz5TfeELX6i+9KUv5fJ65StfWe211175uZlNYcQWCAQCgUAgMIoIBDkexVKJNI0FAkwo7O525JFHZo2kHeNs0XzggQdWm222WXbBVjwtjEWG5nAimbCwS1Y+vIFsscUW1YknnlhdcMEF1cknn5x3+mOrrNzC/nsOV4TIWiAQCAQCPSAQ5LgHkOKRQKAVAbu7ff3rX68OPvjg6tvf/nb2T7zlllvmaXqbdPzTP/1TaIpbQRuB/5FkNt9IMu3+JptsUh1++OF5AR+vIrbDfuc73zmlHQNHIHuRhEAgEAgEAoEBIBDkeAAgRhDzCwG7t5mWP/TQQ7MnhKc//enV/vvvn/3vsisOzePo1wcL8ZZccsnsEo4Xi0984hPVqaeemhfrsRd///vfn30qj35OIoWBQCAQCAQCg0YgVgYNGtEIb04jwPMEInXAAQdU9913X/ady4bVdLxp+yDG41P8bJJtsrLiiivmwQ3zGDbKdi7kWeSGG24Yn8xESgOBQCAQCAQGhkCQ44FBGQHNdQR+85vfZO3iYYcdlne223bbbatjjjmmeuELX7jYtsdzHYe5lj8DGl4tttpqq+qEE07Im4tcffXV1dve9rbs1WKu5TfyEwgEAoFAIDA5AkGOJ8cn7gYCGYHf//73efEWU4rf/e531Q477FAdcsghmUiFtnj8Kwkt8mMe85i85fTRRx+dTSpsJLLvvvvmGYLxz2HkIBAIBAKBQKBXBIIc94pUPDdvEfjjH/+Yp9jf/e53V7/+9a+rzTffPE/D2/I53LPNrWphE5E111yz+vCHP5xdu1155ZXZ+4gBUUggEAgEAoHA/EDgYWnzgnp+ZDVyGQj0j4DPwy53dlQz1b7OOutkF2AW4Y2i/OpXv6o+9alPZRdzzfTRito6+RnPeEY2CbFZCWFza6c4Cwn7FYTxiiuuqO66666805yFbautttpEMMxQbJ39ne98Z+I3FzbnePWrX51tfRe7MUL/yJsd9XbZZZfqEY94RPWOd7wjm1mMUBIjKYFAIBAIBAJDQmBWvVX86U9/yqv9LWx61rOele3+dErXX399XhizyiqrVMPaTWw24x5SWUawQ0DAArzPfvaz1TXXXFMhxO973/tGerMInjS++MUv5s0tmnDQctuQBDm2exyiTHxftKVTEe8tWLCgWmuttbIGvXUrZpujfOUrX8kEuRn+E57whGr55ZcfaXIsby996UszKea32oDDdtQveMELmlmJ60AgEAgEAoE5iMCskmNaLj5GaZ845ecBgJaJPaeV/6effnomJMPAfTbjHkZ+IszBI2CTj3vvvbc6/vjj82Bt1113zYRulE0ppBmhR5Kf97znVRtvvHEGxmYkdokjCPEgNieBw6Me9agcZrs/COaGG26Y/QrTwP/4xz/OrtKQaH6iR1nk7bGPfWw2oUHwzRpYfMlTySiX/yhjGmkLBAKBQGBcEJhVclw6cgREZ67Tcdx5552Vexz2D0tmM+5h5SnCHSwCSCYtrM0hzGLQtg6zTg4y9UwBlltuuWrvvffOwSLENMYzKcixrZnXW2+96s9//nN14403ZnI8k2mYTlww48Vijz32qL72ta/lQbw8rLzyytMJNt4NBAKBQCAQGHEEZnVBnlX+dhIrZ50RbQ2C7Nq9YUmJs5xnMu5h5SnCHSwCyLHNPtjl2v3u8Y9//GAjGGJoviE+e6XZ4VtCmGdSfFMIeUkDu+dxE1rulVZaqVp77bWrn/3sZ9V55503blmI9AYCgUAgEAj0icCsk2MdJ4L6uMc9LpNinRGCrFN95CMf2Wd2en9cnLMVd++pjCdnCwE26WYwbr311myCYJvhuSiDXI87yLBGBWuDDAOLjTbaKM9uXX755XlWa1TSF+kIBAKBQCAQGDwCs06OkeJCjmWPduuJT3xi7pB0TMOSEmc5z2Tcw8pThPsXBJDb22+/vbrwwgsrrtj6lT/84Q/VzTffXCF8Sy211EgvwptK3q5Idv5c0q2++urZXITLsqkInAYV1lTin4l3mIfAiSnWj370o2w7PRPxRhyBQCAQCAQCs4PAzM6ztuSRlvg5z3lOXnT37Gc/O9+lLdYR0ep2E6THAr5zzjmnuuOOO6oHHngga6CXXXbZbOdosZCtYHfaaaeHkJvpxt0tbXF/dhEw6GFWYAHVKaecUi1cuLDaYIMNerYZVrd4UWFjvOSSS864ScKw0DNouOmmm6rddtstu2CzMM4gwPdj4aGtlHuVQYbVa5yz8Zy6ZMBuRstgwMJCtsghgUAgEAgEAnMTgVklx4jHGmuskV1lPe1pT8sII8Xvf//7szZ5Msh/8YtfVMcee2zFX+tPfvKTitsohEZH9tWvfrU688wz8zXNH/dLJfwS5nTiLmHEeXQRMOtgVmLdddet9ttvv7yJh4VUvZLksmCT3ew42sp2KhkLX88///zqtttumzAP4D7x+9//fnX22Wf3RY4HGVan9I7K72a0mHoZTLBFDwkEAoFAIBCYuwjMKjlGYCx2KlpjMOuEumll7FJ28sknV0cddVTW5NhQYNNNN634cqXVYRdIW6jTR7Z//vOfP6QEpxr3QwKKH0YWATMHfPuedNJJWTvK68QNN9yQvQ30QpKLZ4qpmGWMKii0vb4R5L8p8uj3fmSQYfUT72w8a5Atv9qNmV7YOBv5jTgDgUAgEJjPCMwqOZ4K8DpxphRHHHFE7uBt6bvNNttkLSFTCZqdVVddNduJct5PWonAVOKNd8YPAVrfpzzlKdUb3/jGaq+99qp+//vfZ1OCXkgyAmSzCoTI83NFmC2128iCCYod7vqRQYbVT7wz/SxibGaKt4onPelJ2cRiptMQ8QUCgUAgEAjMHAJjR45pg2mGH3zwwTxljviwBSyik6d5RphpjO1u1k0TXd7t5Yyc/+AHP8hHL8/HM7OLAGJD26cO2Aba/72QZAMttusGWxb2MSEwyzHuQpvO9zDXdGeddVbGw2+2kH7d617XV/YGGVZfEc/ww+yMv/e972WzLaYVdhkMCQQCgUAgEJi7CIwdOdZR0RzTWtEQN4lxKSYaQ7uBvfWtb6222267ge6yh1h96Utfqo477rgSXZxHHAEbUPz0pz9dLJXdSLL6ZYc5brwMsuyQZkHfuItvwzbYH/zgB/OulBYdLpkWHL7oRS/KmvJ+8jfIsPqJd6afNTC67LLLcpvDbt2gICQQCAQCgUBg7iIwduQY0aE1tvDOtHcn0XFbYe4YpDDR+OUvf5m3FR5kuBHW7CDQJMkWdiJC6oyBF3v19ddfPw+GzjjjjHxNCz3u4tuh/TSANNg0EDDjMhUZZFhTiX/Y7/jeecExIKY1th33XKgDw8Ytwg8EAoFAYJwRGDtybJGUjt3CKlqvmRakm7a61fvFTKcj4usdAQTHIs5OXgbYFy+99NLVjjvumMlPKVteKrbddtvsKtD2wVdddVXeKa33mEf3SQQPIe5EitnY3nPPPdUyyyzTlQx2C2t0UeieMvWGRxwzD7YQt8AzJBAIBAKBQGBuIzB25FhnbjtXHdall15a7bHHHm1timmY77333myfbDp8UHbH7E6RKN4xQkYfAcSYzfD222//kMQ2SbEd0JZYYonstq1oBtkdq2uvetWrsvuzj3zkI3kxGw3iXBZmJBa6GgywRT7ssMPmcnY75o29+be+9a3qk5/8ZN4lceedd55Tbv06ZjxuBAKBQCAwzxEYO3LM3m/DDTesTHPbvGD//fevDjrooOpZ/9fe2YTa1IVxfL8DRUkZGYhe7gARCV0DQsn8kigxFSIDBgbKt4HCFCPJxAT5nEgoXJSP8nHLLRHFwHcye1+/p5ZOt/u69777nHPPWfu3arX3PWefffb6rcP5n/9+1vN0dMRUcpucHMjkOT5+/HgsoiHFW73EMbeRWbFOt7U+gS9fvsTCM8IlUhtIFKfjEMnM8+bNm0MoEnd8+PDhEI5JQKdjc9p+//49wghI7Ua2jq1bt0YIRk5jHGgs/KjCOd+1a1fccaB8eFdX14Au+kDn9XkJSEACEmh9Am0njglr+PvXAqKdO3eGa3z27NkQyaSnwvnj9ufTp0+L3t7egi/5lStXxmKj1p8Kr7DeBBA4ZKgg5zX7gxXFtddBGA+frR07dhTbt28vTp48GWE95EnOtY0ePTrccvJDE1bw/v37SoljfmAzZn504xyTh520kGPGjMl1yh2XBCQgAQnUEGg7ccy1c7t7yZIlEVpBydvz58/HrXMex+niy43Ke6tWrYrbwoMpRV3DxN1MCBBjTLoy8hSTlo1wmP7CJwYaLmEUK1asiPR9ZCk5dOhQCKXly5cP9NK2fJ6Y+vXr1xe3bt2KOy/kiq5SI5/xnj17IpSGRb979+4tpk2bViUEjlUCEpBApQm0pTjmljbhFZ2dneEik7INhxARxBc7IRS4yHyx4YLZqkcAp5gsA3fv3i327dv3v0RxosbnjcwOhFdwznPnzoWrSKaHoeYGTuds5S3j5Q4N4yOPOGW4q9D4Uc38EkpBWNaoUaPiDhUZS7jrYJOABCQggWoQaOv/8fnCwtVCCJOTlgIdxATjILO1VZcAQocfSkePHg1hS+aJMnHCfJ4mT54c8cYs1Lp06VKIqLdv34ZoJh1aLo1wpO7u7uLAgQNxhwahnHtjAW9PT0+ET1y7di3S2xG6xd0nRLJNAhKQgASqQ6CtxXGaJkQP4iQngZLG5vb/EUDQceeABXVlRHHtu/NjjNvr+/fvD+F9+vTpKGP+4sWLWBiKeG6VlrK1XLx4MS6JLC9z5syJoiYDXSMZWcjQwbZMwQucZxbNckeH66GyZCs2Cvtcvnw5CqOwXgGnfPfu3RFKY5xxK86Y1yQBCUigsQSyEMeNReTZ25EAgrgRdw+SQCbV2aRJk0Icnzlzpnj+/HmxYcOGKMvMnYvhbrjbd+7ciVh8roWwEOKlqfg3UINbPYrn4ECTBi0JdK6plVrKSHHkyJEIlWEx74wZMyLeeMGCBVH0o5Wu12uRgAQkIIHmEFAcN4ez75IRAcQjwnjjxo0RznPw4MHi3r17Efd+9erVYtOmTbEgdDiGzN0TShz3jbXHRW/2nRXce0Q2RXtSI/MD4S71EN/pnEPdEnJDij/SQSLecbRxtteuXVts2bIlslM0m9VQx+DxEpCABCTQOAJ//fqi+Kdxp/fMEsiXAP90uCVPkRFSvCG0yJby969Ug1RSYzEbsfDNbLw/acgIaahtON7jxo1rqkBGcFJQBAe5tvHjggwyfQV87TGN2iffNfHizNXjx48jJzpztG3btoivhlEVYqwbxdfzSkACEsiBgOI4h1l0DMNKABHILXly4h47dqzAPSZWF8eUgjXr1q0rpk+fPqzXWPU3R6BfuXKlOHXqVPHw4cOCdG3EFvMDZvXq1TFXZeKrq87X8UtAAhLIiYDiOKfZdCzDRgAXmZhasldQSe/EiRPF7du3I26V1IKLFy+OtG/z58/XmWzSLDEnHz9+jDzoxIWz2A5RzEJDUvCtWbMmQigQyfVatNmkofk2EpCABCTQQAKK4wbC9dTVI4Ag+/HjR8QfI5KpzsfCOFxJypjPnj07nEpy5+pUNubzgZNP6WdyFV+4cKF49epViGSKuVAxE6d4ypQpkc2kEYs2GzMqzyoBCUhAAs0ioDhuFmnfp1IEEMnEt75796548OBBQdo38ucSz0p6ORb0LV26NMIuKE+tSCv38Ugu8fXr1yOsheIvxF6z8I5MHeQr7urqilzVLE4kBtsmAQlIQAIS6I+A4rg/Kj4mgToRQLSxaA+hRro3bu/jZn79+rWgMAkL0xDKpA5buHBhMXfu3LjtX6e3z/o0OMRUxqTMNZ0fIR8+fCg+f/4cIS4stCN8gsWRFAoifMIfIVl/JBycBCQggboQUBzXBaMnkcCfCSCSqeBIzOvr16+LGzduxAIxHE7y7VJsArFMirNZs2YV8+bNi07RkVbIm/zn0TXnWTgRQ3z//v3oiOGXL1+GO8yPjZ8/f0ZGjmXLloUjTwgLPMtWR2zO6HwXCUhAAhJoFQKK41aZCa+jMgRwPL99+xZC782bN7Fw7+bNmwVCGZFHLDLxsXRCAChMgWCmk/WCPMFVaKSlI3aYlGv0J0+eFL29vcGI7BN0WHZ0dBSLFi0K550QFdx4GFn2uQqfEscoAQlIoP4EFMf1Z+oZJTBoAghAhDKiGFeZjArd3d3hjFJ6mQwYiDwyLNBxmMmjjKNM2ABimcIaw5EzeNCDHMSBiFzKTD979ux37+npiTAJYrdThxcx2zjrnZ2dURIbHrjDsIGVmScGAdxDJCABCUjgPwkojv8TjU9IoLkECBsgPhlHFMFMAQ3EMq7po0ePCsTyp0+fIswCdzl1hDHFKyZMmFBMnDixIHVc2h8/fnzLZMVAADMm3HI64SVsiRum8xzjJ9sHnX0WMBKTjWuOKzxz5sz4OznrjH3EiBHNnSjfTQISkIAEsiagOM56eh1cOxOoFcuIRdxlwgxwVxHNdKrz8RwCkdhkyh7T0/7IkSMjxIDwDOJv6ewjKnFZeT719HfapsfZkt2BqnsIVmJ7U09/p216nGtCyOOGUyCFjvjFAeY8qeOMs8+WRmaJ5Ijjik+dOjWuOTnn/CCwtHM7f6q9dglIQAKtT0CoD3zoAAACiklEQVRx3Ppz5BVKIAiwqA8RifBMHYcZ95VcvjixtZ3MDQhsMjQgnlNH6PIYruyfOuEJ6Xn2ORed60j7f9oSAsEixNotr0V8427jclNFMG3ZJ2QiOeJsOdYME/4DkIAEJCCBZhJQHDeTtu8lgToTSII5ObFpi4OLgE6uLUI57ePm4kIjrNPCNrYcT+jDUBqiGZcaJ7q2E/YwduzY3241ojc51zyOG51c7tqt+YeHQt9jJSABCUigEQQUx42g6jkl0AIEEM44t307Ti4d1xcxXNtrnd7a13EswjWFb9S60LVONC5v6ul4ju273wJ4vAQJSEACEpBAvwQUx/1i8UEJVJMAgrq2I4r5m4ZL3LcTdmGTgAQkIAEJ5ERAcZzTbDoWCUhAAhKQgAQkIIFSBLR9SuHzxRKQgAQkIAEJSEACORFQHOc0m45FAhKQgAQkIAEJSKAUAcVxKXy+WAISkIAEJCABCUggJwKK45xm07FIQAISkIAEJCABCZQioDguhc8XS0ACEpCABCQgAQnkREBxnNNsOhYJSEACEpCABCQggVIEFMel8PliCUhAAhKQgAQkIIGcCCiOc5pNxyIBCUhAAhKQgAQkUIqA4rgUPl8sAQlIQAISkIAEJJATAcVxTrPpWCQgAQlIQAISkIAEShFQHJfC54slIAEJSEACEpCABHIioDjOaTYdiwQkIAEJSEACEpBAKQKK41L4fLEEJCABCUhAAhKQQE4EFMc5zaZjkYAEJCABCUhAAhIoRUBxXAqfL5aABCQgAQlIQAISyImA4jin2XQsEpCABCQgAQlIQAKlCCiOS+HzxRKQgAQkIAEJSEACORFQHOc0m45FAhKQgAQkIAEJSKAUgX8BJiKjMNYGXOYAAAAASUVORK5CYII=)\n",
        "\n",
        "This means that modifying a value affects *all* references.\n",
        "\n",
        "```python\n",
        ">>> a.append(999)\n",
        ">>> a\n",
        "[1,2,3,999]\n",
        ">>> b\n",
        "[1,2,3,999]\n",
        ">>> c\n",
        "[[1,2,3,999], [1,2,3,999]]\n",
        ">>>\n",
        "```\n",
        "\n",
        "> Assignment operations never make a copy of the value being assigned. All assignments are merely reference copies"
      ]
    },
    {
      "cell_type": "markdown",
      "metadata": {
        "id": "BtfeVeAam9MK"
      },
      "source": [
        "### Reassigning values\n",
        "\n",
        "Reassigning a value *never* overwrites the memory used by the previous value.\n",
        "\n",
        "```python\n",
        "a = [1,2,3]\n",
        "b = a\n",
        "a = [4,5,6]\n",
        "\n",
        "print(a)      # [4, 5, 6]\n",
        "print(b)      # [1, 2, 3]    Holds the original value\n",
        "```\n",
        "\n",
        "Remember: **Variables are names, not memory locations.**\n",
        "\n",
        "If you don't know about this sharing, You modify some data thinking that it's your own private copy and it accidentally corrupts some data in some other part of the program."
      ]
    },
    {
      "cell_type": "markdown",
      "metadata": {
        "id": "rB3azgyEp_Vy"
      },
      "source": [
        "### Shallow Copy\n",
        "Lists and dicts have methods for copying"
      ]
    },
    {
      "cell_type": "code",
      "metadata": {
        "colab": {
          "base_uri": "https://localhost:8080/"
        },
        "id": "2NAP0rSCqOTL",
        "outputId": "9a33c593-4f76-489c-f138-6f88016682a8"
      },
      "source": [
        "a = [2,3,[100,101],4]\n",
        "b = list(a) # Make a copy\n",
        "a is b"
      ],
      "execution_count": null,
      "outputs": [
        {
          "output_type": "execute_result",
          "data": {
            "text/plain": [
              "False"
            ]
          },
          "metadata": {},
          "execution_count": 7
        }
      ]
    },
    {
      "cell_type": "markdown",
      "metadata": {
        "id": "9oZslpCdqajK"
      },
      "source": [
        "It's a new list, but the list items are shared"
      ]
    },
    {
      "cell_type": "code",
      "metadata": {
        "colab": {
          "base_uri": "https://localhost:8080/"
        },
        "id": "qPEH6qhoqbik",
        "outputId": "361a15be-0f62-4c20-bc6b-4da431408d06"
      },
      "source": [
        "a[2].append(102)\n",
        "print(b[2])\n",
        "\n",
        "print(a[2] is b[2])"
      ],
      "execution_count": null,
      "outputs": [
        {
          "output_type": "stream",
          "name": "stdout",
          "text": [
            "[100, 101, 102]\n",
            "True\n"
          ]
        }
      ]
    },
    {
      "cell_type": "markdown",
      "metadata": {
        "id": "6FOBnuQnqnny"
      },
      "source": [
        "the inner list [100, 101, 102] is being shared. This is known as a **shallow copy**\n",
        "\n",
        "![shallow.png](data:image/png;base64,iVBORw0KGgoAAAANSUhEUgAAArEAAAEPCAYAAABV8py1AAAYPWlDQ1BJQ0MgUHJvZmlsZQAAWIWVWQdUFUuT7pm5ES6XnHNOknPOOeekSM7xkoMICEhQEFRUQFBQEVFBVJIkUVDEh5hQEZUgIoiKAUEB2QHU9/b9Z3fP9jk9893q6uqq6lR1BwBORe+oqDCYDoDwiFiKvYk+n6ubOx/+NYABBGgADpC8fWOi9GxtLQFafr//e/k2gvKi5aHUhqz/bP9fC72ff4wvAJAtin38YnzDUXwFAIyybxQlFgDsPEoXTIiNQjEO1RIwUVAFUSy0gQO3sOoG9tnClps8jvYGKPYCgEDy9qYEAkDe0Isv3jcQlUPeh7YxRPgFR6CsJ1Cs7Rvk7QcAxzjKsy08PBLFnCQUi/n8Q07gf5Pp80emt3fgH7xly2YhGAbHRIV5J/0/3fF/l/CwuN9jCKKVFEQxtd+wecNvoZEWGxjVHbod4WNtg2IGFD8K9tvk38BvguJMnX7xL/vGGKA+AywAwCQ/b0MLFHOhWCAizNryF107INjYDMWo72HH4Fgzx62+sB8l0v6XfDjRP8bI4Tf2pmyOtcGTHxfqpPdLZmWQv9lvme3JQY4uW3rCw/HBztYoJqN4LCbUweIXz1xykIH1bx5KnP2GzuicIyCAYmy/xYMIhcf8tgtRDwo2s/6FLWODHE23+iKevt6burGhOMQ/xtXyt55+/oZGW3Yhmf4RTr/0R0qiYvXtf/Gfigqz/cWPdPiHmWzQBVA8FBPv8LvvQiy62LbsxYCoWFvHLd0wTCHe5rZbOmAkgCUwAIaAD8Sh1QdEghAQPDTfMo/+2moxBt6AAgKBP5D6Rfndw2WzJQJ9OoBk8B5F/iDmTz/9zVZ/EI/S1/5Qt55SIGCzNX6zRyh4g+JwYAHC0N9xm70i/ozmDF6jlOD/GN0X1TUMrRtt/0Hjo/1NwxnhDHGmOGOcOIYDo43RwFiiT120ymNUMWq/9fqbH/sGex87iX2MHcc+2xmcSfmX5nzACoyjOhr/ss7nn9ZhRFCpShh9jBYqH5WNYcFwACmMIjqSHkYHHVsJpf5T17g/Fv/ty1+yiLJEmMhK1CWK/VsDsgRZ6Y+UDU/90xdbevn88ZbBn5Z/22HwD//5oW+Lf3Miuchl5BZyHRlAOpAWwId0I63IXaRzA/9ZG68318bv0ew39QlF5QT/x3jev8bc8FqMbL3srOzqrzYQ658Yu7FZDCKjkijBgUGxfHroae3PZxbhK72NT15WXhaAjbN/62j5Yr95pkMs9/6mRcoBoLZxVu/5m+b1AYCWEPS4Y/ibJtICAK08AANHfOMo8Vs0zMYDC6gALbpT2AEPenaJoRbJA2WgAXSBETAHNsARuAFP1M9B6DqlgASQCjJADigAB8BhUAaqQA04Cy6AJtACOsB10A8GwTB4DJ6ja2UavAML4BtYgSAID9FAjBA7xAsJQ5KQPKQKaUNGkCVkD7lBXlAgFAHFQanQHqgAKoHKoJNQHXQJaoOuQwPQfegZNAHNQp+hHzACk2AmmBsWgWVgVVgPtoAd4R1wIBwNJ8NZcCF8FK6Gz8PN8HV4EH4Mj8Pv4EUEINQIC8KPSCGqiAFig7gjAQgFSUPykVKkGrmItKMz/RAZR+aR7xgchhHDh5FC16spxgnji4nGpGH2YcowZzHNmJuYh5gJzALmJ5YGy4WVxKpjzbCu2EBsAjYHW4o9g72K7UP3zjT2Gw6HY8GJ4lTQveeGC8Gl4PbhjuMacD24+7gp3CIej2fHS+K18DZ4b3wsPgd/DH8e341/gJ/GLxOoCbwEeYIxwZ0QQcgklBLOEboIDwgzhBUiHVGYqE60IfoRk4hFxFPEduI94jRxhYqeSpRKi8qRKoQqg+oo1UWqPqoxqi/U1NQC1GrUdtTB1OnUR6kbqW9TT1B/JzGQJEgGpO2kOFIhqZbUQ3pG+kJDQyNCo0vjThNLU0hTR3OD5iXNMpmRLE02I/uRd5PLyc3kB+QPtERaYVo9Wk/aZNpS2su092jn6Yh0InQGdN50aXTldG10T+gW6Rnp5eht6MPp99Gfox+gf8uAZxBhMGLwY8hiqGG4wTDFiDAKMhow+jLuYTzF2Mc4zYRjEmUyYwphKmC6wDTEtMDMwKzI7MycyFzO3Mk8zoKwiLCYsYSxFLE0sYyw/GDlZtVj9WfNY73I+oB1iY2TTZfNny2frYHtMdsPdj52I/ZQ9mL2FvYXHBgOCQ47jgSOSo4+jnlOJk4NTl/OfM4mzlEumEuCy54rhauG6y7XIjcPtwl3FPcx7hvc8zwsPLo8ITyHeLp4ZnkZebV5g3kP8XbzzvEx8+nxhfEd5bvJt8DPxW/KH8d/kn+If0VAVMBJIFOgQeCFIJWgqmCA4CHBXsEFIV4hK6FUoXqhUWGisKpwkPAR4VvCSyKiIi4ie0VaRN6KsomaiSaL1ouOidGI6YhFi1WLPRLHiauKh4ofFx+WgCWUJIIkyiXuScKSypLBkscl72/DblPbFrGtetsTKZKUnlS8VL3UhDSLtKV0pnSL9AcZIRl3mWKZWzI/ZZVkw2RPyT6XY5Azl8uUa5f7LC8h7ytfLv9IgUbBWGG3QqvCJ0VJRX/FSsWnSoxKVkp7lXqV1pRVlCnKF5VnVYRUvFQqVJ6oMqnaqu5Tva2GVdNX263WofZdXVk9Vr1J/aOGlEaoxjmNt5qimv6apzSntAS0vLVOao1r82l7aZ/QHtfh1/HWqdaZ1BXU9dM9ozujJ64Xonde74O+rD5F/6r+koG6wS6DHkPE0MQw33DIiMHIyajM6KWxgHGgcb3xgomSSYpJjynW1MK02PSJGbeZr1md2YK5ivku85sWJAsHizKLSUsJS4pluxVsZW510GrMWtg6wrrFBtiY2Ry0eWErahtte80OZ2drV273xl7OPtX+lgOjw06Hcw7fHPUdixyfO4k5xTn1OtM6b3euc15yMXQpcRl3lXHd5TroxuEW7Nbqjnd3dj/jvuhh5HHYY3q70vac7SM7RHck7hjw5PAM8+zcSbvTe+dlL6yXi9c5r1VvG+9q70UfM58KnwVfA98jvu/8dP0O+c36a/mX+M8EaAWUBLwN1Ao8GDgbpBNUGjQfbBBcFvwpxDSkKmQp1Ca0NnQ9zCWsIZwQ7hXeFsEQERpxM5InMjHyfpRkVE7UeLR69OHoBYoF5UwMFLMjpjWWCQ2y78aJxWXHTcRrx5fHLyc4J1xOpE+MSLybJJGUlzSTbJx8OgWT4pvSm8qfmpE6sUtv18k0KM0nrXe34O6s3dPpJulnM6gyQjP+ypTNLMn8usdlT3sWd1Z61lS2SXZ9DjmHkvNkr8beqlxMbnDuUJ5C3rG8n/l++XcKZAtKC1b3+e67s19u/9H964UBhUNFykWVB3AHIg6MFOsUny2hL0kumTpodbD5EN+h/ENfD+88PFCqWFp1hOpI3JHxo5ZHW48JHTtwbLUsqOxxuX55QwVXRV7F0nG/4w8qdSsvVnFXFVT9OBF84ulJk5PN1SLVpTW4mviaN6ecT906rXq67gzHmYIza7URteNn7c/erFOpqzvHda6oHq6Pq589v/388AXDC60XpS6ebGBpKGgEjXGNc5e8Lo00WTT1Xla9fPGK8JWKq4xX85uh5qTmhZaglvFWt9b7beZtve0a7VevSV+r7eDvKO9k7izqourK6lrvTu5e7Inqmb8eeH2qd2fv8xuuNx7dtLs51GfRd7vfuP/GLb1b3be1bncMqA+03VG90zKoPNh8V+nu1b+U/ro6pDzUfE/lXuuw2nD7fc37XQ90Hlx/aPiw/5HZo8HH1o/vjziNPH2y/cn4U7+nb5+FPfs0Gj+68jx9DDuW/4LuRelLrpfVr8RfNYwrj3dOGE7cnXSYfD7lO/Xudczr1emsNzRvSmd4Z+reyr/tmDWeHZ7zmJt+F/VuZT7nPf37ig9iH6581P14d8F1YfoT5dP6531f2L/UflX82rtou/jyW/i3laX8Zfbls99Vv9/64fJjZiVhFb96dE18rf2nxc+x9fD19ShvivdmKICgFQ4IAOBzLQA0bgAwDgNA5bGVm/0qCBp8wOgbj0YK5mgEMAVJoPd2D8wOx8KjiBlyA2OCeYQNx9HjevGpBG0inviCqo26glREU0seo6Ojt2DIYxxgpmfZznqeHcPhzdnJzcezj3eZ309gVMhaeEBURqxQ/J2k2bYqqW8yBrL75YYVaBT1lWKUK1R6VMfV1jRYNSW11LSNdOx1ffVi9LMMjhjWG3UbPzSZNV03Z7bYZmlg5WEdbBNvm21XYl/lUO/Ygu76QZcHrs/cXrlPebzd/n7HW8+xnUNe3d4NPpW++/2S/QMC7AI1goSCycHfQl6F9ofVhe+PiIp0iFKJ5ohepbyM6YmticuOD0gwS5RMokqaS76b0ph6dFdWWsLu6HRKRnJm/p6TWZ3Zr/YSczXzovJrCkb2UxVqFoUfqCweKlk7tO2wR2n+keaj42XU5UoVO4/nVTZVPT+JqZaqcT61+/TZM/drl+v4zlnWp55vuvCpQb2x6NLHyx5X7jXbtDxq02yPvVbXMdZF3a3Q43w9ujf7RvHN0r7S/uJbubf3DOy9s39w/93sv2KHXO5J31sZ7rmf8kD5wbeHTx61PS4b2fVk51P9Z8KjxNH3z++PXX1R9nLXK69xwwnxSbrJ71NvXo9MD7y5PnPtbdts29zpd4Xz8e89Pxh9lFygW1j8NPq568vJr9mLQd8slmSWGZeXvo/96FmpXs1a8/9puC6wvo7OPw5woNFhIuhDIzpL6AD0ClZAY68vyE5kBI2aXmCjcGRcC96fwEEYJVZQBVLrk7RoHMlBtOl0J+ivM8wyMTMbsiSxNrB95JDmpHB18FDzOvOd418X1BPKEO4WWRVTEQ+ROC45uO2zNLOMgqypnId8oEK0YpLSLuVklRBVDzVLdS0NWU0BLWZtgvYPnfe6E3qP9e8YdBleNqo1PmqSa5pgFmTuZmFqqWolas1sg7H5ajtpd9++x6HRsdIp1znGxdPVzE3BndsD5/EBPek7PWt25ntFejv6KPqSfCf92vyLAgICNYPog94EXwspDvUPUw+nDZ+KaInMjXKLlkTXxVDMiVhKnEE8c/xMQlviviTPZNkUOOVJasOugrTw3U7phhnqmWp7tLJMs11zIvbuzT2ddyN/ouDnfq5CtSLnAzHFB0rOHxw49KYUPsJ1VPmYXVl4eUHF+ePDld9OCJy0rd5T03bq0xnp2uizV+qW6tXOp17oagCNepf2NPVdwV41ac5tudWGbze6ltnR2fm1W6TH4XpKb+WNazcf9832L93GDDDe4R+Uuav1l+WQ+72g4YT7OQ8OP6x+1PC4Y2TgycjT6WdfnyNjTC+EX6q+shwPnKiZnH0tOu3+Jmfm3NtbsxNzy/Pk98IfdD56LKR/Gv6i8PXg4pcl++UrP9hWsleXfyZszj8G0AMJYA3SQQ8a16tDsVALDMNW8Al4BfFE7mA0Mc1YVWwvzhY3hU8hcBJuEfdT+VJrkjhJP2kmyYO0V+lO0x9lKGTMZcpmzmEpYD3IVsVez9HK2cnVyd3F083bxXeN/6pAveBxoQLhOJHtorpiAuJA/LlEi2TBNmcpPqk56asy6bIWcixyE/L1CnGKOkpEpYfKx1WCVBVVl9W61LM1LDQZNEe1qrVDdOR1VnX79Yr1dxhIGCwZ3jAqMvYwETX5bNpllm/ubMFv8c6y2Srd2tKGxWbCtt4uxl7DAXa441ji5O7M5zzjctE1zk3DHXYf8Cja7rCDZcczz/KdO7y4vV54H/fZ4cvlO+p31N85gDHgXmBBkFEwQNdLfKhc6HxYbbhPBFfEk8iDUdbRhOjrlOQYhZj52NNxnvGs8fcS9ibqJC4nNSYHp/ClPEs9tMsxjT1tendr+qGMpMyAPduz3LI9cvz3xuVm55Xmnylo3te//3HhdNHXYqSE8aDAIdnD6qUGR8yP2h1zK/Mpj6zYffxg5fmqwRMfq4Vrkk4NnxGtTTs7ck6qPuv884tyDbmNL5uULxdcedWs0LK3daxd4Vp+x2SXZvfRnm+9jjeu9on2n7otNdA3GPqX0ND88K0Hlx7VjTQ+vT764gV4JTtR+zpnJn+u5QPtp9xFtuWrqy4b87/1H91GwSkDcHoKAOeTANh5AFArCYBwOQBkJgBsaQBwVAOwfhGAnh0DkMnFP/cHDRBF8+cAsBfNHAfAO4gMyUFOUDJ0HOqAnkOraH6nA/vAOfA5+B78FeFE9JAg5ADShkxiqDFKGC80I2vFvMYyYHWwEdiT2Mc4KpweLhHXhJvHi+ED8bX4WYI0IY7QTaQmuhPPU0FUrlRN1GTqCOoHJFXSCRoCDYXmJdmc3EYrRltGR0OXQbdEH4nmK74Mrxh9GGeYwpm+MWewkFmOs8qw3mDzYFtkL+aQ43jImcDFzTXMvZdHnxfwXufL5rcSYBd4K3hNqFg4RMRYVFiMJLYoPinxQPLmtnapy9KNMg2yTXKt8j0Kg4ovlT6pYFSZ1QTVpTTkNGW1JLT5dBh0Yd2Pes/1uw2qDXONIo1dTfRNZcx4zGktEItlywWrOetpm0nbCbvX9u8cvjiuORNdWF1F3dTcrTx8t6fsOOzZiN5j733Ivgp+bv67A2oC+4KmgtdCGcL4wyUipCOlosSjBSgsMcSYH7Gz8RwJVolZSd3JP1ONdh1Me5dulXFtj2JWW47Z3qm8vQX8+y4W6haNFxcfdD2sdcTsWEJ5XyXnCXI1XPP99OfaD3Xz9fMXPjYsXlq7QmjmbJVpN+xw6wruie9Nu5nev+t2/J2wu15DBcOtD+Ye8z/Z8azq+ZuXcuMZk4+nJWdyZ2fmTT6c+0T3JWXx/XLAj5m1qM3zgxZIAzsQB8pAN3gNUUPykAeUhWb8g9BHNLtXh73gXLgRfoYgaM7uhmQjl5BXGBr0VAnFlGP+QvNvOawftgKdd1qcJS4PdxtPhbfCl+BHCcIECqGXyEIMI/ZTCVJlUk1Tm1O3kyRJVTTMNPvIOHImLaDNoEPocunJ9EcYBBgaGHUZHzOFM+OYq1n0WCZZc9ik2EbYMzhkOcY5D3KZcmO4e3n28BrzkfhG+KsFYgSNhXiEloVHRFpET4gdES+WKJQs3FYiVSZ9Ruaq7G25l/JLisxK6sq+KoWqnWofNYQ1d2qVaz/X5dHz028wWDEyMi4wGTTDmqtY+FjmWJ2xvm4zartgj3FgcZRw0nV2c4lxLXK76D7k8WkHi6fWzgCvYu8unw9+gv6uAUWB/UFrIYqhwWGV4fcj4Sj5aC9KYcy12LfxtAkqiV5JBcmtKTO7WNPMdu9Kb8qY2yOYtSO7LOdpLmueW35lwev9UoWJRf3FbCWRB+8eli0tP0o+lldOqjhcKVp162RwDelU0xn3s5i6xvqdF+gu3mhMbJK5/PZqbUtwm1T75472rswey17WG1N9jbdSB8wH2e8ODzndm7qf/JDn0dBIwVOHUZEx6MXkq/6J+qmiacqMwyznXNW86PtLH7UXhj7v/PJxMX2JdvnYD56VqjWOn0Wb888K9EAUqAL3wDo69wHQMagP+gILwPZwFtwCzyP8iCu63wcwCEYbk4xpwSxilbDx2E4cFmeDK8fN4TXwB/BvCYaEU0QCMYo4RmVJ1UOtgs60PukujRvNHDmNlpm2kc6G7hN9KYM2wyzjcSYHZhrmOyx5rJZsDGyj7Kc5KJx6XIxc77j7eU7x5vCF8jsK6AnKC4kK84pwinKI8YlLSqhJWmzzlkqVLpPplH0tT1bQVKQoXVT+qKqklqH+QFNMK0v7ja6lXouBpOEpY36TGjNx86uWhlZPbaLsSPaNjh7ofu10i/dQ3L7s2eO138fTTzmAFPgsuCzULGw2IilyNTqWMh1rG3c5gT6RkvQoRT31ZBr17sT0mUzXPXez9XPacxXzmgu09g0UuhW9K047SH+oulTmSNsx7bLuCs3jzVXYE5YnD1e/OiVxOuFM31nmuoBz7efJF/wudjQyX4pqGrwihmY+71vt2lqu8XTkdH7odum53it54/DN9f6QW48GdO/U32X5K2bozjDn/aAH5x/OPRYccXmS+fTsszuj089XX9C95H0lOa40oT6pPaX7Wnda+436jMpbuVmJOYF35Hez823vEz4ofZj/eHrB7RPVp47PAV/ovrR+3b4IFqu/6X+bXNq9zLXc9t3p+8KPfSuiK72rnqvLawd/yvwcWPfbmP+YAAX5zesDIukDgH25vv5FBE0qSgBYK15fX6leX1+rQZONMQB6wra++2zeNXQAVNT8T99f/gtoYtJ9SP9XewAAAgRpVFh0WE1MOmNvbS5hZG9iZS54bXAAAAAAADx4OnhtcG1ldGEgeG1sbnM6eD0iYWRvYmU6bnM6bWV0YS8iIHg6eG1wdGs9IlhNUCBDb3JlIDUuNC4wIj4KICAgPHJkZjpSREYgeG1sbnM6cmRmPSJodHRwOi8vd3d3LnczLm9yZy8xOTk5LzAyLzIyLXJkZi1zeW50YXgtbnMjIj4KICAgICAgPHJkZjpEZXNjcmlwdGlvbiByZGY6YWJvdXQ9IiIKICAgICAgICAgICAgeG1sbnM6ZXhpZj0iaHR0cDovL25zLmFkb2JlLmNvbS9leGlmLzEuMC8iCiAgICAgICAgICAgIHhtbG5zOnRpZmY9Imh0dHA6Ly9ucy5hZG9iZS5jb20vdGlmZi8xLjAvIj4KICAgICAgICAgPGV4aWY6UGl4ZWxZRGltZW5zaW9uPjI3MTwvZXhpZjpQaXhlbFlEaW1lbnNpb24+CiAgICAgICAgIDxleGlmOlBpeGVsWERpbWVuc2lvbj42ODk8L2V4aWY6UGl4ZWxYRGltZW5zaW9uPgogICAgICAgICA8dGlmZjpPcmllbnRhdGlvbj4xPC90aWZmOk9yaWVudGF0aW9uPgogICAgICA8L3JkZjpEZXNjcmlwdGlvbj4KICAgPC9yZGY6UkRGPgo8L3g6eG1wbWV0YT4KGBR2wgAAQABJREFUeAHtnQfcFNW5/09yY2KJRrEjCkYEexTBXgg2FFHsShQVRQlisGuuDeO1RCWWaKzRWJLYC3YFxYJdigUbIKgRu8iNideb+9//fJ/kvFmWLbM7sztlf8/n875bZuaU35md8zvPecp3CoE4iRAQAkJACAgBISAEhIAQyBAC381QW9VUISAEhIAQEAJCQAgIASFgCIjE6kYQAkJACAgBISAEhIAQyBwCIrGZGzI1WAgIASEgBISAEBACQkAkVveAEBACQkAICAEhIASEQOYQEInN3JCpwUJACAgBISAEhIAQEAIisboHhIAQEAJCQAgIASEgBDKHgEhs5oZMDRYCQkAICAEhIASEgBAQidU9IASEgBAQAkJACAgBIZA5BERiMzdkarAQEAJCQAgIASEgBISASKzuASEgBISAEBACQkAICIHMISASm7khU4OFgBAQAkJACAgBISAERGJ1DwgBISAEhIAQEAJCQAhkDgGR2MwNmRosBISAEBACQkAICAEhIBKre0AICAEhIASEgBAQAkIgcwiIxGZuyNRgISAEhIAQEAJCQAgIAZFY3QNCQAgIASEgBISAEBACmUNAJDZzQ6YGCwEhIASEgBAQAkJACIjE6h4QAkJACAgBISAEhIAQyBwCIrGZGzI1WAgIASEgBISAEBACQkAkVveAEBACQkAICAEhIASEQOYQEInN3JCpwUJACAgBISAEhIAQEAIisboHhIAQEAJCQAgIASEgBDKHgEhs5oZMDRYCQkAICAEhIASEgBAQidU9IASEgBAQAkJACAgBIZA5BERiMzdkarAQEAJCQAgIASEgBISASKzuASEgBISAEBACQkAICIHMISASm7khU4OFgBAQAkJACAgBISAERGJ1DwgBISAEhIAQEAJCQAhkDgGR2MwNmRosBISAEBACQkAICAEhIBKre0AICAEhIASEgBAQAkIgcwiIxGZuyNRgISAEhIAQEAJCQAgIge8JAiEgBISAEBACSSDwf//3f27OnDnu+eefd9/9rnQqSYxBq+ssFAruRz/6kdtmm21aXbXqyyECIrE5HFR1SQgIASGQBQT+8Y9/uMmTJ7tTTjnF9evXr6VN/utf/+omTZrkNttsM/e97+V/Kvz222/djBkz3KKLLuq6du3aUqx9Zf/v//0/9+mnn7q5c+eKxHpQ9BoJgfz/ciPBo4uFgBAQAkKgWQhAav7+97+7//iP/3DDhw9vVjULlIs2cObMme7xxx93Q4cONWK3wElN/OJvf/ube+GFF9xqq63mVl555SbW9O+iv/zyS3fllVcagd1vv/3+faCF7yDSEydOdL/97W9bWKuqyjMCIrF5Hl31TQgIASGQcgQgsCuttJJbd911W9ZSSCzmCwsttJDVi3aylYIJxaWXXuq6d+/esn6jAe3UqZPr0qVLy+osxfSbb76xxcN3vvOd0kP6LAQaQkBGSA3BpouEgBAQAkIgqwhAYtECI0nY4lI/2ljfhlbg6PucRH99/2gDdtASIRAXAiKxcSGpcoSAEBACQiAzCECm0AgmQeqSIpSQ5iT6W3xTtJK4F9er9/lEQCQ2n+OqXgkBISAEhEAVBDyZSorUJUEok6izdAg87qXf67MQaAQBkdhGUNM1QkAICAEhkFkEvCY0KU0swLWaUPo+J0Xa6bNvA+8lQiAOBERi40BRZQgBISAEhECmEPAkMgknI8gcf60mlEnUWXpTSBNbiog+R0FAJDYKerpWCAgBISAEMolAkiQWwHz9rQQviTpL+weRlgiBuBAQiY0LSZUjBISAEBACmUAgKU1oMTitJpT0udV1FvfXv1d0Ao+EXuNAQCQ2DhRVhhAQAkJACGQKgSQJXVKEknpbbcJQfFP4fhd/p/dCIAoCIrFR0NO1QkAICAEhkDkEPJlKktAlQaKpk+QSSQrYS4RAXAiIxMaFpMoRAkJACAiBzCCQJKFLgkQnUWe5mwHcJUIgLgREYuNCUuUIASEgBIRAZhCA1CWpiaX+VmtFk9D+Ft8QnkgnERGiuB16nx8ERGLzM5bqiRAQAkJACIRAwJOpJEkshLLVZC5pEsvQSBMb4gbVKaER+F7oM3WiEBACQkAI5BIBSN3f//539/bbb7vPP//cffXVV+6///u/TVPZqVMnt8Yaa7gf//jHLSddzQQ7SUKXBImmTv6SJO6Mp0hsM+/q9itbJLb9xlw9FgJCQAjMh8DXX3/tbr31Vnffffe5v/zlL+6zzz4zUvvNN9+4FVZYwfXt29cdeOCBbuONN57vuix/SJLEghv1t6s5QZbvG7U9XQiIxKZrPNQaISAEhEDLEfjrX//q7rjjDtPErrbaam7dddd1yy67rJszZ45744033HXXXWfE9qqrrnJLLrlky9sXd4VJaEJL+5CEVjRp4g4G0sSW3gn6HAUBkdgo6OlaISAEhEAOEPjhD3/ohgwZ4iCzvXv3dt27d3eLLrqomRWMHz/eHXbYYe6ZZ55x06ZNc5tttlkiPYb0oRleZJFFYqk/LhJJOf/zP//jFl544dDt4ppWE0pfZ6u1v6WgiMSWIqLPURAQiY2Cnq4VAkJACOQAAUjsXnvt5ebOnevef/99N3XqVCOMCy20kFt88cXd6quv7mbMmOHeeuutlpNYyBftevnll927777r9t13X2tTVNghU1EIHe368ssv3Ysvvmh2xLSrHnvTVpNY8EqizuJxAjP+JEIgLgREYuNCUuUIASEgBDKKABrYCRMmuBdeeMG0rZBG7GR/8IMfuMUWW8zNmzfPkS70iy++aFkPITs4l02ePNk999xzbvr06WbK8O2330ZuA2VHIXQ4wUH0n3jiCTPBWHXVVesmZ7ShHtIbtdPUF7XOKJj59lOGRAjEhYBIbFxIqhwhIASEQAYR+Nvf/ubuvvtud8EFF5gN7HrrredWWmkl27aHcBCtgO1ypBUEBKJFm1555RUjr2+++aZFRdhuu+0cf0sttVQsKDdCyP7xj3+4mTNnuieffNI0sJSx0047uR122KEurS59DFs/hBkssFPGxCOKhK2ztA7ay8LmwQcfdGuttZb9ff/73y89LdRn2iARAnEhIBIbF5IqRwgIASGQMQQgJzhvnXfeefY6YsQIN3DgQNejRw+HiQHaV7bwzz//fHP8anb3sHl97bXX3PPPP2+v//u//+u23nprI4nLLbdcrNXXQ+g4l4gNEydOdE8//bS979Onjxs0aJDr0qVLQ+2izDDmDJgsXHbZZe7MM890Xbt2baguf1E9ffbX+FfINJpnxgZCTaQKQq9hclKP0AaJEIgLAZHYuJBUOUJACAiBjCGAZnH27NlmQrDhhhu6448/3sir7wbb3Wg+IbPNFMgq2kYI0pQpUyy81yabbOJ23HFHt/LKK8deNeSdv1rb+ZyDVhh7XAgcdsGQ1lGjRrkNNtggUtzcsIQSbN555x0z6YgCBH0JW2dpPSRlYBFx7LHHugceeMA99dRT7vXXX3c/+clPHGS+Z8+e7nvfq00nfBtKy9dnIdAoArXvukZL1nVCQAgIASGQagQgNdi+IrxH64cG1n/++OOP3SOPPGIEzr6M+R/kmDo+/PBDd80115gNLORwwIABjlBfzZRahA7yiCMbpgPY5ULS9t57b9evX7+6IhGU64Mnc7VINNdCINm69yYd5coL+x19DqP9LVce/UdDT9ILkmJAZh977DFbfDBmkFkcAGuVTxskQiAuBERi40JS5QgBISAEMoYAW8FsUa+44opGTMaMGWPRB4hIgBMX5O2hhx4yzSgOVWjfHn30UbOJxG62UfEaYLbnH374YSsfjSvkdc0114yk4QzbpkokFmL90UcfmdkA7cOpbYsttnC77LKLaSPDll/rvEr1l14XJ4mFPIchzqVtKP4MmcUuFsJKDGHILAsdHN169eplZJYFSKV6RGKL0dT7qAiIxEZFUNcLASEgBDKKAERjlVVWccOGDbOEBpdeeqll7iLRAY48aAC33HJLt/zyy7tLLrnEMnqxpX7ccceZ81e93YYgkhGMKAiYDmCPC5Hu1q2bbVVXIj711lPrfK8JLdYa8h3REGgX2tf33nvPiNrw4cONtNUqs97jYQklJBaMompifZ/jwpg24QSIXSx2zJBZFjyYg2CagmaWqA2034tvg/+sVyEQFQGR2KgI6nohIASEQIYR+NGPfuQgassss4x79tlnTfNI4H7SzUJSdt55Z4sZy/Y6pgdoaSG59QjaN8wGiskrmtxDDjnEnKQwJYiLXIVtV7EmFC0zRAzy+uqrr5pJBWl2IfCQtbjFk7kwffaa2DhCixX3Oa4+sdBBA7vOOusYgSWCwf33329afIgshBZtvyez0sTGhbzKAQGRWN0HQkAICIE2RgBygdMORHa//fYzUkkoJ0hssaaSEFz1CoQFswQSAhDrlUQKSy+9tIMgkvkLzSwavFYLJNL/zZo1yxyVaB8e+Ntss42ZNTQ7vW5YQulJbFRNLBiHrbOR8YDMbrTRRubshSMcZHbs2LHmFMf3kFnsrcFdIgTiQkAkNi4kVY4QEAJCIMMIoBUkEkEccVghKl999ZV76aWXjLxCFEmasM8++7itttqqI3UspDEJoX1EHcCh7IorrrBXtM677bZb0x3KfH9pQz2a2KgklvqaSWJ9v0iQwQIF7SymGdg833XXXXYvYO+MmYpECMSFgEhsXEiqHCEgBIRAmyMAUSL7V3GWLbbjiT2LVz+mCEkLxBlN4eOPP25aZ7TBaKGJe1qseW5mOyGTYQklRDcOm1j6E5Y4x9F3TFKI8YsW9plnnjEye++991rcYRz7cJ5D2y8RAlEQEImNgp6uFQJCQAgIASNHkEOfZQuvdYStebJsderUKXGUirNtYftLfFzCRZ1++ukdYcVa0UivEeU1DGnOijlBJewWWWQRuw+I+ztu3Dj3X//1X6aNvfLKKx3fEZ4r7kQWldqi7/OHgEhs/sZUPRICQkAItAwBsmwReoutY5yicADDIap///4W1aBWQ9BIYjdLZrBmCOUTdWDatGnmuDZ9+nQzGSBVLBEIPv30U/trRt3lyoS8Ui+kmldi81YT0v6yQMD0IQpGaD6XWGIJ0z5HKadaW2sdIxIG4bmIcEG/b7nlFrOX9mQWe2mJEKgHAZHYetDSuUJACAgBIWAI4C1PMgDIK2GVsDFlS54sW5CVMIKWka1yYrHecMMNYS6p6xxMBSibsF6QWAgt29tohiF1kMNm1FutkZBYiClkHxKHQ1Q1AVcydn3yySeRnKJYbOCwRxgsXpMQ8GYR0S0IqXbGGWeYScf48ePdzTff3EFm119//VjsspPon+psPQLfCX5QchVsPe6qUQgIASGQSQTQIKJJg7ziuAVJ9Fm2unfvXlefKAtSgxd7mK31sIVDEMkqNWnSJMu0hUMRxJqIA2GcqcLW0+h59BtNJGHNIPLVBBI7YcIEI7vbbrtttVNTfwy6gc00i4hf/OIXRspx9ILIYqPMwoh7aNNNN7UoB4R/kwiBagiIxFZDR8eEgBAQAkLAEPDb38R65Q8TAMghcWTZIq5FxloBI5rXVmTbakVffB3gfNFFFxn5Hj16tP86V6+QW/pJNjgIO5/JCAaZJWpEGhwCcwV4jjojc4IcDaa6IgSEgBCIGwGIIfaYnryyrU0mpp/97GemgU2DZhPS08psW3FjXK0879hFoom8Cn3EHnbvvfe2KBaksSXxBBr/Hj16mAMYZJYwbRIhUIyASGwxGnovBISAEBAChgD2oxBWn2ULItu5c2dLUYtd6fe+l47po9XZtlp9e7BIwG4WTWXehb4SqWDw4MEO0wnsd59++mmzCSa9LQ5g6667bkec4bzjof7VRiAdT6Ha7dQZQkAICAEh0AIEfLQAn6iALFskQBgyZIgFsSeYfRoEDTFte+qppyyhAk5Drcq21cr+e01s1GQHrWxz1Logs8SQ5Z7zZJZYszgSYroCmV177bUdsWgl7Y2ASGx7j796LwSEgBAwBNiSJ8sWiQBIwUoYJrZv99xzTwtan5RHe+nw0E6cooj1CoFFQ9zqbFulbWrm53YksR5PyGyXLl3cwQcfbPGGSWWLQyFkFhJLNAxIba0ID748veYPAZHY/I2peiQEhIAQCI0ApBCPccJkQV4J54SpAA5bZNkitmhaBG3r1KlT3RNPPOHefPNN8+5vdbatVmPRziTWY03kiq5du5opy/bbb+8eeOABW8QQNg3zAsxbcDIkXJukvRAQiW2v8VZvhYAQEAKGAOQVUkiWLbRbZNnClADiSpatNAWeJzLCzJkzzdnnxRdftHZCsklY8MMf/jDXIwqJjSvtbNaBgsySZY2FCzsF999/v2njX3vtNQvJBZnt2bNnauy1s453FtovEpuFUVIbhYAQEAIxIkDge7RYkFdILHFVt9hiC8uylaZ89pDqzz77zE2cONEcfHjfp08fN2jQINtmjhGS1BblNbE4sEn+iQA7BYTgGjlypO0cQGaJM0vGOJIlQGY5HmfsYWGfTgREYtM5LmqVEBACQiB2BCBCJAGAvE6ePNmybDHhk2WL7dq0CFpigvxjn4vpAKGWsI0cNWqUhfWC2LWLeBLbTo5dYccWMosZAQkSMC+BzI4bN84WZr169bIFz2qrrZaKBBdh+6Tz6kNAJLY+vHS2EBACQiBzCLAdDxEkXBbEEAeun/zkJ26nnXayOJxp6hBaYRx3iBMK0Yao+Pih7eiNLhJb++7E3ALbWMJwoY3FAYzwXNh5b7jhhq53795mhtBOi5/aqOXjDJHYfIyjeiEEhIAQWAAByCthqNC8Ykv6+eefm+bq0EMPNe/uNE3qecy2tcCANPAFHvqyiQ0HHDihgV1nnXWMwEJm0c6yGMIMBULLjkOa7vtwPdNZlRAQia2EjL4XAkJACGQUAQjhnDlzOhIVfPzxx5Zla7/99rNJHmKUFsF0IK/ZtuLA2GtisWOWhEOAkFuYybDbwM4DZPaee+6x95BZNLMrr7xyuMJ0VqoR+E7wACmkuoVqnBAQAkJACIRCAEeoTz/9tIO8EkMVR60BAwZYTE225tMk5bJt7brrrm7LLbdUuKR/DRTadEKf4ZGPF76kfgRYALAb8fDDD7u//OUvRmCJMYvWdqWVVqq/QF2RGgREYlMzFGqIEBACQqAxBCCvJADAZIDJ+r333rMsW9i8br755i4tWbZ879ol25bvb5RXsEKbeMABB5jzkrbCG0eTkHJk/nrkkUccuxOYFngym6aoHI33sP2uFIltvzFXj4WAEMgJAmykzZs3z0gO2jpiqZJZq3///pZli4xbaRLa207ZtuLAngUKYdDInEZYNGWnio7q119/bSHbHn30UbMT79atm6Wy3WCDDdxyyy0XvQKV0DIERGJbBrUqEgJCQAjEgwBkkInYZ9kibBYxMUlSsM0227gf/ehH8VQUYynlsm3ttttupglTPM/KQDPWhI8iuQPjvfjii1c+WUdCIwCuZKojCgZklsUgiRQ22WQTizW7zDLLhC5LJyaHgEhsctirZiEgBIRA3QgUZ9lCM8d2s8+ylcaJt1y2LTTF7ZBtq+7BrXDB9OnTLZbvs88+a6l2K5ymrxtAADILgZ0wYYIbP368xSeGzG666aZGZpdaaqkGStUlrUJAJLZVSKseISAEhEAEBAh2X5xli8/Yu0IIO3fuHKHk5lyqbFvx4YqZCJpYNIZyRIoP1+KSILNz5841Ikv2L5wOSaLgNbNp3N0obn+7vheJbdeRV7+FgBDIBAJMpu+8805Hli22QH2WLWz50iaQgXLZtnbfffe2y7YV19i8++67DtOLO++807a84ypX5SyIAPfvF198YQsGtLN8JoUtZJaQXTLnWBCzJL9JV7yVJJFQ3UJACAiBFCHgt+GJNuCzbK233nqWZatnz54paum/m6JsW//GIs53PlasUs/GiWr5ssB66aWX7sgSRyQD7GYx6SD6B2SW32HanCbL9yb/34rE5n+M1UMhIAQyhIAPPwV5JU0sWbYgrUOHDrXUmmkMsUSbP/roI/P4njhxotkYbrHFFm6XXXaRt3cM9x5jTjYqtPKS1iBAQhAiFQwePNhtu+22lsb26aeftl0R0ttCZkl1u8gii7SmQaqlLAIisWVh0ZdCQAgIgdYi4ImgJ68+juW+++5rQdnT6MHPVquybTX/PpEmtvkYV6oBMksM2SFDhlj0D7J/EWuWiCBrrrmmkdm1117bLbzwwpWK0PdNREAktongqmghIASEQC0EvAMUWlcILBmFll9+eXfIIYdY+Ck0cGmUctm2DjzwQGXbasJgicQ2AdQ6i4TM4lR38MEHd5BZfq+EP4PEkjRhrbXWSl1ikTq7mbnTRWIzN2RqsBAQAnlAwGfZwt6VRAWzZ8+2+K5sX7IVn1bNjjd3eOqpp6zdhPwiNi2pbZdccsk8DE3q+iASm54hYUeETF/Dhg1z22+/vXvggQfsd/DGG2+4ddZZx8gsGtq0Lj7Tg2Q8LRGJjQdHlSIEhIAQCIUAW/DEpZw0aZJNfoRPwq4O7/2+ffum1mGEdivbVqghjv0ktICQIjl2xQ5twwVCZoknO3z4cEf0iPvvv99swgmDh+MXEUSwZf/e90SzGgY5xIVCNwRIOkUICAEhEBUBSCBZtqZOnWrk9a233rIsW8R5xXEkzXEoy2XbYvJmCzWNtrpRxypt13tN7DfffJO2prV9eyCphOAaOXKkOX2hmSXO7KuvvmrJEiCzHNfvpDm3ikhsc3BVqUJACAiBDgQggUxq2NC9/vrrlmULrStZq9KYZcs33If5IsQQ4YUwgSDovrJteYRa8+pJrDSxrcG7kVogs5gRkCABO1nI7Lhx49wrr7xi8ZH79Oljx9CqS+JDQCQ2PixVkhAQAkJgPgQgHdjKYfMKiUWTttlmm1mWrTRnXvLOZoTLIqzQZ5995piEBw0a5Lp06TJfH/Wh+QhAYhViq/k4x1ED40ToLcJwvfbaa0ZmH374YduB2XDDDV3v3r3NDIExlURHQCQ2OoYqQQgIASEwHwIE/SfLFuR18uTJjixbkMAdd9zRrbrqqvOdm6YPmDyUy7Y1atQoZdtKcKCkiU0Q/AarhsxusMEGFrlgypQpjtBc2M3yPIDI8oeDmMhsgwD/6zKR2Gj46WohIASEQAcCbL/j5IHZwEsvvWS52H2WLTQzaRZl20rv6IjEpndsarXs+9//vjl5kbKWSCQPPfSQGzt2rDl2srBFO7vKKqvUKkbHKyAgElsBGH0tBISAEAiLAGGnPvjgAyOvxHtl+71Hjx4WUxISm2Zti0+ygNmAsm2FHfHWnsf984Mf/EDRCVoLe6y1MX6YEvXq1csy8WFicPfddxuxxUGS79NsYhQrGDEWJhIbI5gqSggIgfZCAAJIZi00r5BXUq+uvPLKbsSIEaZhSbNHMqYDyraVjftVIbayMU5hWkn856222srMi5599lkHmb3jjjvMcRIyi2aWDGGScAh8J3iQFcKdqrOEgBAQAkIABLzjEx772L2SZYs86zvttJPbdNNNUx/ovFy2rV133VXZtlJ2e+MYOGfOHPfDH/7QXXbZZQ5zlV/+8pdu1qxZbrXVVlN2qJSNVyPNIeweuyCPPvqo+/zzz123bt0slS32tDxTJNUREImtjo+OCgEhIAQ6EGDNT8B/7F19lq0llljCyOuWW26Z2ixbvgPKtuWRyMbrF1984W6++WaHJpbQbNx7ZHObO3eu+8UvfuEWXXTRbHRErayKAM8VnD8JZUdYrq+++socQFkQr7/++qkOw1e1Yy04KBLbApBVhRAQAtlGgEmGrXefZWvGjBmmBSNRAfFe0ZSlWTz5ZvuSdLEffvihZRXabbfdTKOX5ra3c9sgNjfccIM766yzXKdOnSzTGyYqJ554ojv88MPbGZpc9t0/Z0iWMH78eIsUQlawTTbZxCIdLLXUUrnsd5ROicRGQU/XCgEhkGsEmFQIOeWzbBHEHK0YGbb4W3LJJVPf/3LZtiCvyraV+qFz3H9EuzjwwANty5mA+thM3nnnna5z587p74Ba2BACjDvaWIjsY4895jD/IYkCZBbNbJqz+zXU4QgXicRGAE+XCgEhkF8EIH8EK8dswGfZ2nrrrS1b1bLLLpv6jpfLtoXmWNm2Uj908zWQRdTtt99uzoLEHkULe9JJJ813jj7kEwHILCYlmBhMmDDBMv0R9QQyS8iuxRdfPJ8dr6NXIrF1gKVThYAQyD8CONOgcSXiABpYyKzPspWFbFXe6UzZtvJxr0JkMP8YPny4e//9982THacuSfsgwG8ap69HHnnEPfHEE7Yb1LNnTyOzZAdLuzlTM0dKJLaZ6KpsISAEMoMAwf6nT59u5JWg5NgjsnVLxAHs0tIukJ1y2bZ23313ZdtK++DVaB/pivFgZ1fglFNOqXG2DucVAcjsJ598YmG5sG0nkQJkFgewddZZpy0d/URi83q3q19CQAiEQoBtd0IW+SxbeIAzIQwYMMDyn6ctUQFkFW0x8Sa9lMu2NXDgQNevX7/5zvPnN/OVtqA1ksSLALgSkzgLuwHx9jydpWEbT3SIJLSgkFlCr5H9ix2XRRZZxK211lpm586zq/jZAHqcz3Msbc+yOEZWJDYOFFWGEBACmUOAcFPEd/WJCj799FO3+uqrG3klyxaTVNrEZ9fC2YdQS/5zWrJtMVm+99577oorrpC9XtpuHrUnNgS4z1lUeDOj2AqusyD/DHvggQfsOQahXnvttY3MQmrJEsaiFycxFuo4heVNRGLzNqLqjxAQAlUR4MHPlpwnr2g00G7tvPPOrnfv3i7NWbZw8rjmmmsc28tHHXWU9YHYkhBHCDimA0xeSQlabXAl+sHPf/7zpJrR8nq5p9A+s72bhYgVcQIEmWMxSKa6NP924uwzCQqwTSXz1pgxY+IsuqGyuP94BkBmScBC9AI0skQgwREMAvvrX//anXvuuW755ZdvqI60XqS0s2kdGbVLCAiBWBFAewLR4CEP0cJJhigDBx10kNmUQUDSLJgQsHV49dVXm63utdde61599VXbziQEE8kW8F5Pg5Bp6IwzzkhDU1rSBmII33PPPRb2ChOOdhJMHCByRExIYms9CazpM4tf0kynQVg8rLrqqhY7ePvttzcyy+7MtGnTTDOLecHYsWON2I4cOTJXmd5EYtNwB6oNQkAINA0BttPIcFScZYvQNPvuu68RP+zJ0i4Q8NmzZ1vqUbQqvk8HHHCAmT+0m/YvbeNFBAsSSaD9ajcSO2/ePAsB1k5hv9B8QmLTtvAljjA7MkcccYR75513jMwSmgtzAp6BV155pVtzzTXNWTVtv6FG2yMS2yhyuk4ICIFUIwDRQ0M2efJk8+om8gA2Yrvssov76U9/mimbTfpx6623WvBzJlA0QcSJROPZLlu4qb7Zgsax0Gi3seA3Rr+RNNqQW8Pa8B9kdo011jDTAZ4X559/vo0TC+Hf/OY3Fm2F43kQkdg8jKL6IATaFAEmULRgiy22WAcCTKw+yxZmA8R8xSuXbTaybGUtdSN9hLQSs5ZQOhBx/jAdeOWVVxxxIhX0vGP4E3vDfdeORA6SxO+r3frOeKfZ2x9b5bfeess0sl27dnWrrLKK7eBglkRaWzS2eVh0icQm9shTxUJACERBgEnEp2bcc889rSgcnsiyBXnllQe5z7KF1jKLQj+xaRs6dKiF9CGsD6Tdv7aLHWKax44xYrHRbkSOMfGa2DwQorD3GOPNX5pJLO1jTAYNGmS7T4yTbzfPDD7nYcxEYsPetTpPCAiBVCEAYX300Ufd73//e3tI+yxbU6ZMMe0sWkvSrOI1nWVhokGLwp8kvQi0I4mFFHkS224EPu0klt2ajTbaKL0/mJhaJhIbE5AqRggIgdYhQCgnPPMvvPBCc7D405/+5CZNmmQ2sL169TLHBaXmbN14qKZ/aiTbjcgx7pBYmRPoF5AUAiKxSSGveoWAELBg/XjNkuIVu07iG9ba4kIDgmcwnraYDbDVft1115nWlfzyeN+meZvPDzv9wHaXsF/0AVvdtITI8m1s1StYYNsMHssss0zoarkOjTwY+vsn9MXBiVGv93VRTiOa2KT6Tbsbrdv32b82oomNUjfXNjrm2O/W+7zx/Sx99eS99Ps8fQavzz77zJ7JPJ9qPZuT6LtIbBKoq04h0MYIMAlBVtCcYrdKoHRSvUJeunfv7jbffHPznq0EEYT3jjvucLfccotNxGhlcVbAUWHFFVdMPYGFrGHyQNYtYtV+8MEHFl8TzTEZgLJCwiuNT9jvGTcWI2DAH8HaIQajRo1aIG1muTK5h8gfzz3E9UsvvbRhhw008X9rSdTrS8vnvg6jiU2y31HrLtfnsCQ2jrobGbOoz5vSPhd/zsJiubi99bxnXIlmcNVVV1la2759+5p/QT1ltOJckdhWoKw6hIAQMASYUNCaQUBvv/12I3MrrbSSkTi+J5TUPvvsY3EOyTRTKlzPORBA4nFCGvgjXiPe+4SdSnP0ASbhBx980LTIb7zxhmk2iPEKkUXrQaaro48+2iIOlPY9T5+//fZbW8RgBvL666+bBzWLGex+Dz744JokFhzvu+8+Cx3EvdC5c2dz8oNUkCnskEMOqarRjXp9ubFg0q+lqUqy31HrLtdnvqPf/ndY6Zw46m5kzKI+byr1h+8pO8+CsuDmm282ky2er6TlZoGYNhGJTduIqD1CIMcIEC0Asjl69GgjnoMHD3ZbbLGF69SpkyOO6/XXX2+mAZCRc845xzQApXDgWXv44YcbYYA08EdcRF7TnriAiZjwNhDxgQMHWjYdtMfEsr3//vstFiwmBZdeemmuTQvQys2cOdPuBTTwpO8k4xXCsWrCcRYApNBEkzts2DC3wQYbmNaIxdEll1xiBBYiW06iXl+uTAiNJ3Pljvvvku53o5j79pd79f2uppWM0m/qbHTM4njelOsz481ftT6Xuy4r34EbPgd//OMfbUGN0ywLkTSKSGwaR0VtEgI5RYAHPw9Dwl3tvvvu7qijjrJtYLpL2lTCRkFKSJF42GGHubXWWms+JJg0llhiiQW+n++kFH8gNBbaVhIuQN7pL0IUBWI5YtNLxAXiwnbp0iXFPYnWNGyAidlL5Aj6iRYach9GyFuPFvbtt9+2rGsnn3yyafJZIJAXnnvqD3/4g9tjjz1cuUxmUa+v1EZP5iod5/sk+x2l7kp9Ckveo9bd6JhFfd5U6jff55XE0q8vvvjC3XDDDaZhJ7MhSoe0ynfT2jC1SwgIgfwhgJaRLf8TTzzRkcMbO0YvaFE32WQT+w5CAknJm9DHbbbZxhIveAJLH5nk6TuvaJ3YysuzsP3MQoaFCznf0aSHESZY7KfvvvtucwIk7a6PkwueYEsmIrT6pIEtlajXl5ZX/DkMiU2q37Sz0bqL+1juPZhSdjWJUneUMWvm84Z25VETi3/B008/bYtpTLvWXnvtakOb+LHqd17izVMDhIAQyBMCTGbYLw4ZMsS0ZqV9g8xA5JCwxKa0jCx+hrh++OGHHUQDO2HJgghAFD/55BOzo8UEBTOCYoHI4hjIIginr1KJen1pef4zhCYMmfPn1/varHbX245y54ch7+WuC/tdlL4383mTRxIL1tjnX3PNNWaf/rOf/SzsMCV2nkhsYtCrYiEgBIoRwGt/4sSJRlLYYl5vvfWKD+fuPZMgGle869EskrQB+1i0H0ojW364IfsfffSRHQQrTEuKBQcUIlxg08dkXCpRry8tr/hzM8lcM9td3Id633MP0+9aDm31llt8frP6HvV5k0cSi9nGvffea/awOFhmYTEdbg+n+I7SeyEgBIRAzAh4B4zLL7/cUqruvffeuc9QxSRKpALCheHYhR0a9pyHHnpozOjmpzgIDZpYSFM5e1e+JzoFNracVypRry8tr/hzs0lslH4XtzPu983sN21txphFfd5AYPNGYsEZh0lsYfv06WPpauO+V5pRnjSxzUBVZQoBIRAaAQgHNoy//e1vTQOw3Xbbuf333z/09Vk9kUkDbSGhpZhUIWB8hwc5xECyIALgMm/ePDO7KLYp9mdio8j33FOcVypRry8tz39utkayWe327Y/ySttq2cRGLT/KmJfWHdfzhjHPk5AEgmgEvOJUS+KZLIg0sVkYJbVRCOQUASaUGTNmuMsuu8wiEuCxf8wxx5jdbE673NEtHJJwTMKuc9q0ae6BBx5wF110kdl7nnnmma5nz54d5+rNPxGALOEcB4EoF/LHf+/PK8XNf+/PKz3uv/fnlR6v9rmZZM63x7evtB3+e39e6fFmfaZe/qi3WeL75PtYWo//3p9Xerz4c5zPG+rNi2MXv6WXX37ZwtwRNYQY3OWERTYL7jSFMhSJLTdS+k4ICIGmI+AnFDSwbGH17t3bHX/88baV1fTKU1ABky4xUvv27WvhttjCGzp0qBs3bpxhccIJJ6SglelqAtpqsnFx76AxKhWIJN/jFEj0g1KJen1pef4zhIa/ZpG5ZrXbtz/KazPJO+2Kq+9xP2/yRGKJW33nnXfabwcNbHHMZuLFQl7ZLbvxxhvdCius4Hbccccot0ys14rExgqnChMCQiAMAjwU33nnHQvqf9NNN7kNN9zQCCymBO0okC7SzkJocfAiLa1kQQTAiUkU4oSNKHbFxVohtESkr+U8HL9KJer1peUVf24mmWtmu4v7UO97iFwz+0174uh7M543eSKxaGLZEcPRFJMCMnUh9JGQWxwnZN1bb71lcbxFYg0e/RMCQqAdEUAjwqr+wgsvtIflxhtv7I499lgL+O/xaPbE6OtJ0ytaPG+HRnxLyYIIoJUjoQHRKyCxxBIm7rAXSO3zzz9vYdp69erlv+54jXp9R0Fl3jTznm1mu8t0pa6v6Dfta5ZE7XsznjeQO/7yIiRhIQFLaTQCxpaseE888YQlJtlhhx0sSUma+i1NbJpGQ20RAjlHgAll1qxZlhqU1T4xPTEh8DZYTAxkq3r44YfdZptt5lZfffXcIIKWEPKOIxcB+YmX67ef0RS9++677sknnzQCtv766+em33F2BBtEEmQMGDDAocEnssOaa65pKYzRFrH1SaQHSO5Pf/rTBaqOev0CBf7rC+7bZpLYZrW7Un/q+Z6++/u4nuvCnhul78183tBv2pYHIVTdiBEjLL5ycX94Zk2YMMG0sDyrSfUM4U2TiMSmaTTUFiGQcwTYrvrTn/7krr32WtsmJGA92jSfnQsiMHv2bLOR/dWvfpUrEksAftLp3n777UbQ11lnHdN84OBF7FPCbb344otmD5t3swomR8xJ+GPMvWkAZB4cuC+I+Uo2r9LUw+BF6l5Sz7IQwgGOP5JFcF9R9q677rqAVsn/tKJe78spfaUftTSSSfY7St2lffWfw5L3qHU3OmbNfN7kicQynpht+LjL/A5RNmDWNHXqVLNB5/f13HPPWfxu7NLTIiKxaRkJtUMItAECEDm2ptCaYWsFoeWvVHhIQmLyJEwSaF+Z/HBkAwNIGnFNmSAgcqRhPeSQQxwEN8/CfUBQdex/mTD5I4wSmq0zzjijY0IdPHjwAiSW+wInwMMPP9xdffXV7pRTTrHUmGx7Yg+7++67uwMPPLAifFGvr1Qw41pLI5lkv6PUXanPfB9GAx217kbHjHqb9bzJG4ktHuNvvvnGPfbYY+788893OH3xrMJM56yzznKjR48258ri85N8LxKbJPqqWwi0GQJoVMhIheaMya+SEMh+k002qXQ4k9+zDQfBom9oXN9//3336aefGpnHsa1bt25u4MCBpqXNZAfraDSE/sc//rHZ10EGyskPfvADO6fcMWyHhw8fblubYAmOOMZhZkBKY7CsJlGvLy2bPoQhc0n2O2rdpX32n1vRb+pqZMya+bzJM4llR2HllVd22MBikuGFBXe5JCP+eBKv3wkGovwTJInWqE4hIASEQBsgwGOXFI8QWV5xViIkFMQty4JGFY0NWlLS6TZbIFCE1EIDi60sjim1tKHFbYp6vS+L+iHPaK4IldZsiavdUduJIx3xjdGIP/TQQ1GLC3V9GvrOeOOhT4xnbLMlySEgTWxy2KtmISAEGkSA7S7CvTChFQsEBo1NLU1c8TVJvGfbHC0RTkmSxhFgvLGf5a8RiXp9cZ3ci/UQ6OJr630fZ7vrrbv0fPpdyxa49Joon9PQdxah0v9FGcX4rhWJjQ9LlSQEhECLEMDWDQ3QCy+80FEj26U9evQwp56uXbvmxnMYkoC2Fq0XJgnERW0VWeoAV2+qIuBJTTuOC31v135nIToB48MOCc513v7cv+cY5gEsqLMqIrFZHTm1Wwi0MQIQOWwqL7/8ctuSZxJlK5mYszhFZWFyCTt8TDQ4LeEAt/DCC5ummUmHP2zUiJPKqyRZBFqpiU22p/+unXuzHfsNAvQ9C88ZxoewfuPHjzcHUpy0ILH84UBLlkCR2H/f03onBISAEGg6ApBYnA7eeOMNN2bMGHM+gLxiZjBx4kRHnNU0hYGJAggEHe9s+kVKWrZu0Z6st956btCgQeYkF6V8XRsPAu1K5tq131khsdzdaGCJQ33bbbdZWDvaTjitYcOGdYTViudX0PpSvtv6KlWjEBACQiA6Ati+okXAI50HMo4WJEq45ZZb3FVXXWWE77PPPoteUcIloO0h1SrByCHmkAa0KIsvvrjbfvvty6ZXTbjJbVd9O2skRWLTfbvz/GDRy8Ke5wjPDRbFRH/hmcLuTpZF5gRZHj21XQi0MQI8nFdccUV39NFHG6mD0O2///7u8ccftz8C4WMzi4kBW+7LLLNMZtFioiGGLEH+8YYmpSrEHbtgtgfRQqfJLpGYr3fffXdm8a634cT4/eKLL+y+I4FDuwixnl966SUzd2m38cZOPc3CwopkDy+//LJ75pln3IwZM8wEi+/4GzlyZMUQdmnuV2nbFGKrFBF9FgJCIFMI4PBErNDu3bt3JBMg7BLBuiG0TLQkFYDMoo0gFFMWhS1BJqRjjjnG7bXXXtZXSCyaFVKsQnKTNqEgpuSbb77pTjrpJIdzXbsI99jMmTNdtyA+LaYu7SKMN7+1r776KheEKOy4Md5sz2PSRNrstAlmVaRghry+/vrrZoJEW1nskqyAZ+XJJ5/sFlpoobQ1ve72iMTWDZkuEAJCIG0IoHWA5BU/lPnuyy+/7CCzaCxxBvOa2SySWbLn3HXXXbYtuM022xhxwnwC2+C1117bka4Wol6MQyvHCsyJHDF9+vRWVpt4XZ7MsW3bynBTSXec8YYw8dvCvKddhPFGE0tCABYuaRHMjEjh/eyzz7pJkybZAn7rrbc2UysWuCw27rjjDiPfOMLmQURi8zCK6oMQEAIVEfBkFu/cCRMm2IQLmcUmDDODRmOMVqywiQewP2QrEDLrJyFII1rnsWPHmkkBGtm+fft2HG9ic6oWDe6QG8wcCH+WBU/uqh3SQSGQUgQg1SROgbySbATtOFkAd955Z9uF8s32i60sLuB9H0pfRWJLEdFnISAEcokApAq7RU9m0dx6zSzayyyHqYLcEkbn1ltvNZMDtguxEe7du3dijhtohUhIwZYm7UM7zB+E1r8v/eyP4XiCzW+atFy5/FGoU5lGgN8VKZefe+45I7AfffSRW3311S199brrrtsWC0eR2Ezfwmq8EBAC9SLgySzhqp544gkzQ1httdU6zAyyTGax1UMbc/vtt1tyhE033dT169cvEXtFSOwrr7ziLr74Ynf//ffb9ivkFCc10uvyntdyf2jH99lnH7fTTjvVO7w6XwjkHgGeYZgG4AvAInH27NlmD7/LLrvYc4zFYLuISGy7jLT6KQSEwHwIMBF8/vnnFooLMstWG2TWmxlg35hFQTtDaDFs355++mnXpUsXs5WlX60Oag6m5Jm/7LLLLEYl72sJJBct8nnnnacYuLXA0vG2QoBnFo6sU6ZMMfKKEyWOhCz2MCFqJ6dCP/AisR4JvQoBIdCWCED6MDN49NFHTTPLRFGsmc0qmcUelckOEwO2HPv06eNwBltjjTVaus0InuB73XXX2d+0adMq3meYF9DOc845x2211VYVz2unA9yf2DhiB91OER/aaYzD9JXfMw6cJD1hh4MF4rbbbmsLvizvHoXpe7Vz/iMItzC62gk6JgSEgBDIMwI4HC266KLm3Y+2kskB8keImlmzZtlnPK+zFhQcL/nOnTu7jTbayOLoPvXUUzYJ0j88lVultYHE4oyGBglM2fosJ7QXe74TTzzRNEtyBPsnSmBHRAq2jbfYYouWLkDKjZO+ay0C2O4T4/Whhx5y9913nz2T+E0fdthhDnOhVv2OW9vr8LVJExseK50pBIRAGyCA5gszAzSzTz75pOVIx1HKh+bKYighJkK2HgnHBTEnZS3huHD+aFZIKOrEfGDq1KnmMU0EBRYH2MqWCoQVwn3cccdZEPZ2sukrxaL4M/ci2rchQ4bY15iIyNmtGKH8vmexiaMWNu44bmEiRBi9gQMH2m5KfnteX89EYuvDS2cLASHQJghAIJg4PJml22gKIbOQwCySWbR6aHRwtEL7TJIEtu2XW2652EaVuKFkrYKwYpM7IQhrxmc0sggEFeKMExoCgcVk49BDD3WnnnqqJW+wA/pnJgRXXnmlO+GEE+x+I4kE76Wlzu/NwXOH+NZkG0T7/sEHH5hdO05bhM1KU2a+NIyCSGwaRkFtEAJCILUIMKlgU+rJLJMImllMDyCzhILKkqDhQRuLVpZsPtjI4ki1wQYbWMSARvoCQcVmk/ImT55stsVosdEkIZAucEKThF0nWtmPP/7Yji222GJujz32cGeffXbisW2tQSn5xzhhPzx48GDDFfJPKDgiT6yyyiopaaWaERcC3uyGJAWQVxKG8Jsh1iuxn4nmIVkQAZHYBTHRN0JACAiBBRDwZPaRRx5x2JdCZos1s1kjs9iooiX1Oe+xt8TDmSxEYcVjgqPJSy+9ZGl+2fqE0CJghJYXso/DFprfFVZYwfXv3980TITXok4iEXCO5N8IzJs3z11zzTXu6quvtjBkaK7R/u+3335u1KhR/z5R7zKPALsXr732mpFXXtmpYGGJ4xZppSWVERCJrYyNjggBISAEFkAA4vbJJ584yCzb5d4hyZsZZGnSoS9z5syx8FdsX5L8gckTwlnNYaSWvStaQzSuZERDYw15RYvI9+ScJwkDJI3jaGCpUzI/AkR0uP76643EYI4BXjjyYK99xBFHSDM3P1yZ/IR9OBpXNK8vv/yypfDFvIeQWXGa+GQSnJCNFokNCZROEwJCQAgUI+DJ7MMPP2xkFoLWo0cPs5nFYSpLZBYtHyT2tttus0gCEE/CcRFqrFhq2bsSwaFnz55GWNHskrcd04tiG048rSGvK664ojv55JPdgQceON/x4vra9T1byxCcr7/+2iC45JJLLCnH6CCYEGQWnKstMtoVt6z0G1MRbF0hr/zusIHFnAenLRaSkvAItE9ah/CY6EwhIASEQE0E2Cpna/yAAw4wTSJklhiOb7/9dubILNv6kE7sYwnnhD0rGiIiGKBhRrB3xV6PxBCYUxTbu7LNjb1rr169zDwAG75ymiTIGRM4BH/o0KG2NV5McGuC3iYngAk2kPyhkWXBxP2G1r+dY4JmffgZR5xFfZpYdkFYKB500EFmTqPfQv0jLE1s/ZjpCiEgBITAAggwQUHsPJmFgGAzi1YTzWyrs2Ut0MCQX/h0sTh+ESLL52DHfpZwP0Q4QMrZu0J4q/UTjHAqu+iii9wZZ5whQhZiTCCxF154oSMRxGmnnRbiCp2SNgRYvKFB92li+Q0ss8wyjogDPB/YxZE0hoCQaww3XSUEhIAQmA8BSB2xTtkex8YTMst2IfaMxWYG1UjefAUm9AFtENo+NKsQV7zhETSoSDV7Vzuhyj/KZvI++uijRWCr4FR6CBLE/SXJFgKMGw6UxErmWUCsZnY9iMaBnThh7iTREBCJjYafrhYCQkAIzIcAZGOllVayLcIddtjB4rIygWFmgL0o2kq0m4SWSpPUsnelX2gDsWc9+OCDzXOardB6tkA5lygOWYvkkOQ4QYS8OUGS7VDd9SFAmlhIKyZGkFgWgf369XM8Ezp16lRfYTq7IgIisRWh0QEhIASEQOMIlJJZr5ktJrPrrLNOomQWguTju9ayd0WbTFQC7DKZhNEo10NgG0dSV4rEZuce4DeCuQCmNzhtYX7DwpV4r126dMlORzLSUpHYjAyUmikEhEA2EYD0MXkdFDhveDMDJri33nprPs1sK7cWIUUkcCiO71rL3pWwW4R3wlb2nnvuMS0Tjl9kEVIg9ubemyKxzcU3jtLRtJLAg98Rjlv8vtZcc02ze+VV0hwE5NjVHFxVqhAQAkKgLAJMdh9++KGZGTDhQV69mQGa2WaS2SjxXX1nsPEjOgFRDCiPqAbY9ymLlEco3le82c8991yLhHHcccfFW7hKi4wAC4y5c+d2pIl9//33zZyIcFnEQ2YRK2keAiKxzcNWJQsBISAEKiIAmf3LX/5iZBbNDeSVEFcbbbSRi5vMYu+KGcOUKVPMRg+HLRzOMCdASuO79g2yaFWzd2XiJhIDTl/PP/+869atm4Xjou3NJOEVwczxAUjsOeecY8TomGOOyXFPs9U1fjvE8fVpYvk9ETrOp4nFgUvSfAREYpuPsWoQAkJACFREADJL4POHHnrICKEns9jRQWYbDWpfzt6V+K9seSLeySpMfNdKjcd5hbBBJEn46quvzPaPJAmlCQ4qXa/vayMAiT3rrLMsA9pRRx1V+wKd0XQESA7i08S++uqrFjkCUyHSxMppsenwz1eBSOx8cOiDEBACQiAZBDyZffDBB43M4jiFZhYyC9EMS2YbsXclVmWj0RIgy9jKYif7+OOP27Y3k/lmm22mCT2GWwnbSkgsmZx+8YtfxFCiimgUAZ8mFjMg0sRiWkNiD9LELr/88o0Wq+siICASGwE8XSoEhIAQiBsByCx2dZBZvJshsziGsFVfjcwW27tingChxHyAiRcpje9KuB/CZcUVaJ16yOqF4xdmEqTRxPFrrbXWUozTCDcJJPbMM8+0WMMjR46MUJIubRQBb/rjnbZIE7v++utbmtjS1MyN1qHrGkNAJLYx3HSVEBACQqCpCDBxkjELMsuWvSezXjOLHSsSt71rlE55E4b777/fzCNIRwtZxvmLJAeS+hGAxJLdjMXAiBEj6i9AVzSMALsamHNg902sZ9LEohEn0xYLQIWYaxja2C4UiY0NShUkBISAEIgfAcjs7NmzjRRCZnEewcxgvfXWM8cswmQ98cQTLm571yg9QSs8Y8YM08riUIYGGZvBODW/UdqXpWs/+eQTN3r0aBvv4cOHZ6npmW0rizHSxL700ktGXt9991239NJLm+Z10003taQfme1czhouEpuzAVV3hIAQyCcCkNmZM2e6m266ycJbodlEU4RtHgHVERIsLLfcckZ4iOtK6Kso9q5Rkfzb3/7mxo0b58aOHWsT/9Zbb+34W3HFFaMW3TbXQ2JPO+0016tXL3fYYYe1Tb+T6mhxmtg33njDYiDvuOOOtqOgyBtJjUrlepXsoDI2OiIEhIAQSAUC3t4Vj2gmWTRFaF8hsQjkFU0RhBVHk7jtXRsFgUl/wIABpoG99dZbjcySihOtLEkSFIYoHLKMM2MsaR4CRNogAQlmA5MnT7YYyPyO+vfvrzSxzYM9cskisZEhVAFCQAgIgeYgEMbedfXVV7eIAJyL3SSRAXiNy2Eras8I9t61a1d35JFHWozaO++801177bWW8QuSQIxZSWUEWLDwp6D5lTGKcoQFIuY6OG3hSEkaZnYxSFaw8sorRyla17YAAZHYFoCsKoSAEBACYRGAsDCR4ulPIEWaG94AADNzSURBVPVy9q44TPn4rmheIYk4n2Ba8Ic//MGOEc2AqAZp0XbiiIZ5A+2+44473Pjx4y3hAhEMcFZrNMRXWFyzfJ40sfGPHpj6NLEQWBzosDXHaYvfjZy24se8GSWKxDYDVZUpBISAEKgTASZVJlIctXAoIUQWk2tYe1e257GZJZrBxIkT3bRp0+Yjs9///vfrbFH8p7MlvsIKK7hhw4aZOQFJEm644QbTypIkoUePHiIPZWAXiS0DSoNfsUgkRBZaV35fRADp3Lmzw2kODaw03g0Cm9BlIrEJAa9qhYAQEAIg4O1dp06d6qLEd8V8ABJICCAiA0Bmn376acsstO6669oEjYYpDWSWNqB9pb0kSXjsscfc9OnTzRSCJAlLLrmkbo5/IeDNCWQTG+2WAEfSxGLvit0rUTMIW7fffvuZs2Fadiyi9bL9rm5bEktgbhwMcJSIKgsttJDlGSe4Nz+Shx9+2OFJzA8Eo3BtS0RFOP3X44XNti9aM5xZ2DaVJ2v6xy3JFoaxd+3Zs6cFVSfOat++fe05U+t5ApnlOoKwQ2YfeOAB99RTT9mzjjS2mBmwbZo0maUfnTp1cvvvv79pZUmS8Oc//9nhEY6JAW0VcfvnHSpNbLRfKmliMc+BvJImFiHiAPcZpjmS7CLQtiQWD180FRdccEHk0YOsDhkyxDLUEBj5hBNOsADk2KnhhdvI9gTamS+++MIttdRSLYtJl0SdkcFPSQFsT5199tmOeIIrrbSSeWMXk9gsYJuFNqZkuBtuRlh7Vwgci2KIKzavhM2qV4rJLFpOnneQWSZzymfrNA1kFiUAmuJVV13V2kg7Z82aZQtB+r7sssvW2/Vcnc89IxLb2JDyTGMhB3nFRId5nwUhaWIxa5FkH4G2JbE8GNCaYYMWVdCoeLs1NLAffvih/Vh8Rp16y0er98gjj5jNDl7Ge+21V9OdM5Kos15c0nw+4048R9JtQh54eHrJArZZaKPHM4uvpfaubJ9jOuCfGyx0IWskMIg7viv3I2S1e/fu5kgFSSQxArtQ3syA45DJpAStLEkc9thjDyPvaGVx/kIriyKAFJ9Jti8pXHy9IrEeiXCvfh7G5pXf2eeff96RJpbfgSQ/CLQtiWUrDUeIoUOHlh1NiCk3P44STAKEsSFTRzmBrLJFF5egzT399NNt24MfHGVjO9ZMSaLOZvYnTWVnAdsstDFNYxq2LSxmcBwJY+/K8wUzlGZlteI5hk0szzLsASGzmMCwvQqZ5TmDGUKSZBEyT/uOOeYYc2zDXvb3v/+9aaPRSrPL0Y4iEhtu1MEJwurTxKJQQsOPyQo7G7VMccLVorPShEDbkthFFlnEgnDvsMMOZccDDS0PUkgsBt9sa1188cVlz+WH0YjJQNnC/vUl5fHHljRBmFshSdTZin6loY5mYsuuQhwP52a2MQ1j0Mo2NMveNY4+QGbZ4SkmsxMmTJhPM5s0meW5h80immkiGNx///0WiB6tbO/evV2ju1xx4NfqMvh98yf74MrIgw9h6XyaWOZt7K0PPvhgh6Ngkguzyq3WkTgQaFsSC3g8zPkrJxBXJnUvvG/Vg5PMO9jVsuXHQ5ytvmZLEnU2u09pKb9Z2HqtA7EOsXGMIs1qY5Q2Ze1aP5HWiu8ah71rHNgwsROzlV0eMhWhmSWsF5pZb9bAsaQIAKSNYPNHHHGEhUK6/fbb3XXXXdeRJIEoDO0i/NaL56N26XeYfmLnSlg6wsphfsL9uttuu1nWOsUeDoNgts8pz+Cy3afMt54f3j777OMGDRrUMuKcRJ2ZH6iQHWgGtkxqbFPffPPNthCLSmKb0caQ8GT+NMaiOL5rK+1d4wCPSZ/7B+0rEVseeughC3kFMfBklmOVFvxxtKFaGSgUttpqK9Mek+0LrfE777xjnuWk2cWxNu/CPSZN7PyjTISh4jSxfMbkBA0+i3JJeyAgEtuicUZLw4px3rx5FgOxllaX85lcMFAvtwLnOFuWlIfdHU4RPMyjPOhq1UlbELaufT3F/SKSQrVYe1GvLzdUlPnVV18ZFtSPmUg1YTKgzQh9oC98JgQLEQbAECzjllrYcjzseNJnCOzll1/u/vjHP7pDDjnE7pPiNvu+FX9X632cbaxVVx6Op8neNQ48ed5gG8vODxotT2ZLNbNJkFnuZyI04MOAL8Ott97qbrzxRmsnaXZpcxwmNXHgGHcZ/C7588/cuMvPWnn+d4fTFgkLeP7jDLnzzjtb5rqs9UftjYaASGw0/GpezQ8O+xx+bHiuo7HBOYEYjmg5CMNVKtj24NAwd+5cI1S77757B7HiYQZxffHFF81ZBI94CBiezSuuuKI9zHmgYw9Uj1Srk3J4UBDDkf4sscQSbs899+xI2ffBBx9Yv7p06dIRL7fUASPq9cV9gYgSfgzHO+rGeJ/4vPSfNuAYgwNLqXDOo48+ategecS+jokRJxe0Z+TPXmaZZWyLdfPNN68bw9L6/Odq2NY7nhBY2gmB5Q8ssAPjvRfsCcl+VO7e8ueUvsbZxtKy8/a5lr0rCym24fGorye+a1pwgszybOI3BJnFzIAUsWhm+W1BGLCnTYLM4pCLTSwOr/fee68bN26cPV+53/nNspDNo0gT6+xZx3znIw5gRsUOwWGHHWZa+rwuYvJ4P8fap2ASlZRBIPiBFIItfVR2hYDwFH7+85+XOWvBr4KYdIVgErPrAnuuQrD1VQi0B4WAHNl3lBdMEoXgx1c48cQTC3PmzFmgkICkFIJJ0M4PiEghiD3acU5ABgtXXHFFIZhICsHKvKPM4AdcCDSIhYCYFa655pqO88O+qVYnZRT3KyCohWACKQRp+grLL798gbp9v4KJr3DqqacWPvroo/mqjnq9LyzYMioENoeFM844oxCQdcOSuvkDD9pz4IEHFgLbvkLgEOcvs9eA7Bb69etn5waEtxCEMSsEueYLP/vZzwoB8bPvg4nZxmbMmDGFQHM+3/XVPlTDr9qxesYzWEAUgnifhaOPPrqjvb7vxa9B/MPCfffdV625CxyLq40LFJyTLwISUWCsgniThUsvvbQQLOLsXvO48xsIgqYXAiJVGDlyZCGw3yzwDMmD8DsKshwVzjnnnMIBBxxQOPbYYwtBqthCkNa2wD2ZlPAsCLTEhVNOOcV+w+edd561M8k2NQOLYKFeGDhwYCFIotOM4lNfJr+9QGlh/Q+i9hQOOuigwkknnWS/xbyNdeoHI4UNlCY2mIWaJWgLzz33XEtzhwYDrR8ar4A4mS1PQDbNtOCoo44KZfuKzQ9be5Q5KwgGjkkC23+kaKQuNL2EzEFbwRZzs4Rt99/85jeWmx2NMnZp9Itc7djUoRVE0zlq1Kiy/Wr0erQR9PH888+37USiNqDxJYQKfSZMFJojNMZst4NTpdBnlIUW96abbrKMRjiQoKkNFhWWsACNLSv8Zkq940ksV7Z4iSGMto/PbDEy/sWad7TJ4B+H1NvGOOpMUxncJ97eld0PHJ9aFd81LTigmUWrjBMYTmtoZvl9EDasWDNbzuypmX1AE4wtb7du3ex3QQQDnouEKcOGtpEEEc1sb6NlB7yhLZMd0G+eccVpYtll2nfffS1NbC2TvEbx1nXZQkAktonjxbYj2UJGjBhh6WchWxAtAnlfeOGFRjyJgThgwAAjo7WaQnlkHuFB7bf8TjvtNMs8AvligsFsodlG7ZgvQBID7bSFHltllVWsX6S3JAwZcfquvvpqy4oCyS6VRq/ngXb33XebHShbR+ReHzx4sE2wkDraxBYj+BIn8Morr7RJjgdfqVAWkzGOAfSDbSnazVYV3xGapdkOI/WOJ31mu5T2QqYIBo8NMlvWu+yyS0cX6S+Lizik3jbGUWcaygg0PHY/1YrvCrljEdfM+K5pwIM2FJNZEiUUk1lwYJsfM4NWk1l+p3ijEweU3/5dd91li1nMhfiOBW7WhcVUO9nEMkegFGG+w4wFQks4TMZUaWKzfjfH236R2HjxnK80NGRoWYPtD4v3ykFsV9HwEQ4Eey7sXtHwlCN78xUWfMAeEntYhAcaNqBbb711B9nq37+/2YcFW8N2TrP+YRMbmBJY6BvII4KNGtrMp59+2ggWNrAQ6nL9auR6HuL066qrrjIcWBD88pe/tAWA7ycTKZohCD0TLPiyisdWrlTQutK+YFvKCCtkEHx33XVX02bjJNBsqXc8mawh7dwDaL4hsUzQ9LtZmvd629hszJpdPqQdG+kpU6bYb5TFAilbmUQR7vcs27vGgR9kFnKIZtaTWXYHIPyezPI8CENmwZWsZYH5URxNM+ceHDPRyrIrxOICbW2zF/axNL5CITzPwAjbf6Iy5EF4bpWz2WfxiOIHZQLzIsoGnt8oepjvJEKgFAGR2FJEYvwMiYVclHrsQ0Ygn5AstmvDkk7KYeJgG4WVKg49xE1kheodLZhg+WumsBIeMmTIApEA2MImsDQTP/1CM1pOGrke0wFW5vxBJDAT2G677RbwymeyIk0vWmHI3oQgHE85Euu1SvTDjw+TLrEnWxV/Mi3jWW6M/HdZaKNva6OvECkWBT6+K/fMU089ZY6LlIkGnHsWMgR56xuE8SH5SV62qxvFDSLSq1cvwwUzJ0xdArtNWwCAE5pZdgSqkVlIC79pdqTiIimMJ89ASBA7Muyy0A7GsFibyQKNxSyklzFOq/Acw4yK+SIKiQUXIuQwHv6Z1+o+0wYwp/6zzz67o3rGApKOqQ4Ell0xnAvZYWJukwiBSgiIxFZCJqbvy3nw8hBBI4ugYWQCDSOQVwgZcfDQNPCjHz16tGlA0CByrNg2MkyZjZzDAx8SWCr01U/s1frVyPWQ2OIHOJihlS0VHoZEg0C4ZlZgelFOINx4NJczNSh3fjO+S8t4VutbFtpYrf3VjnGPtru9azV8wh6DzBL2il0Xtn4hs/yhzYbMcgzNbDGB9GVDYlnEEx0EG/q4hOcrxJWdrsAx1sgsZZPa15vaMPaYH2GeQx9aKSzy33//fdMQQ66rCc9VnreYEmHv3qig1UTxwUK/kq9Ao2WHvY7xZt5ikQiJ5TeIP4dPEwtZR0MbONvavVPunglbl85rDwREYhMYZ0icJ7f8iNnCDCNcF3ieu//8z/+0hy4rc1as119/vdkOBZ7Dth1OSskkhAeOJ4X19Mu3tdr1xZpdtNDYSk2aNMlfusBr586dDaNK2DIpdAscQpKUtI8n2GShjfWOIRMpuwSyd60XuernQwTRvqJBA1uILGY9mPSgsYXMQiBLiQmLer4/8sgjq1fQwFE0f/ghYCdLBkR+92hmsafHsZM4y5hGxeUIGbaJEDcW4UG0lJqEErKLw+7ee+9tJDxsHaXnQdrpMyEYyYKWhPDsRlsPiUURUZwmlp3LILKMKWNavahIAgvVGQ8CIrHx4NiyUngIo90488wzbcvMazzwyg9C4Ji28phjjrEtvpY1qqgiSE8UqXQ9kxEPQATtIA9/TBeqiSdg5c5hIm1GUoNydVX7Lu3jSduz0MZqGPtjsnf1SDT3FQJCLFns09HG8ozCvIdFZzUy24xW8QxAK4ujpk+SQEQSTBhY6CKVnjnNaI8vk3sRcwdMVGoJzz6UAqXkv9Z15Y7HVU65ssN8R/2YE6Ahx4SEcUChw04iz/RmO9OGaaPOyRYCIrHZGi9rLZoL7IRwSmJbiOw1EwI7PlbsvOehcMEFF1hSggx2r2yT6VMQA9aO8R6btyBeatlzs/ZlFsYzC20sN+4QANm7lkOm+d9BZnk+4eyFNraYzEIo+YvLDrZWb1iIQaAxawhiKHdoAyFVOKH6HaRa5cR1nPuSv7DENA7yWW+dcfXVl8NuGs52aGGxzcWOGvtyzOOimEn48vXangiIxGZo3HkI8SDwWy08eHfaaSfTzGJSEAT7tgcyW3g4LBF6KS+CIwA2dzz0eQBiTgBpJyJCJeHBjx1YWlf3jY4nmiNIJUIf8VxuljTaxma1J2y54ML2KdvabFlWiu+KtpAtcLzYCZXV6m3lsP3J8nk8r9i+Lyaz2PSjmcVRFRLZCuF3g/1pkMTGnpm/+93vrG6cYyFSmEH431Ur2lMPMa3n3Gptj6ucanWUHsNPAfMdHLZ4brOgwXcjSIrjuiVs0lXaVn3OHgIisRkaMwgZtlGEqMKkgAkXUkfA//33398C9zMh+G3TvJFYH4eSOK48CIkDSy710mgCPDQhuJyDBqYV4bIauY0aHU8mY0+2MLEAD/rsJ2Decx9wn6C1jiKNtjFKnVGuLbV3xWEIIsviDwEPJk7Ia7vEd42CZ5zXshAFc55dEFhsI/lDU46NKKGVCJ0XVjvZaNu4B7CLZaF/4403Wgg14lqjFSRJAn4HrZCwhJKFZNhzq7U7rnKq1VF8jDaTJtZHHCBNLDHFWTBg0sHvUCIEoiIQbYaLWruurwsBbIn48RM3kNAjaDH8FjuEzceQhczkbXuGiQ0bNjyJycTFAxHHCBzbmHzwuGVyIhsYjhxMkjhyEIYrrSS20fGEmKOBZpwhZ9gd3nzzzWZiwWecN/D4HjZsmGXzqusmKzm50TaWFNP0j37hBhbEKsa8plJ8V8JjEeIOZ6Ik7CGbDkbKK4DMEiWA7X280snwR5xYiKQ3M4DMtmJseE4GaWvdbbfd5u65556OJAm0w+94NQPOegkl58dB7uMgw7XwoK0soonDjfaVZxFRa4iPzm7anXfeWasIHRcCoREQiQ0NVTpORPOGNpYHBNoE/7AntA3hSXjwomVigsib4IiFxpnVPVuBbBcz8TH5+GgETIYch3wRkibtQc4bGU/GGA9jJgRIG4ua448/3rZrKc+HGEPTFIc00sY46q1VBpOl7F1roZTe45BZHMD4veLgw31NyCsWoJBInmH++daMXkDoWBCyk0N4L2w1IViYF5DwAhMTNIfNknoIZT3nVmtvXGS4XB2Uzc4NzyTMBtghIqY3URVYNPKe4/RFIgTiQkAkNi4kW1AOXvk8DNBC+i11NLAIWgvsjIgVe/jhh7suXbq0oEWtr4I+jhw50uxiyRKEtg0Sxx+CtoJtdEwP0Pbg8ZpWaXQ8GWtIO45tV1xxhZlNeAw4BtnHlCQOTVKjbWwm5kyCsndtJsKtLZt7li38k08+2Tz2MTEYO3ase/nllzs0s92CrWfOi0sgXMXEkPucuNFEC7j99tsdzxaesaQ5xTmtGY5fYQllaVsbxSCucsrVz0KXCDmQV8x3qItdMBLxEDqrWERii9HQ+6gIiMRWQJBV47bbbmvaPMgAtlxhBAJ16KGH2jYvoV3KPXjZ9kaTRnzCcmXjiLTvvvuahgLS5kNB8UqoGDRwPCzQuKFxZAsZhwW0FtgbNaKFrVSn73Nxv9BuokUplWr9inq9rws8MaEg5SyTCxppTApw9gJL6mHrChKLfRufvTARDRw40LbdwcuH2PHHo7xWw6/SsSjjiU0smcnw7sbrGw00W+rUxQKGLXPeh5VmtDFs3WHP8/auaHqws8NZS/auYdErfx4JQfAYxzmQ3w8mFuxgJCE8U1h88dsl/BREEs0sZJbv0M4SCL/cM7WR9paSSBbA/J5QAlAXJgY4zELOmAuIbBBn3cUkulb7S9ta6/xKx6nT285XOqee7/lNkkyC+YgxYz4i9CFpYss9Xz2RrqcOnSsEqiHwneCm+mdS8Gpn6VjqEGDYWP1iA8pEVEx2U9fYJjaIhzJbykzCLDwgp3E+pJvY9PmKjjKeOHLhGMMEgtYD4h6H/dx8DQw+RGljaVn1fJa9az1ohT+X8cQE6dhjj7WFIPcOdotoH1slLD6JIYt9OxrYYmHcWaRCZnHUxIEVMssiPSqZhXxhr0nQf0yxSgVs+E3dfffdtlhi4YxmEYJWvDAuvS7sZ/qDU+ro0aNt96zadbOCrIN77rmn+9Of/mQL8GrnVjvGQveEE06wiDYoSaIIzxx2f1hM8ocfAlpslASYuVUSnlH4dYwZM8ZMNiqdp++FQFgEpIkNi1TKzkMjwBZYq+Ispqz7Hc2BrEFc+cuyRBlPSDtaf/6aKVHaWG+7IBGyd60XtfrPB2fuH8gspknsXrSSxFZrMc832uN3XCC52L8TMo3vOMbivRGh39W0ktzr7DhhV45W9pZbbjESiYkBWka0slElrCbWtzXqwjSuclh44JeBAyVOpNgNY+LF4iJMG2mHRAjEhYBIbFxIqhwhIAQiI8DELnvXyDCGKgCihnaTHPYXXXSRhZsKdWGLTyoms2j90MyOHz/eNH+Nkli6EIZE4viFoyzOX8S2xfkLU7CoJLYeQompT//+/TvMyqLAH6bPtcqHxE6cONGctHw8ckxRwojvd5hzdY4QCIOASGwYlHSOEBACTUcA2+7XX3/dNF6yd2063FYBmrMsRPGgsZDZvkE4PRInYMfrwws2ilRYQgfZx4QAG3S0v3EJhC6M5hKijhmA942IUn/YPlerw9vjQ+zrsbv3ZdIGMJUIgTgQEImNA0WVIQSEQGQEsLMj2gRaQQgtgp0zKYbJ9qT4rpEhDlWAt3ck9BWxpyEtmKqgtUUzmbRwT5AwIYpAIMOSSF8PjqtgEJeEJZSYe5R6+DfSBq8FDUOcq5WPAx7ZzRoV+i0RAnEhIBIbF5IqRwgIgUgIMDlCVtdaay2HMwuOItjZEVYODVizbX4jNT4HF0NysEMmbfW4cePM6xyHHQgUkU+IHEDs1Kga0LRAFZZENqO9cRHKetuWZJ99W0ViPRJ6jQMBkdg4UFQZQkAIREaALUYI0pFHHmkEihi/bB37FLuRK1ABVRHwSS1wniLjEtvFhKvDS58kANiE4lFPaMCsLyiSIpHFA0AbompFi8sL8546k4ze4nEP01adIwTCICASGwYlnSMEhEBLEMDGbvDgwbZtzfatpHUIkE0Jj3MSpowYMcK27LHDJHLBY489ZrbKF198sUUEgMgmSYbiQAWNYJJ9aLVW1BPIVhPn0rGSJrYUEX2OgoBmiSjo6VohIARiRQBtLDaPktYjAKHDbODUU0+dz4EJjSxmHoSxO+2009y1115r8UCbmZK1Fb1PQhPq+5UUoWw1cfb9LX6l7xIhEBcC342rIJUjBISAEBAC2UUAm2TMN3CgKxU05LvuuqslGfAxZUvPydLnpEhkMUZJEMok6izuM7jjOCgRAnEhIBIbF5IqRwgIASGQYQSI9UkkiHLhj/iOtM2kpSVyxOzZszPc0382PWlCR/2tNGeAQPKXtDkBbZAIgbgQEImNC0mVIwSEgBDIMAKQC5y7Kok/DqFNQ6itSu0M+32SJBYs+Ws1oUyyz35caINECMSFgEhsXEiqHCEgBIRAhhH45ptv3Isvvui+/PLLBXrxj3/8w7333ntu2rRpDrODtddee4FzsvQFBDJpQpdE/UnUWXxfeNyLv9N7IRAFAZHYKOjpWiEgBIRAThBAC/vCCy+4m266yc2ZM6ejV5gPvPbaa+66665zH3/8sTl5ZZ3E0jkIXSu38zsADd54MtdKTayvM6k++/6Du0QIxIWAohPEhWSNcghf88QTT7i//vWvZltG0HBszJBqx2oU23GYIOUPPfSQfcaLePvtt+84pjfNQeDrr792Dz/8sDkq+Pzm5ewJm1N7OkvlXiZlLK/c38R6VbSBdI4Vrfr73//unnrqKffGG2/Y1jZON7/97W9N67ruuuva2JHwgNBbxIldc8013ciRI93SSy+d3k6FbBmkrpUksrRZSWhFk6izXL9Lv9NnIdAoAiKxjSJX5jq23AgMTi7yUpsxtujOPvtsC+JO6sKf/OQnHSS22rEy1SzwFQ9jNCRHH320OWWsscYaiZDYav1foNE5+ILJnZzmbMN27drVME9ay5E0rNz/v/rVryy2aJcuXdyGG24oEpv0oFSp//PPP3djxoxxr7zyipkJ9O7d2xIc3HjjjXZfszhjTFmQbLrppm6fffZx2223XZUSs3HIayWTJLGtJtHU1+o6S+8Gj3vp9/osBBpFQCS2UeRKrkPz9Mgjj9h2HGkz99prL5sU/GloOMhFTngagrhD+LxUO+bPqfVKeZTNQ7lTp061To/9eK3+x15hCgpk3D788EPTZi288MIpaFHyTQCTjz76qOx9nnzr1IJiBCAURCSAnLLw5R4mtewGG2zQkfqXzF0kPOjWrZuR1z59+pSNXlBcblbeJ62VTKL+JOosvR9og0QIxIWASGxMSKKVO/30092rr77qunfv7jbaaCMLVxNT8akvpt37n/oBUgOFQAkCmL6QVpYdolI56aST3LfffmtOXpgn5dEkJElC5zWSrdYEJ9lnf4+JxHok9BoHAiKxdaDIg6eazSNbyfyx9cYE0G7S7v1vt/FWf/OLAM85ohCssMIKuewkz3L+Wk0ii8FsNaFMijgX95n3tEMiBOJCQCQ2BJI8bLAdw+50nXXWKXsFjg7YRz755JNuvfXWs+25sifm9Mt2739Oh1XdEgK5RaDVJLIYyKRINH1O0m7fE+liLPReCERBQCS2Bnr86ImPePPNN5stayUSu9hii5nTw6BBg8y2rEaxuTvc7v3P3YCqQ0Ig5wgkSWKpG0LXakJJnUlqn7ml6LtECMSFQNuRWH7EeJPPmzfPnKtwWsADt9wPGycVCOzll1/u/vjHP7pDDjlkgbzPXOdNDCibqARc1+qHU7kbgvYQBgrnDNqJthRHjrBCP7gWvIi4UMsurlb/KQ8BL4831xDmh/GgDrYw6xGuL/dQLK6j3vLC3h+Vyi3u05JLLhlqUcM1xOOcO3eu3ZdLLLGEY2Hg761ydfmJkGP+PqQc4n0S8YL7mvu7ktQ7vqXlUD8h47hHGLckHApL26TPQiAMAv65kcRz2tfNq38Ohmlz1HN8va2ss1ybyz2vy52n74RAGATahsTyA4YokZFm6tSpFimAyX7ZZZd1K664om3/46HrJ2ImePKDQ2D544f30ksv2XsPLLav22yzjYVXIk7rPffcYyQE4rD77rtXJRC+jGa80vZ3333X2jt9+nTrKw9rwkCtuuqqbvPNNzfCWK5u+klIneeee8598MEH5n0PEQYjQiYRGoxYkaVSq/8QnT//+c8dBG3PPfc084xnn33W6vn000+tfHKz4x1NGLJygq3xjBkz7I/xhESVsz+GBBIOKCwprvf+KNc2IkTMnDnTIlQQKYI+0Q/6hIkJ+JcK17BQev755w0PPPvpz/LLL+9+/OMfO0IeMWalwpg8+uijhh1kl7jAOOm8/fbb7rHHHrN7d5lllrHMSoy3v68bHd/i+olE8fLLL1tdtBczG9rA/QGOLEokQiAsAtyT/F4I69UqYaHK85zoIq2sl/7xG6Fenl233HJLTeVAXJhgEsdzmni/kyZNiqvYusqhzzg/g4FECMSBQNuQWH68mAT8/ve/twmYByeCpguNFWFm9t577w5t66xZs9xll13mrrzySgvczrkPPvig/fEewekBsgE5QfN15pln2sTO56233joREsvDAfL061//2toKQfJCaK/VV1/dHXzwwQ4SWUqOIFSQoNtvv90IJ2QR7SDC6h3C379/f3fQQQcZES6OhVur/zxAjznmGCM4EDtIFQ/Tu+66y0g27aY8IjvQtiOOOMKw9W3nOBEQ7rvvPiNpTEB89ppLf55/pW8777xzaBJbz/3h6yh+hXhC/G+44QY3duxYaxvH6RNkFDOTo446aj5HGRZRkFe0/HfffbeNm3+4g3fnzp3dHnvs4YYOHWokuLg+CDxB6SGsfoEBmfzNb35jmEI0GW8I9GGHHeZGjBhhnxsdX+pmcUQmJ8aABQljQD1eqA9tOmMiEQJhEGBxzX2OmRb+BK0Wfh9J1MuzlsUlGdKq7bbEjcdmm23m3nnnHfuLu+ww5THvsjvFPCQRAnEg0BYkFiLG6u/cc891kFPiIZKNhh8TWke0AGTTYqsdkwEmZrJfEfeVLXQ+Qyo432u0AB9NFxqoNAkkiHi0V199tSM0Dukh6S+ED83qm2++aThAdE899dQOou21Ieeff7679dZbTRsI2YQMggvXk9UH8gIxBkvCiDUiEF7IFnnYmUQ22WQT0xDwmfah+QbXUaNGdWzFo8mFIJ533nlG9tB2o3lkAqAvCFpXNMWMC4uLYpJdrZ313h/lyuI+ApPJkydbG2gbxBiN5VtvveWuueYau38gsj6mLH2CiN5xxx0diwSuQ1vBPcl4MY6Uc8kll1S81xg7ziVd6AMPPOBWXnllMyOBcKKRR2N76KGHmsa00fHlvmLcrrjiCmsT9xj9QMMM3hBYtLLUyQQtEQJhEOA32qtXL0u4EOb8vJzDbxZtMLt57SY8b5Mw42g3nNulv21BYnlYPPPMM0ZgeWgy8Z522mmmFWPSff31121F7FMpQozQKP385z+3FJqQDAgSgcB32WWXjnuDBxAkLG1CW8mUhKkDW/8QPsgMWrtx48YZcYfwoAnYddddrfkQdbSBaAXp/8Ybb+wGDx5sedIh8hDXe++917a/0B6ioUZ70shDGA0k5YHvlltu6VZZZRUjyRCwiy++2CJBQN522mknW2zw0MME5KKLLrJjYI65Rs+ePY00oRFkEcJ5mCKgeUS7HrZt9d4f5cabMtBco/FEWw35h/izXXjhhRca5uwCDBgwwPpEGVzDvYcmddttt7UA892CoPLenINrGRdS23JepUUD57BLAFkGU3BB842pBt+heWcRFmV8aev48ePd7373O7OBhWzTlx133NHGj4UO/Webkh0MNMUSIVALAZ41PF8qmQ/Vul7HhYAQaHMEAg1L7iXQIBVOOeUUjHAKAcErBMStEGi3OvodkJ9CMNkXAs1rx3e8CTRlhXPOOceuC7SahYD4zne8+ENgP1vo0aOHnRuYExQC0lh8uFDteLVj8xVS4UOwqi8EWlKrO5gUCoEmrhAQnwL98sL7ILVkIdie7sAh2G4vBFq/QrBNXHjttdcKQaaxQkB2CgFJLARbxv5Se6WOd4M+BcSyQB0B8SwE+dQ7zqnVh4DgFILJyuoOFgiFQCNYCMhXx/W8CbSJhZ/+9Kd2TqDdKwTaSzvOOASmGh3XBhrPQmB3accCrZ+NXUC4C8HqvhAQa+uLHQz5r9H7o7hPwQKoEJC3QmCrOl+tgUa1EBDUjj4FRLbjeGAXVwjIeCEw/SgEms2O78E6sK0tBFplu46yAw1ox3HecG2/fv3sOGPGPRdosAsB2bTzwIX2XXvttXavRxlf2jNr1qxCsIiz+oIFQiEw9yjQt1LhPO4Nfmu06f333y89RZ+FgBAQAkJACMSCwHfbgcOjmfTb6tguorm77rrrzP4zQNG2QgMCmouc4Gg20CLj6MMWrxfe47iGppDtX7ShaDfRiIIJW/n8gRUaP/KjYwPp/wIiY9ENSKcLZmjaJkyY4Iuv6xUzhyFDhizg0IAJATZbCFpV2obQPrR8iHfY8lvybEuhycXmlLaypY1taj0Sx/2BqQmmKKXaXzTC2Ecj9Ckg+x1Noy+HH364mU1gb+yFMQQjtNQI2GNSUEnYXVh//fUNU/qCgAu2uGhhGfso44t5QLCAsd0MykXLjM0ytowSISAEhIAQEAJJIfBvlpNUC1pQL4SHrXO2PnEmwjN09OjRRuLYTi/23m5BcxKrArKDeQH2wI8//riRKrzp2crD2N8LhOmqq67yHzteIYmcj0AsZwX2xY0IJI22lApki21qpJS4sR3uv2dru1g4F299BIJdr01mXPdH8aLBtw/S5wlqaZ8g7Sw2igVcIe+B5tRsWDlGn8C+klAOpiOlBNqfT5lRxtdfT/vZ+sUcp1yECl+fXoWAEBACQkAItAKBtiCxkCYiCfznf/6nOSlhF4rN4PXXX2/apQMOOMBsQ4Pt9FZgnmgdkEc0aZ7EQuiLtZ5oaLEfrhaCBQ0cNpClZDJqxyCqnohBmHz5EKc+ffq4P/zhD6YB5nXfffe1qBCcgzMVERUQzsVRpB5p5v1B2Z7cFvepuH18jx0szofYvk6ZMsXee00050JkKwlj2i2wpa0kUceXRUFgFmDFM+5ptAOv1Hd9LwSEgBAQAvlFoC1ILMPHRI/TD2GwMB0g+gBkAY/7wO7VNFWEgKqUkSsvtwCkCu0g4t9DkCCvCFrJwNayY1vfvizzzxO/MocifUW5pQIxDWxlTWM+ceJE844nVBQaQbTGmA8QqgYC3LdvXzMdKS2j1uek7g+0nJBwwlaxsIAscn9CxNGQE4KslkD+qyU1iGN8vSac8WE8JEJACAgBISAEkkagbUgsQEPeiE930kknmd0noaSw64Q48B6N2QUXXGB2l0kPTLPqh6ySAAGBuGE3Sb8JSYXwHhJ19NFH2+c0/INABU5C7uSTTzZPf0gr5M4TPIgVNql4+B977LEd2tx6297q+wMNKSG4zjrrLIsagd02NrLYIzMuRDPwfay3L8XnRx1f7hO09whaWbT3EiEgBISAEBACSSPQFo5daKLQeHlBY0f4JjSww4cPNycabCoJUxR48PvTOjSVfMGWL/E7syyQJkIusWUN8QMHkgvgDISdLGSRbEuYE/jt40r9bTUeaIiJJ0sCA7SObGtDrHAE22233dyRRx5p5iI4ONUrjd4f9dZTej5JAQhZhZ02jlwsHE488UQznaB/cUnU8fUmBJTjHQJ9bN642qhyhIAQEAJCQAjUi0BbkFjiaGIHG4SE6nAAgrCxXbv//vt3eFljX8k2tReIHk4zCJM3BLDYwYb32DLW60jky2/lKwQWgo7Dlg9UT5YyNLCQE9KboqXmPLa3iQPrnbiK20mfZwUOXaTYRYvdKgF/UgajmYRok8kKwverX/3KEiAQ97cRAkv7G70/ovQd4kzyAGLvcp9BYnE89KYeUcouvTbq+NImNOEsGLg/cDojnjBxcCVCQAgIASEgBJJCoC3MCdCyEtyfxAYkK2Db1m+fQ9h8YHYma8JPeWEblexHfM/kjQ0tqWvZbuczWZIImTRs2DB/SeKvnhxBMthiR2sJ8aStJBOABNIf+kCYJPqI4KxFoHyyTpG+FLKL81vfwMaUJBBsSUO6IC44fZGqkW1vNKOtEMYQjSUJG3z623322ccIeNT6G70/otbL4gdCjrBTwAIKBzZILeNFWCwErTf3KOeiASWkWD3Cgi3K+NIeMOd+wfmM+4AMYmiSCcdGGDHuD84jxBkLDokQEAJCQAgIgWYj0BYkFhCZWMnqhAMQGY3YimbSRTtJik+2TElZWuzZznfEVmWrHQILCT7++ONN40d5XlNJzNO0CCSW/pCylXBVkHIIN57u2DJCWnFeGzp0qGXl8u2G7KKVRkvLFjdkiaxZaFx9NAIICschfcSi9RnOfBnNfKXdaAPpE4SOyBKQqG6BVz4Zr/jjWKPb8I3cH1H6y72H9hXnNOIWgzcpdX18XxZXpItFaBu7CIwHhJbUtfVK1PHFnAPnOtLX3nbbbRa3lwUP5iikYgZ3+sRuBul0JUJACAgBISAEmo1AW5BYJmACzqNhxCQAgsAfwsTLJEysWJxqunTp0oE5xyBw2CqSM55rILL8cQxiQCpaJnCIRlJCWzB7gGSgGYbEokXlD+E4W8po8ND0kbIVjTTfFws4jBw50jR+QfYycwDz/eU8NHoE6Mf0AFMEohi0QiDmaJMhqpByiDQaWYgdxBYzCMgUixPCpKEd9KG6wrSv0fsjTNnVzkFTjk12kL3MtLAsGEgxyy4BfUHTfeedd1oEBuyUGQuSFzQqUceXhctxxx1nmKPR515jLNAgs1CSCAEhIASEgBBoJQJtQWIhm0z+aFQhA2hQ0SYy8aINQyuLPWKxFtYPAuSQLFUQKMJyoY1E28QWKoSXrEq8h2gRu5RJHbJAncXCOZWOVztWXEa192ghzz77bNMsv/nmm6alxNaTPtIWyF+3QGtJUPxKgeohtRCoX/7yl0YE0VpDhNnGhqhDYKkHErvVVlvNF8WhVh+4Fi0e7UGDC6kuFbak0XxD7KgPRy40j5C3P//5z27s2LG2zQ6Zpj7+aB82uphK+BixaMbBmjrDSKP3R3Gf2G4vXRRQd7k++TZBtPfcc087B/MM7knKJDIBGlmvYSZbFkQbm18WHwjXDhw40MxCuIdZbNWSKONL2VzP2KHFZ2zI+IZ2n99EseOkbwe/A8ZIIgSEgBAQAkKgGQh8JyBflaOoN6PGhMuku2hNsetj4i1HOCs10TtyQTbQokE4IFRpE/rot3V5pY9hCV1xXyCQxGElKgMEEbKEPW0rhfoJNYXjFn2BgGP2gQaWfnEcEgVxZ1uetrK4IFTa3nvvXXdTo9wfdVf2rwv8eGEegbYTwuoFu1lMDSD9HCtHlP259b6mYXzrbbPOFwJCQAgIASHgEWg7Eus7rtdsIICDE85j2C5DTseMGWNmDMX2uGiKsVm+9tprjfBiP8tWvPf8z0ZP1UohIASEgBAQAkKgHgTawpygHkB0broQQBPpbZDZsie0Vqn2Gy3xxhtvbBrMG264QQH50zWEao0QEAJCQAgIgaYgkL698KZ0U4VmFQEflYAtd7zen3/+eTMrKO4P2+LE6/XOelxDDGCJEBACQkAICAEhkF8EpInN79jmomc4XRFNgagSRF04/fTT3YABA8yRCTtRyC12sNjE4jGP5pbYvmTxitN+NBdgqhNCQAgIASEgBHKEgGxiczSYeewKWlbsYomhSlpgwjphTkCUBCJHcBwNLUkY0MASmgoCe8wxx5gjWh4xUZ+EgBAQAkJACAiBIGpOoMlqq+gEGvTsIQBRJQIBIbaeffZZI7JoXwkhhrYVMkvkhNVWW81CfxEuDU9+iRAQAkJACAgBIZBfBERi8zu2uesZZJbQaJgOYANL5i5ILOHOcPpCC9tIKLHcAaUOCQEhIASEgBBoAwREYttgkNVFISAEhIAQEAJCQAjkDQFFJ8jbiKo/QkAICAEhIASEgBBoAwREYttgkNVFISAEhIAQEAJCQAjkDQGR2LyNqPojBISAEBACQkAICIE2QEAktg0GWV0UAkJACAgBISAEhEDeEBCJzduIqj9CQAgIASEgBISAEGgDBERi22CQ1UUhIASEgBAQAkJACOQNAZHYvI2o+iMEhIAQEAJCQAgIgTZAQCS2DQZZXRQCQkAICAEhIASEQN4QEInN24iqP0JACAgBISAEhIAQaAMERGLbYJDVRSEgBISAEBACQkAI5A0Bkdi8jaj6IwSEgBAQAkJACAiBNkBAJLYNBlldFAJCQAgIASEgBIRA3hAQic3biKo/QkAICAEhIASEgBBoAwREYttgkNVFISAEhIAQEAJCQAjkDQGR2LyNqPojBISAEBACQkAICIE2QEAktg0GWV0UAkJACAgBISAEhEDeEBCJzduIqj9CQAgIASEgBISAEGgDBERi22CQ1UUhIASEgBAQAkJACOQNAZHYvI2o+iMEhIAQEAJCQAgIgTZAQCS2DQZZXRQCQkAICAEhIASEQN4QEInN24iqP0JACAgBISAEhIAQaAMERGLbYJDVRSEgBISAEBACQkAI5A0Bkdi8jaj6IwSEgBAQAkJACAiBNkBAJLYNBlldFAJCQAgIASEgBIRA3hAQic3biKo/QkAICAEhIASEgBBoAwT+P/mHJgjYHc7VAAAAAElFTkSuQmCC)"
      ]
    },
    {
      "cell_type": "markdown",
      "metadata": {
        "id": "s03s1OSsq_LS"
      },
      "source": [
        "### Deep Copy\n",
        "\n",
        "Sometimes you need to make a copy of an object and all the objects contained within it. You can use the `copy` module for this"
      ]
    },
    {
      "cell_type": "code",
      "metadata": {
        "colab": {
          "base_uri": "https://localhost:8080/"
        },
        "id": "JJJ5Y_0TrSJb",
        "outputId": "78afa73c-fcb8-492d-ec52-fa7ed544e5d8"
      },
      "source": [
        "import copy\n",
        "\n",
        "a = [2,3,[100,101],4]\n",
        "b = copy.deepcopy(a)\n",
        "\n",
        "a[2].append(102)\n",
        "print(b[2]) # [100,101]\n",
        "print(a[2] is b[2]) # False\n"
      ],
      "execution_count": null,
      "outputs": [
        {
          "output_type": "stream",
          "name": "stdout",
          "text": [
            "[100, 101]\n",
            "False\n"
          ]
        }
      ]
    },
    {
      "cell_type": "markdown",
      "metadata": {
        "id": "yt69GZfWuboi"
      },
      "source": [
        "## Functions\n",
        "\n",
        "Definitions\n",
        "\n",
        "**Parameter:** A named entity in the function/method definition that specifies an argument\n",
        "\n",
        "**Argument:** A value passed to a function\n",
        "\n",
        "**Positional arguments**: are arguments that can be passed by their position in the function definition. (order matters)\n",
        "\n",
        "**Keyword arguments**: are arguments that can be passed by their name. (any order). Also called as named arguments\n",
        "\n",
        "**Required arguments**: are arguments that must passed to the function.\n",
        "\n",
        "**Optional/default arguments**: are arguments that can be not passed to the function. In Python, optional arguments are arguments that have a default value\n"
      ]
    },
    {
      "cell_type": "code",
      "metadata": {
        "colab": {
          "base_uri": "https://localhost:8080/"
        },
        "id": "xr38LQxwzEtM",
        "outputId": "6ed2b9ad-1289-4bb6-b95e-23124707e7cc"
      },
      "source": [
        "# Function definition\n",
        "def function_name(parameter_1, parameter_2, parameter_3=2, parameter_4=5): # Parameters\n",
        "  print(locals())\n",
        "\n",
        "# Functon call\n",
        "function_name(1, 2) # positonal\n",
        "function_name(1, parameter_3=2, parameter_4=6, parameter_2=3) # positonal, keyword\n"
      ],
      "execution_count": null,
      "outputs": [
        {
          "output_type": "stream",
          "name": "stdout",
          "text": [
            "{'parameter_1': 1, 'parameter_2': 3, 'parameter_3': 2, 'parameter_4': 6}\n"
          ]
        }
      ]
    },
    {
      "cell_type": "markdown",
      "metadata": {
        "id": "DN9Ja1KdxQUo"
      },
      "source": [
        ""
      ]
    },
    {
      "cell_type": "markdown",
      "metadata": {
        "id": "rjS4chBuurIZ"
      },
      "source": [
        "### Variable Arguments\n",
        "\n",
        "In Python, we can pass a variable number of arguments to a function using special symbols. There are two special symbols\n",
        "\n",
        "1. *args (Non Keyword | positonal Arguments)\n",
        "2. **kwargs (Keyword Arguments)\n",
        "\n"
      ]
    },
    {
      "cell_type": "markdown",
      "metadata": {
        "id": "PpY6cdIAu49K"
      },
      "source": [
        "#### Positional arguments\n",
        "\n",
        "A function that accepts *any number* of positional arguments\n",
        "\n",
        "`*args` packs the arguments passed in into a tuple "
      ]
    },
    {
      "cell_type": "code",
      "metadata": {
        "colab": {
          "base_uri": "https://localhost:8080/"
        },
        "id": "sv0n3ogU4m7j",
        "outputId": "34fb5e52-f808-4676-c9e2-81e525ed602d"
      },
      "source": [
        "def f(x, *args):\n",
        "  # x -> 1\n",
        "  # args -> (2,3,4,5)\n",
        "  print(locals())\n",
        "  pass\n",
        "\n",
        "f(1,2,3,4,5)"
      ],
      "execution_count": null,
      "outputs": [
        {
          "output_type": "stream",
          "name": "stdout",
          "text": [
            "{'x': 1, 'args': (2, 3, 4, 5)}\n"
          ]
        }
      ]
    },
    {
      "cell_type": "markdown",
      "metadata": {
        "id": "mJHPTdVs7RG1"
      },
      "source": [
        "#### Keyword arguments\n",
        "\n",
        "A function that accepts *any number* of keyword arguments\n",
        "\n",
        "`**kwargs` packs the arguments passed in into a `dict`"
      ]
    },
    {
      "cell_type": "code",
      "metadata": {
        "colab": {
          "base_uri": "https://localhost:8080/"
        },
        "id": "AKv9OYdF7RnR",
        "outputId": "1277f5c0-f9ae-4f71-bfe7-59ab7dd353bc"
      },
      "source": [
        "def f(x, y, **kwargs):\n",
        "  # x -> 2\n",
        "  # y -> 3\n",
        "  # kwargs -> { 'flag': True, 'mode': 'fast', 'header': 'debug' }\n",
        "  print(locals())\n",
        "  pass\n",
        "\n",
        "f(2, 3, flag=True, mode='fast', header='debug')"
      ],
      "execution_count": null,
      "outputs": [
        {
          "output_type": "stream",
          "name": "stdout",
          "text": [
            "{'x': 2, 'y': 3, 'kwargs': {'flag': True, 'mode': 'fast', 'header': 'debug'}}\n"
          ]
        }
      ]
    },
    {
      "cell_type": "markdown",
      "metadata": {
        "id": "dHRc5zeq8ULE"
      },
      "source": [
        "A function can also accept any number of variable keyword and non-keyword arguments\n",
        "\n",
        "> `args & kwargs` ares just a convention, you can use any other parameter name\n",
        "\n",
        "> There is no concept of `positional` & `keyword parameters`"
      ]
    },
    {
      "cell_type": "code",
      "metadata": {
        "colab": {
          "base_uri": "https://localhost:8080/"
        },
        "id": "uAQFzdzp8U8U",
        "outputId": "46a4fb0b-d258-4887-e0c5-7154f3c08cfa"
      },
      "source": [
        "def f(*args, **kwargs):\n",
        "  # x -> 2\n",
        "  # y -> 3\n",
        "  # kwargs -> { 'flag': True, 'mode': 'fast', 'header': 'debug' }\n",
        "  print(locals())\n",
        "  pass\n",
        "\n",
        "f(2, 3, flag=True, mode='fast', header='debug')"
      ],
      "execution_count": null,
      "outputs": [
        {
          "output_type": "stream",
          "name": "stdout",
          "text": [
            "{'args': (2, 3), 'kwargs': {'flag': True, 'mode': 'fast', 'header': 'debug'}}\n"
          ]
        }
      ]
    },
    {
      "cell_type": "markdown",
      "metadata": {
        "id": "TmGKR1f55g7-"
      },
      "source": [
        "### Lambda (Anonymous function)\n",
        "\n",
        "In Python, an `anonymous function` is a function that is defined without a name.\n",
        "\n",
        "While normal functions are defined using the def keyword in Python, anonymous functions are defined using the `lambda` keyword.\n",
        "\n",
        "Hence, anonymous functions are also called `lambda functions`.\n",
        "\n",
        "```python\n",
        "lambda arguments: expression\n",
        "```\n",
        "\n",
        "`Lambda functions` can have any number of arguments but only one expression. The expression is evaluated and returned. `Lambda functions` can be used wherever function objects are required"
      ]
    },
    {
      "cell_type": "code",
      "metadata": {
        "id": "tCOo8ZT3KpK4"
      },
      "source": [
        "# Program to show the use of lambda functions\n",
        "double = lambda x: x * 2\n",
        "\n",
        "print(double(5))"
      ],
      "execution_count": null,
      "outputs": []
    },
    {
      "cell_type": "markdown",
      "metadata": {
        "id": "pC0qpQ_WLshq"
      },
      "source": [
        "In Python, we generally use it as an argument to a *higher-order function* (a function that takes in other functions as arguments)\n",
        "\n",
        "`Lambda functions` are used along with built-in functions like `filter()`, `map()` etc."
      ]
    },
    {
      "cell_type": "code",
      "metadata": {
        "colab": {
          "base_uri": "https://localhost:8080/"
        },
        "id": "_uPdf3naMNaj",
        "outputId": "b7adcb5e-22db-478e-c76c-3b81d4f19d93"
      },
      "source": [
        "# Program to filter out only the even items from a list\n",
        "my_list = [1, 5, 4, 6, 8, 11, 3, 12]\n",
        "\n",
        "iterator = filter(lambda x: (x%2 == 0), my_list) # Filter object\n",
        "print(dir(iterator))\n",
        "new_list = list()\n",
        "\n",
        "print(new_list)"
      ],
      "execution_count": null,
      "outputs": [
        {
          "output_type": "stream",
          "name": "stdout",
          "text": [
            "['__class__', '__delattr__', '__dir__', '__doc__', '__eq__', '__format__', '__ge__', '__getattribute__', '__gt__', '__hash__', '__init__', '__init_subclass__', '__iter__', '__le__', '__lt__', '__ne__', '__new__', '__next__', '__reduce__', '__reduce_ex__', '__repr__', '__setattr__', '__sizeof__', '__str__', '__subclasshook__']\n",
            "[]\n"
          ]
        }
      ]
    },
    {
      "cell_type": "code",
      "metadata": {
        "colab": {
          "base_uri": "https://localhost:8080/"
        },
        "id": "ZGOmL-CYbgUI",
        "outputId": "af53452f-e3d1-444b-af6d-3c671e44398b"
      },
      "source": [
        "# Program to double each item in a list using map()\n",
        "\n",
        "my_list = [1, 5, 4, 6, 8, 11, 3, 12]\n",
        "\n",
        "new_list = list(map(lambda x: x * 2 , my_list))\n",
        "\n",
        "print(new_list)\n"
      ],
      "execution_count": null,
      "outputs": [
        {
          "output_type": "stream",
          "name": "stdout",
          "text": [
            "[2, 10, 8, 12, 16, 22, 6, 24]\n"
          ]
        }
      ]
    },
    {
      "cell_type": "markdown",
      "metadata": {
        "id": "eRkwB9RLbw-y"
      },
      "source": [
        "**immediately invoked function expression** (IIFE)\n",
        "\n",
        "the function gets immediately executed after creation"
      ]
    },
    {
      "cell_type": "code",
      "metadata": {
        "colab": {
          "base_uri": "https://localhost:8080/"
        },
        "id": "6PW5-7XncJq6",
        "outputId": "0421b8a7-fc42-4b54-ca92-4f25a90fedba"
      },
      "source": [
        "(lambda x: x*2)(12)"
      ],
      "execution_count": null,
      "outputs": [
        {
          "output_type": "execute_result",
          "data": {
            "text/plain": [
              "24"
            ]
          },
          "metadata": {},
          "execution_count": 5
        }
      ]
    },
    {
      "cell_type": "markdown",
      "metadata": {
        "id": "s3ldGS8wcRSC"
      },
      "source": [
        "**Best Practices**"
      ]
    },
    {
      "cell_type": "code",
      "metadata": {
        "id": "70cPjM3iJMUZ"
      },
      "source": [
        "#Bad\n",
        "triple = lambda x: x*3\n",
        "\n",
        "#Good\n",
        "def triple(x):\n",
        "     return x*3"
      ],
      "execution_count": null,
      "outputs": []
    },
    {
      "cell_type": "code",
      "metadata": {
        "id": "m1r24Srqcb-p"
      },
      "source": [
        "#Bad\n",
        "map(lambda x:abs(x), list_3)\n",
        "\n",
        "#Good\n",
        "map(abs, list_3)\n",
        "\n",
        "#Good\n",
        "map(lambda x: pow(x, 2), float_nums)"
      ],
      "execution_count": null,
      "outputs": []
    },
    {
      "cell_type": "markdown",
      "metadata": {
        "id": "UPAF3ePpdWlq"
      },
      "source": [
        "### Closures\n",
        "\n",
        "A function defined inside another function is called a **nested function**. Nested functions can access variables of the enclosing scope\n",
        "\n",
        "In Python, these *non-local variables* are read-only by default and we must declare them explicitly as non-local (using `nonlocal` keyword) in order to modify them"
      ]
    },
    {
      "cell_type": "code",
      "metadata": {
        "id": "un1yJ3g0d1r6"
      },
      "source": [
        "def print_msg(msg):\n",
        "    # This is the outer enclosing function\n",
        "\n",
        "    def printer():\n",
        "        # This is the nested function\n",
        "        print(msg)\n",
        "\n",
        "    printer()\n",
        "\n",
        "# We execute the function\n",
        "# Output: Hello\n",
        "print_msg(\"Hello\")"
      ],
      "execution_count": null,
      "outputs": []
    },
    {
      "cell_type": "markdown",
      "metadata": {
        "id": "WtY0ELGAegQC"
      },
      "source": [
        "In the example above, what would happen if the last line of the function `print_msg()` returned the `printer()` function instead of calling it?"
      ]
    },
    {
      "cell_type": "code",
      "metadata": {
        "id": "kpDgU06Bendi"
      },
      "source": [
        "def print_msg(msg):\n",
        "    # This is the outer enclosing function\n",
        "\n",
        "    def printer():\n",
        "        # This is the nested function\n",
        "        print(msg)\n",
        "\n",
        "    return printer  # returns the nested function\n",
        "\n",
        "\n",
        "# Now let's try calling this function.\n",
        "# Output: Hello\n",
        "another = print_msg(\"Hello\")\n",
        "another()"
      ],
      "execution_count": null,
      "outputs": []
    },
    {
      "cell_type": "markdown",
      "metadata": {
        "id": "ksd6WiUMeqRh"
      },
      "source": [
        "When an nested function references a value in its enclosing scope & returned as a result, that nested/inner function is known as a **closure**\n",
        "\n",
        "*Essential feature:* A closure retains the values of all variables needed for the function to run properly later on. Think of a closure as a function plus an extra environment that holds the values of variables that it depends on\n",
        "\n",
        "**The criteria that must be met to create closure in Python are summarized in the following points.**\n",
        "\n",
        "* We must have a nested function (function inside a function).\n",
        "* The nested function must refer to a value defined in the enclosing function.\n",
        "* The enclosing function must return the nested function.\n",
        "\n",
        "**When to use closures?**\n",
        "\n",
        "* **To replace the unnecessary use of class:** Suppose you have a class that contains just one method besides the __init__ method. In such cases, it is often more elegant to use a closure instead of a class.\n",
        "* **To avoid the use of the global scope:** If you have global variables which only one function in your program will use, think closure. Define the variables in the outer function and use them in the inner function.\n",
        "* **To implement data hiding:** The only way to access the enclosed function is by calling the enclosing function. There is no way to access the inner function directly."
      ]
    },
    {
      "cell_type": "markdown",
      "metadata": {
        "id": "s9ji2TJ2EnSg"
      },
      "source": [
        "### partial function\n",
        "\n",
        "`functools` module is for higher-order functions that work on other functions. Using this we can extend the functions without completely rewriting them\n",
        "\n",
        "**Partial function** allow us to fix a certain number of arguments of a function and generate a new function. They can be created in Python by using `partial` class from the functools library"
      ]
    },
    {
      "cell_type": "code",
      "metadata": {
        "id": "FLy_NYb0GxgE"
      },
      "source": [
        "from functools import partial\n",
        "  \n",
        "# A normal function\n",
        "def f(a, b, c, x):\n",
        "    return 1000*a + 100*b + 10*c + x\n",
        "  \n",
        "# A partial function that calls f with\n",
        "# a as 3, b as 1 and c as 4.\n",
        "g = partial(f, 3, 1, 4)\n",
        "  \n",
        "# Calling g()\n",
        "print(g(5))"
      ],
      "execution_count": null,
      "outputs": []
    },
    {
      "cell_type": "markdown",
      "metadata": {
        "id": "XRqY7JRHszY7"
      },
      "source": [
        "## Decorators\n",
        "\n",
        "Python has an interesting feature called **`decorators`** to add functionality to an existing code. `decorator takes in a function, adds some functionality and returns it\n",
        "\n",
        "This is also called **metaprogramming** because a part of the program tries to modify another part of the program at compile time"
      ]
    },
    {
      "cell_type": "code",
      "metadata": {
        "id": "D2SM0jOBv7Mj"
      },
      "source": [
        "# Decorator\n",
        "def make_pretty(func):\n",
        "    def inner():\n",
        "        print(\"I got decorated\")\n",
        "        func()\n",
        "    return inner\n",
        "\n",
        "\n",
        "def ordinary():\n",
        "    print(\"I am ordinary\")\n",
        "\n",
        "ordinary()\n",
        "pretty = make_pretty(ordinary)\n",
        "pretty()"
      ],
      "execution_count": null,
      "outputs": []
    },
    {
      "cell_type": "markdown",
      "metadata": {
        "id": "eIcUIleGw-7F"
      },
      "source": [
        "The special syntax performs the same exact steps as shown above. A `decorator` is just new syntax. It is said to decorate the function\n",
        "\n",
        "This is just a syntactic sugar to implement `decorator`"
      ]
    },
    {
      "cell_type": "code",
      "metadata": {
        "id": "EdF86f7hxdz2"
      },
      "source": [
        "@make_pretty\n",
        "def ordinary():\n",
        "    print(\"I am ordinary\")\n",
        "\n",
        "# is equivalent to\n",
        "def ordinary():\n",
        "    print(\"I am ordinary\")\n",
        "ordinary = make_pretty(ordinary)"
      ],
      "execution_count": null,
      "outputs": []
    },
    {
      "cell_type": "markdown",
      "metadata": {
        "id": "OtHfxdc5yT-d"
      },
      "source": [
        "### Decorating Functions with Parameters"
      ]
    },
    {
      "cell_type": "code",
      "metadata": {
        "id": "cQV-CaBtyWv0"
      },
      "source": [
        "def smart_divide(func):\n",
        "    def inner(a, b):\n",
        "        print(\"I am going to divide\", a, \"and\", b)\n",
        "        if b == 0:\n",
        "            print(\"Whoops! cannot divide\")\n",
        "            return\n",
        "\n",
        "        return func(a, b)\n",
        "    return inner\n",
        "\n",
        "\n",
        "@smart_divide\n",
        "def divide(a, b):\n",
        "    print(a/b)\n",
        "\n",
        "divide(2,5)\n",
        "divide(2,0)"
      ],
      "execution_count": null,
      "outputs": []
    },
    {
      "cell_type": "markdown",
      "metadata": {
        "id": "UdUK6c57yknm"
      },
      "source": [
        "### Chaining Decorators\n",
        "\n",
        "A function can be decorated multiple times with different (or same) decorators. We simply place the decorators above the desired function"
      ]
    },
    {
      "cell_type": "code",
      "metadata": {
        "colab": {
          "base_uri": "https://localhost:8080/"
        },
        "id": "rNR91r4Vy9jV",
        "outputId": "8d13d05f-a483-4dbd-87d5-bd590412bde5"
      },
      "source": [
        "def star(func):\n",
        "    def inner(*args, **kwargs):\n",
        "        print(\"*\" * 30)\n",
        "        func(*args, **kwargs)\n",
        "        print(\"*\" * 30)\n",
        "    return inner\n",
        "\n",
        "\n",
        "def percent(func):\n",
        "    def inner(*args, **kwargs):\n",
        "        print(\"%\" * 30)\n",
        "        func(*args, **kwargs)\n",
        "        print(\"%\" * 30)\n",
        "    return inner\n",
        "\n",
        "\n",
        "@star\n",
        "@percent\n",
        "def printer(msg):\n",
        "    print(msg)\n",
        "\n",
        "printer(\"Hello\")"
      ],
      "execution_count": null,
      "outputs": [
        {
          "output_type": "stream",
          "name": "stdout",
          "text": [
            "******************************\n",
            "%%%%%%%%%%%%%%%%%%%%%%%%%%%%%%\n",
            "Hello\n",
            "%%%%%%%%%%%%%%%%%%%%%%%%%%%%%%\n",
            "******************************\n"
          ]
        }
      ]
    },
    {
      "cell_type": "markdown",
      "metadata": {
        "id": "onON5YG9zjvu"
      },
      "source": [
        "### class decorators\n",
        "\n",
        "We can use decorators in classes also. Some commonly used class decorators are \n",
        "\n",
        "* `@staticmethod`: is used to define a so-called static class methods\n",
        "* `@classmethod`: is used to define class methods. A class method is a method that receives the class object as the first parameter instead of the instance\n",
        "* `@property`: is used to create readonly properties"
      ]
    },
    {
      "cell_type": "code",
      "metadata": {
        "id": "oCQnMRe6Hvtw"
      },
      "source": [
        "class Foo:\n",
        "    def bar(self,a):\n",
        "        ...\n",
        "\n",
        "    @staticmethod\n",
        "    def spam(a):\n",
        "        ...\n",
        "\n",
        "    @classmethod\n",
        "    def grok(cls,a):\n",
        "        ...\n",
        "\n",
        "    @property\n",
        "    def name(self):\n",
        "        ..."
      ],
      "execution_count": null,
      "outputs": []
    },
    {
      "cell_type": "markdown",
      "metadata": {
        "id": "qd6rpD956MEe"
      },
      "source": [
        "## Sequences\n",
        "\n",
        "Python has three *sequence* datatypes.\n",
        "\n",
        "1. **String**: 'Hello'. A string is a text sequence type\n",
        "2. **List**: [1, 4, 5].\n",
        "3. **Tuple**: ('GOOG', 100, 490.1)\n"
      ]
    },
    {
      "cell_type": "markdown",
      "metadata": {
        "id": "k1TuUnpu8wxO"
      },
      "source": [
        "\n",
        "### Working with Sequences\n",
        "\n",
        "All sequences are ordered, indexed by integers, and have a length"
      ]
    },
    {
      "cell_type": "code",
      "metadata": {
        "colab": {
          "base_uri": "https://localhost:8080/"
        },
        "id": "0BhhTZzf6sDe",
        "outputId": "b168fec9-daa5-4d01-ec85-869218917e84"
      },
      "source": [
        "a = 'Hello'               # String\n",
        "b = [1, 4, 5]             # List\n",
        "c = ('GOOG', 100, 490.1)  # Tuple\n",
        "\n",
        "# Indexed order\n",
        "a[0]                      # 'H'\n",
        "b[-1]                     # 5\n",
        "c[1]                      # 100\n",
        "\n",
        "# Length of sequence\n",
        "len(a)                    # 5\n",
        "len(b)                    # 3\n",
        "len(c)                    # 3"
      ],
      "execution_count": null,
      "outputs": [
        {
          "output_type": "execute_result",
          "data": {
            "text/plain": [
              "3"
            ]
          },
          "metadata": {},
          "execution_count": 11
        }
      ]
    },
    {
      "cell_type": "markdown",
      "metadata": {
        "id": "9DuQgzOZ65p-"
      },
      "source": [
        "Sequences can be replicated: s * n"
      ]
    },
    {
      "cell_type": "code",
      "metadata": {
        "colab": {
          "base_uri": "https://localhost:8080/"
        },
        "id": "k_UrHV286-pl",
        "outputId": "74cb1a82-8c49-4747-e685-5c4975cba530"
      },
      "source": [
        "# String\n",
        "a = 'Hello'\n",
        "print(a * 3) # HelloHelloHello\n",
        "\n",
        "# List\n",
        "b = [1, 2, 3]\n",
        "print(b * 3) # [1, 2, 3, 1, 2, 3, 1, 2, 3]\n",
        "\n",
        "# Tuple\n",
        "b = (1, 2, 3)\n",
        "print(b * 3) # (1, 2, 3, 1, 2, 3, 1, 2, 3)\n"
      ],
      "execution_count": null,
      "outputs": [
        {
          "output_type": "stream",
          "name": "stdout",
          "text": [
            "HelloHelloHello\n",
            "[1, 2, 3, 1, 2, 3, 1, 2, 3]\n",
            "(1, 2, 3, 1, 2, 3, 1, 2, 3)\n"
          ]
        }
      ]
    },
    {
      "cell_type": "markdown",
      "metadata": {
        "id": "Mb-rDLq97jqu"
      },
      "source": [
        "Sequences of the same type can be concatenated: s + t"
      ]
    },
    {
      "cell_type": "code",
      "metadata": {
        "colab": {
          "base_uri": "https://localhost:8080/",
          "height": 214
        },
        "id": "kK5ssXzJ7k2u",
        "outputId": "6826f1fd-dfb7-49ae-b1d6-1805c9ef764c"
      },
      "source": [
        "a = (1, 2, 3)\n",
        "b = (4, 5)\n",
        "print(a + b) # (1, 2, 3, 4, 5)\n",
        "\n",
        "c = [1, 5]\n",
        "print(a + c)\n",
        "# Traceback (most recent call last):\n",
        "#   File \"<stdin>\", line 1, in <module>\n",
        "# TypeError: can only concatenate tuple (not \"list\") to tuple"
      ],
      "execution_count": null,
      "outputs": [
        {
          "output_type": "stream",
          "name": "stdout",
          "text": [
            "(1, 2, 3, 4, 5)\n"
          ]
        },
        {
          "output_type": "error",
          "ename": "TypeError",
          "evalue": "ignored",
          "traceback": [
            "\u001b[0;31m---------------------------------------------------------------------------\u001b[0m",
            "\u001b[0;31mTypeError\u001b[0m                                 Traceback (most recent call last)",
            "\u001b[0;32m<ipython-input-14-66a3a6795d4d>\u001b[0m in \u001b[0;36m<module>\u001b[0;34m()\u001b[0m\n\u001b[1;32m      4\u001b[0m \u001b[0;34m\u001b[0m\u001b[0m\n\u001b[1;32m      5\u001b[0m \u001b[0mc\u001b[0m \u001b[0;34m=\u001b[0m \u001b[0;34m[\u001b[0m\u001b[0;36m1\u001b[0m\u001b[0;34m,\u001b[0m \u001b[0;36m5\u001b[0m\u001b[0;34m]\u001b[0m\u001b[0;34m\u001b[0m\u001b[0;34m\u001b[0m\u001b[0m\n\u001b[0;32m----> 6\u001b[0;31m \u001b[0mprint\u001b[0m\u001b[0;34m(\u001b[0m\u001b[0ma\u001b[0m \u001b[0;34m+\u001b[0m \u001b[0mc\u001b[0m\u001b[0;34m)\u001b[0m\u001b[0;34m\u001b[0m\u001b[0;34m\u001b[0m\u001b[0m\n\u001b[0m",
            "\u001b[0;31mTypeError\u001b[0m: can only concatenate tuple (not \"list\") to tuple"
          ]
        }
      ]
    },
    {
      "cell_type": "markdown",
      "metadata": {
        "id": "uyTY6MaLslsW"
      },
      "source": [
        "Checking if an object is contained within a sequence"
      ]
    },
    {
      "cell_type": "code",
      "metadata": {
        "colab": {
          "base_uri": "https://localhost:8080/"
        },
        "id": "pEwldWEjtUKV",
        "outputId": "19e6ce83-80a1-4e21-8f2a-918098f69652"
      },
      "source": [
        "# using 'in' and 'not in' for membership checking\n",
        "x = (1, 3, 5)\n",
        "\n",
        "print(3 in x) # True\n",
        "\n",
        "print(0 in x) # False\n",
        "\n",
        "print(0 not in x) # True\n",
        "\n",
        "# strings can also test for sub-sequence membership\n",
        "print(\"cat\" in \"the cat in the hat\" ) #True\n",
        "\n",
        "# Like string you cannot test for sub-sequence membership in other types of sequences\n",
        "print([1, 2] in [1, 2, 3, 4]) # False\n",
        "\n",
        "# The list [1, 2] must be an element of the list to be seen as a member\n",
        "print([1, 2] in [None, [1, 2], None]) # True"
      ],
      "execution_count": null,
      "outputs": [
        {
          "output_type": "stream",
          "name": "stdout",
          "text": [
            "True\n",
            "False\n",
            "True\n",
            "True\n",
            "False\n",
            "True\n"
          ]
        }
      ]
    },
    {
      "cell_type": "markdown",
      "metadata": {
        "id": "atAtA6-KuSFH"
      },
      "source": [
        "Getting the index of the first occurrence of x in a sequence"
      ]
    },
    {
      "cell_type": "code",
      "metadata": {
        "id": "QdEnIeizuS-f"
      },
      "source": [
        "\"cat cat cat\".index(\"t\")  # 't' first occurs at index-2"
      ],
      "execution_count": null,
      "outputs": []
    },
    {
      "cell_type": "markdown",
      "metadata": {
        "id": "Yuj3VcJvubsf"
      },
      "source": [
        "Counting the number of occurrences of x in a sequence: seq.count(x)"
      ]
    },
    {
      "cell_type": "code",
      "metadata": {
        "id": "PsHYRfdhucbY"
      },
      "source": [
        "\"the cat in the hat\".count(\"h\")"
      ],
      "execution_count": null,
      "outputs": []
    },
    {
      "cell_type": "markdown",
      "metadata": {
        "id": "mDa3_2JR8bVe"
      },
      "source": [
        "### Slicing\n",
        "\n",
        "Slicing means to take a subsequence from a sequence. The syntax is s[start:end]. Where start and end are the indexes of the subsequence you want.\n",
        "\n",
        "* Indices `start` and `end` must be integers.\n",
        "* Slices do *not* include the end value. It is like a half-open interval from math.\n",
        "* If indices are omitted, they default to the beginning or end of the list.\n"
      ]
    },
    {
      "cell_type": "code",
      "metadata": {
        "colab": {
          "base_uri": "https://localhost:8080/"
        },
        "id": "5r07eo-q8-pR",
        "outputId": "5aa24387-465d-4077-d807-70ce86f252b0"
      },
      "source": [
        "a = [0,1,2,3,4,5,6,7,8]\n",
        "\n",
        "a[2:5]    # [2,3,4]\n",
        "a[-5:]    # [4,5,6,7,8]\n",
        "a[:3]     # [0,1,2]"
      ],
      "execution_count": null,
      "outputs": [
        {
          "output_type": "execute_result",
          "data": {
            "text/plain": [
              "[0, 1, 2]"
            ]
          },
          "metadata": {},
          "execution_count": 15
        }
      ]
    },
    {
      "cell_type": "markdown",
      "metadata": {
        "id": "aH55Rflm9Vie"
      },
      "source": [
        "### Slice re-assignment\n",
        "\n",
        "On lists, slices can be reassigned and deleted.\n",
        "\n",
        "> The reassigned slice doesn't need to have the same length."
      ]
    },
    {
      "cell_type": "code",
      "metadata": {
        "colab": {
          "base_uri": "https://localhost:8080/"
        },
        "id": "DNRo79ML9ehu",
        "outputId": "45de7bbd-37fa-4d25-b79e-cf6da4e45690"
      },
      "source": [
        "# Reassignment\n",
        "a = [0,1,2,3,4,5,6,7,8]\n",
        "a[2:4] = [10,11,12]       # [0,1,10,11,12,4,5,6,7,8]\n",
        "print(a)"
      ],
      "execution_count": null,
      "outputs": [
        {
          "output_type": "stream",
          "name": "stdout",
          "text": [
            "[0, 1, 10, 11, 12, 4, 5, 6, 7, 8]\n"
          ]
        }
      ]
    },
    {
      "cell_type": "code",
      "metadata": {
        "colab": {
          "base_uri": "https://localhost:8080/"
        },
        "id": "sxhr9SRSFSLV",
        "outputId": "01b87487-79ad-4487-de2a-f47793a6d98c"
      },
      "source": [
        "# Deletion\n",
        "a = [0,1,2,3,4,5,6,7,8]\n",
        "del a[2:4]                # [0,1,4,5,6,7,8]\n",
        "print(a)"
      ],
      "execution_count": null,
      "outputs": [
        {
          "output_type": "stream",
          "name": "stdout",
          "text": [
            "[0, 1, 4, 5, 6, 7, 8]\n"
          ]
        }
      ]
    },
    {
      "cell_type": "markdown",
      "metadata": {
        "id": "FvmVnDQ_FvEg"
      },
      "source": [
        "### Sequence Reductions\n",
        "\n",
        "There are some common functions like `min, max, sum` to reduce a sequence to a single value"
      ]
    },
    {
      "cell_type": "code",
      "metadata": {
        "colab": {
          "base_uri": "https://localhost:8080/"
        },
        "id": "EdTG7mOXF7ON",
        "outputId": "de304424-82fe-4cae-fe54-dddf3fb4ebb9"
      },
      "source": [
        "s = [1, 2, 3, 4]\n",
        "print(sum(s))\n",
        "print(min(s))\n",
        "print(max(s))\n",
        "\n",
        "t = ['Hello', 'World']\n",
        "print(max(t))\n",
        "print(min(t))"
      ],
      "execution_count": null,
      "outputs": [
        {
          "output_type": "stream",
          "name": "stdout",
          "text": [
            "10\n",
            "1\n",
            "4\n",
            "World\n",
            "Hello\n"
          ]
        }
      ]
    },
    {
      "cell_type": "markdown",
      "metadata": {
        "id": "ydRxtepgUhRH"
      },
      "source": [
        "## Containers\n",
        "\n",
        "A **Container** is an object that is used to store different objects and provide a way to access the contained objects and iterate over them\n",
        "\n",
        "Python has 4 built-in *container* datatypes\n",
        "\n",
        "1. **List**: Ordered data\n",
        "2. **Tuple**: Ordered data (Immutable)\n",
        "3. **Set**: Unordered collection of unique items\n",
        "4. **Dict**: Unordred data"
      ]
    },
    {
      "cell_type": "markdown",
      "metadata": {
        "id": "MiRClFt-IpyQ"
      },
      "source": [
        "**Dict**\n",
        "\n",
        "You can look up a value from `dict` that might not exist and provide a default value in case it doesn't using `get()` method\n",
        "\n",
        "The `get()` method is a dictionary method that returns the value of the specified key. If the key is not present it returns either a default value (if passed) or it returns None"
      ]
    },
    {
      "cell_type": "code",
      "metadata": {
        "id": "xgEVM1QDJcC3"
      },
      "source": [
        "dict_1 = {\"a\": 1, \"b\":2, \"c\":3}\n",
        "if dict_1.get(\"a\") is not None:\n",
        "    print(\"Exists\")\n",
        "else:\n",
        "    print(\"Does not exist\")"
      ],
      "execution_count": null,
      "outputs": []
    },
    {
      "cell_type": "markdown",
      "metadata": {
        "id": "1pfuZdaHKQv5"
      },
      "source": [
        "Almost any type of value can be used as a dictionary key in Python. A dictionary key must be of a type that is immutable"
      ]
    },
    {
      "cell_type": "code",
      "metadata": {
        "colab": {
          "base_uri": "https://localhost:8080/",
          "height": 35
        },
        "id": "1QXlp2YTKT4X",
        "outputId": "8ee565e1-bda2-4d1f-cda9-dc22af9a0f07"
      },
      "source": [
        "holidays = {\n",
        "  (1, 1) : 'New Years',\n",
        "  (3, 14) : 'Pi day',\n",
        "  (9, 13) : \"Programmer's day\",\n",
        "}\n",
        "\n",
        "holidays[3, 14]"
      ],
      "execution_count": null,
      "outputs": [
        {
          "output_type": "execute_result",
          "data": {
            "application/vnd.google.colaboratory.intrinsic+json": {
              "type": "string"
            },
            "text/plain": [
              "'Pi day'"
            ]
          },
          "metadata": {},
          "execution_count": 23
        }
      ]
    },
    {
      "cell_type": "markdown",
      "metadata": {
        "id": "glSD5fSwKoSh"
      },
      "source": [
        "**Set**\n",
        "\n",
        "Sets are also useful for duplicate elimination."
      ]
    },
    {
      "cell_type": "code",
      "metadata": {
        "colab": {
          "base_uri": "https://localhost:8080/"
        },
        "id": "8K3WurneK9z8",
        "outputId": "532c27f4-533f-423a-e309-9c4cfc7ca55b"
      },
      "source": [
        "names = ['IBM', 'AAPL', 'GOOG', 'IBM', 'GOOG', 'YHOO']\n",
        "\n",
        "unique = set(names)\n",
        "\n",
        "print(unique) # {'AAPL', 'GOOG', 'YHOO', 'IBM'}"
      ],
      "execution_count": null,
      "outputs": [
        {
          "output_type": "stream",
          "name": "stdout",
          "text": [
            "{'AAPL', 'GOOG', 'YHOO', 'IBM'}\n"
          ]
        }
      ]
    },
    {
      "cell_type": "markdown",
      "metadata": {
        "id": "WxDVaLcgEqjG"
      },
      "source": [
        "### Membership Test\n",
        "\n",
        "**Membership testing** means checking if a collection of items (a list, a set, a dictionary, etc.) contains a specific item\n",
        "\n",
        "The **`in`** operator is used to check if a value exists in a `container/sequence` or not. Evaluates to `True` if it finds a value in the specified sequence and `False` otherwise"
      ]
    },
    {
      "cell_type": "code",
      "metadata": {
        "colab": {
          "base_uri": "https://localhost:8080/"
        },
        "id": "7TGXuRYhHE5W",
        "outputId": "08f76ada-9090-4558-fda2-5ad227dc9c9d"
      },
      "source": [
        "# List Membership Test\n",
        "list1=[1,2,3,4,5]\n",
        "list2=[6,7,8,9]\n",
        "\n",
        "for item in list1:\n",
        "    if item in list2: \n",
        "        print(\"overlapping\")     \n",
        "else:\n",
        "    print(\"not overlapping\")\n",
        "\n"
      ],
      "execution_count": null,
      "outputs": [
        {
          "output_type": "stream",
          "name": "stdout",
          "text": [
            "not overlapping\n"
          ]
        }
      ]
    },
    {
      "cell_type": "code",
      "metadata": {
        "colab": {
          "base_uri": "https://localhost:8080/"
        },
        "id": "8C3vzklAIe16",
        "outputId": "ed582ee0-73b2-4a8e-ccc0-f51477b9c796"
      },
      "source": [
        "# Dict Membership Test\n",
        "dict_1 = {\"a\": 1, \"b\":2, \"c\":3}\n",
        "if \"d\" in dict_1:\n",
        "    print(\"Exists\")\n",
        "else:\n",
        "    print(\"Does not exist\")"
      ],
      "execution_count": null,
      "outputs": [
        {
          "output_type": "stream",
          "name": "stdout",
          "text": [
            "Does not exist\n"
          ]
        }
      ]
    },
    {
      "cell_type": "markdown",
      "metadata": {
        "id": "8gzP_BU3LMhF"
      },
      "source": [
        "> **Sets are highly optimized for membership tests**"
      ]
    },
    {
      "cell_type": "markdown",
      "metadata": {
        "id": "UjpgkSR-kAms"
      },
      "source": [
        "### Collections\n",
        "\n",
        "**`collections`** is a module, which provides specialized container datatypes. Some of them are listed below\n",
        "\n",
        "1. **Counter**: `dict` subclass for counting hashable objects\n",
        "2. **OrderedDict**: `dict` subclass that remembers the order entries were added\n",
        "3. **deque**: `list` like container with fast appends and pops on either end"
      ]
    },
    {
      "cell_type": "markdown",
      "metadata": {
        "id": "_Hcy2-Jvmn1V"
      },
      "source": [
        "#### Counter\n",
        "\n",
        "A `Counter` is a `dict` subclass for counting hashable objects. It is a collection where elements are stored as dictionary keys and their counts are stored as dictionary values. \n",
        "\n",
        "In a nutshell, Counter takes an iterable (such as a string, a list, or a dict object) and gives the object counts as long as the objects are hashable\n",
        "\n"
      ]
    },
    {
      "cell_type": "code",
      "metadata": {
        "colab": {
          "base_uri": "https://localhost:8080/"
        },
        "id": "P7fZK_k9vUPs",
        "outputId": "8aa46eeb-9680-42ff-baf8-a1075f1c3ed2"
      },
      "source": [
        "from collections import Counter\n",
        "\n",
        "a_list = [1,2,2,3,4,4,4]\n",
        "a_string = 'data'\n",
        "a_dict = {'a': 5, 'b':3, 'c':5, 'd':5, 'e':1 }\n",
        "\n",
        "#counting objects in a list\n",
        "c_list = Counter(a_list)\n",
        "\n",
        "#counting characters in a string\n",
        "c_string = Counter(a_string)\n",
        "\n",
        "#counting values in a dictionary\n",
        "c_dict = Counter(a_dict.values())\n",
        "\n",
        "print (c_list)\n",
        "print (c_string)\n",
        "print (c_dict)"
      ],
      "execution_count": null,
      "outputs": [
        {
          "output_type": "stream",
          "name": "stdout",
          "text": [
            "Counter({4: 3, 2: 2, 1: 1, 3: 1})\n",
            "Counter({'a': 2, 'd': 1, 't': 1})\n",
            "Counter({5: 3, 3: 1, 1: 1})\n"
          ]
        }
      ]
    },
    {
      "cell_type": "markdown",
      "metadata": {
        "id": "2DjzXE2qv4ys"
      },
      "source": [
        "> Please note that you get an error if an element inside the container object is an unhashable type such as a list object"
      ]
    },
    {
      "cell_type": "code",
      "metadata": {
        "colab": {
          "base_uri": "https://localhost:8080/",
          "height": 374
        },
        "id": "hF07Z5fCv7N7",
        "outputId": "72c7a552-9161-4cb2-8484-4706ad6ad75f"
      },
      "source": [
        "from collections import Counter\n",
        "\n",
        "a_list  = [1,2,[5,6,7,7],2,3,4,4,4]\n",
        "\n",
        "#counting objects in a list\n",
        "c_list = Counter(a_list)\n",
        "\n",
        "print (c_list)\n",
        "# TypeError: unhashable type: 'list'"
      ],
      "execution_count": null,
      "outputs": [
        {
          "output_type": "error",
          "ename": "TypeError",
          "evalue": "ignored",
          "traceback": [
            "\u001b[0;31m---------------------------------------------------------------------------\u001b[0m",
            "\u001b[0;31mTypeError\u001b[0m                                 Traceback (most recent call last)",
            "\u001b[0;32m<ipython-input-15-1ef6482012c2>\u001b[0m in \u001b[0;36m<module>\u001b[0;34m()\u001b[0m\n\u001b[1;32m      4\u001b[0m \u001b[0;34m\u001b[0m\u001b[0m\n\u001b[1;32m      5\u001b[0m \u001b[0;31m#counting objects in a list\u001b[0m\u001b[0;34m\u001b[0m\u001b[0;34m\u001b[0m\u001b[0;34m\u001b[0m\u001b[0m\n\u001b[0;32m----> 6\u001b[0;31m \u001b[0mc_list\u001b[0m \u001b[0;34m=\u001b[0m \u001b[0mCounter\u001b[0m\u001b[0;34m(\u001b[0m\u001b[0ma_list\u001b[0m\u001b[0;34m)\u001b[0m\u001b[0;34m\u001b[0m\u001b[0;34m\u001b[0m\u001b[0m\n\u001b[0m\u001b[1;32m      7\u001b[0m \u001b[0;34m\u001b[0m\u001b[0m\n\u001b[1;32m      8\u001b[0m \u001b[0mprint\u001b[0m \u001b[0;34m(\u001b[0m\u001b[0mc_list\u001b[0m\u001b[0;34m)\u001b[0m\u001b[0;34m\u001b[0m\u001b[0;34m\u001b[0m\u001b[0m\n",
            "\u001b[0;32m/usr/lib/python3.7/collections/__init__.py\u001b[0m in \u001b[0;36m__init__\u001b[0;34m(*args, **kwds)\u001b[0m\n\u001b[1;32m    566\u001b[0m             \u001b[0;32mraise\u001b[0m \u001b[0mTypeError\u001b[0m\u001b[0;34m(\u001b[0m\u001b[0;34m'expected at most 1 arguments, got %d'\u001b[0m \u001b[0;34m%\u001b[0m \u001b[0mlen\u001b[0m\u001b[0;34m(\u001b[0m\u001b[0margs\u001b[0m\u001b[0;34m)\u001b[0m\u001b[0;34m)\u001b[0m\u001b[0;34m\u001b[0m\u001b[0;34m\u001b[0m\u001b[0m\n\u001b[1;32m    567\u001b[0m         \u001b[0msuper\u001b[0m\u001b[0;34m(\u001b[0m\u001b[0mCounter\u001b[0m\u001b[0;34m,\u001b[0m \u001b[0mself\u001b[0m\u001b[0;34m)\u001b[0m\u001b[0;34m.\u001b[0m\u001b[0m__init__\u001b[0m\u001b[0;34m(\u001b[0m\u001b[0;34m)\u001b[0m\u001b[0;34m\u001b[0m\u001b[0;34m\u001b[0m\u001b[0m\n\u001b[0;32m--> 568\u001b[0;31m         \u001b[0mself\u001b[0m\u001b[0;34m.\u001b[0m\u001b[0mupdate\u001b[0m\u001b[0;34m(\u001b[0m\u001b[0;34m*\u001b[0m\u001b[0margs\u001b[0m\u001b[0;34m,\u001b[0m \u001b[0;34m**\u001b[0m\u001b[0mkwds\u001b[0m\u001b[0;34m)\u001b[0m\u001b[0;34m\u001b[0m\u001b[0;34m\u001b[0m\u001b[0m\n\u001b[0m\u001b[1;32m    569\u001b[0m \u001b[0;34m\u001b[0m\u001b[0m\n\u001b[1;32m    570\u001b[0m     \u001b[0;32mdef\u001b[0m \u001b[0m__missing__\u001b[0m\u001b[0;34m(\u001b[0m\u001b[0mself\u001b[0m\u001b[0;34m,\u001b[0m \u001b[0mkey\u001b[0m\u001b[0;34m)\u001b[0m\u001b[0;34m:\u001b[0m\u001b[0;34m\u001b[0m\u001b[0;34m\u001b[0m\u001b[0m\n",
            "\u001b[0;32m/usr/lib/python3.7/collections/__init__.py\u001b[0m in \u001b[0;36mupdate\u001b[0;34m(*args, **kwds)\u001b[0m\n\u001b[1;32m    653\u001b[0m                     \u001b[0msuper\u001b[0m\u001b[0;34m(\u001b[0m\u001b[0mCounter\u001b[0m\u001b[0;34m,\u001b[0m \u001b[0mself\u001b[0m\u001b[0;34m)\u001b[0m\u001b[0;34m.\u001b[0m\u001b[0mupdate\u001b[0m\u001b[0;34m(\u001b[0m\u001b[0miterable\u001b[0m\u001b[0;34m)\u001b[0m \u001b[0;31m# fast path when counter is empty\u001b[0m\u001b[0;34m\u001b[0m\u001b[0;34m\u001b[0m\u001b[0m\n\u001b[1;32m    654\u001b[0m             \u001b[0;32melse\u001b[0m\u001b[0;34m:\u001b[0m\u001b[0;34m\u001b[0m\u001b[0;34m\u001b[0m\u001b[0m\n\u001b[0;32m--> 655\u001b[0;31m                 \u001b[0m_count_elements\u001b[0m\u001b[0;34m(\u001b[0m\u001b[0mself\u001b[0m\u001b[0;34m,\u001b[0m \u001b[0miterable\u001b[0m\u001b[0;34m)\u001b[0m\u001b[0;34m\u001b[0m\u001b[0;34m\u001b[0m\u001b[0m\n\u001b[0m\u001b[1;32m    656\u001b[0m         \u001b[0;32mif\u001b[0m \u001b[0mkwds\u001b[0m\u001b[0;34m:\u001b[0m\u001b[0;34m\u001b[0m\u001b[0;34m\u001b[0m\u001b[0m\n\u001b[1;32m    657\u001b[0m             \u001b[0mself\u001b[0m\u001b[0;34m.\u001b[0m\u001b[0mupdate\u001b[0m\u001b[0;34m(\u001b[0m\u001b[0mkwds\u001b[0m\u001b[0;34m)\u001b[0m\u001b[0;34m\u001b[0m\u001b[0;34m\u001b[0m\u001b[0m\n",
            "\u001b[0;31mTypeError\u001b[0m: unhashable type: 'list'"
          ]
        }
      ]
    },
    {
      "cell_type": "code",
      "metadata": {
        "id": "ClWDvcQ5wLK8"
      },
      "source": [
        "from collections import Counter\n",
        "\n",
        "a_list  = [1,2,[5,6,7,7],2,3,4,4,4]\n",
        "\n",
        "# converting any list element into the tuple before passing the object to the Counter class\n",
        "c_list = Counter(tuple(item) if type(item) is list else item for item in a_list)\n",
        "\n",
        "print (c_list)\n",
        "Output:\n",
        "Counter({4: 3, 2: 2, 1: 1, (5, 6, 7, 7): 1, 3: 1})"
      ],
      "execution_count": null,
      "outputs": []
    },
    {
      "cell_type": "markdown",
      "metadata": {
        "id": "ZlcIOgmFmek4"
      },
      "source": [
        "### List comprehension\n",
        "\n",
        "**List comprehension** is basically creating lists based on existing iterables (`lists, string, tuple` etc.)\n",
        "\n",
        "List comprehension is generally more compact and faster than normal functions and loops for creating list\n",
        "\n",
        "**General Syntax**\n",
        "```python\n",
        "[ <expression> for <variable_name> in <sequence> ]\n",
        "```"
      ]
    },
    {
      "cell_type": "code",
      "metadata": {
        "id": "39qBBlbCpWxg"
      },
      "source": [
        "# Iterating through a string\n",
        "\n",
        "h_letters = []\n",
        "\n",
        "for letter in 'human':\n",
        "    h_letters.append(letter)\n",
        "\n",
        "print(h_letters)"
      ],
      "execution_count": null,
      "outputs": []
    },
    {
      "cell_type": "code",
      "metadata": {
        "id": "YhjDrfNDpaLK"
      },
      "source": [
        "h_letters = [ letter for letter in 'human' ]\n",
        "print( h_letters)"
      ],
      "execution_count": null,
      "outputs": []
    },
    {
      "cell_type": "markdown",
      "metadata": {
        "id": "87s5559cqExo"
      },
      "source": [
        "List comprehensions can utilize conditional statement"
      ]
    },
    {
      "cell_type": "code",
      "metadata": {
        "colab": {
          "base_uri": "https://localhost:8080/"
        },
        "id": "wtdx6fpnqNcB",
        "outputId": "b0886fcd-be13-49b9-99b1-2ecde463a8d5"
      },
      "source": [
        "# Getting even numbers\n",
        "\n",
        "number_list = [ x for x in range(20) if x % 2 == 0]\n",
        "print(number_list)"
      ],
      "execution_count": null,
      "outputs": [
        {
          "output_type": "stream",
          "name": "stdout",
          "text": [
            "[0, 2, 4, 6, 8, 10, 12, 14, 16, 18]\n"
          ]
        }
      ]
    },
    {
      "cell_type": "markdown",
      "metadata": {
        "id": "EvWaeiReqwxw"
      },
      "source": [
        "Nested Loops in List Comprehension"
      ]
    },
    {
      "cell_type": "code",
      "metadata": {
        "id": "bo-S8dzlqzs5"
      },
      "source": [
        "# Transpose of a Matrix\n",
        "\n",
        "matrix = [[1, 2], [3,4], [5,6], [7,8]]\n",
        "transpose = [[row[i] for row in matrix] for i in range(2)]\n",
        "print (transpose)"
      ],
      "execution_count": null,
      "outputs": []
    },
    {
      "cell_type": "code",
      "metadata": {
        "id": "TiFFJEwaq69C"
      },
      "source": [
        "transposed = []\n",
        "matrix = [[1, 2, 3, 4], [4, 5, 6, 8]]\n",
        "\n",
        "for i in range(len(matrix[0])):\n",
        "    transposed_row = []\n",
        "\n",
        "    for row in matrix:\n",
        "        transposed_row.append(row[i])\n",
        "    transposed.append(transposed_row)\n",
        "\n",
        "print(transposed)"
      ],
      "execution_count": null,
      "outputs": []
    },
    {
      "cell_type": "markdown",
      "metadata": {
        "id": "qq0xbwuRsWcr"
      },
      "source": [
        "> Set & Dict comprehension are also possible same like list. There is no tuple comprehension"
      ]
    },
    {
      "cell_type": "code",
      "metadata": {
        "colab": {
          "base_uri": "https://localhost:8080/"
        },
        "id": "gn_sQ2AKsosJ",
        "outputId": "6eeae68d-d4cd-45b0-d727-4043bb3951ec"
      },
      "source": [
        "[i for i in [1, 2, 3, 4]] # List comprehension\n",
        "\n",
        "{i:j for i, j in {1: 'a', 2: 'b'}.items()} # Dict comprehension\n",
        "\n",
        "{i for i in [1, 2, 3, 3,  4]} # Set comprehension"
      ],
      "execution_count": null,
      "outputs": [
        {
          "output_type": "execute_result",
          "data": {
            "text/plain": [
              "{1, 2, 3, 4}"
            ]
          },
          "metadata": {},
          "execution_count": 23
        }
      ]
    },
    {
      "cell_type": "markdown",
      "metadata": {
        "id": "RftZA1Uy1WjN"
      },
      "source": [
        ""
      ]
    },
    {
      "cell_type": "markdown",
      "metadata": {
        "id": "V7s7i2Lhr9Ho"
      },
      "source": [
        "## Iterables\n",
        "\n",
        "**Iteration** is a general term for taking each item of something, one after another\n",
        "\n",
        "An **`Iterable`** is an object that can be looped over (`list, tuple, string, dict, set`)\n",
        "\n",
        "`Iterable` object follows *iteration protocol*. It contains either `__iter__` or `__getitem__`\n",
        "\n",
        "\n"
      ]
    },
    {
      "cell_type": "code",
      "metadata": {
        "colab": {
          "base_uri": "https://localhost:8080/"
        },
        "id": "iuOHnELAyC1p",
        "outputId": "2a97c7d5-56f6-4e9e-f353-34b923ade31c"
      },
      "source": [
        "a = [1, 2]\n",
        "print(dir(a)) # Iterbale"
      ],
      "execution_count": null,
      "outputs": [
        {
          "output_type": "stream",
          "name": "stdout",
          "text": [
            "['__add__', '__class__', '__contains__', '__delattr__', '__delitem__', '__dir__', '__doc__', '__eq__', '__format__', '__ge__', '__getattribute__', '__getitem__', '__gt__', '__hash__', '__iadd__', '__imul__', '__init__', '__init_subclass__', '__iter__', '__le__', '__len__', '__lt__', '__mul__', '__ne__', '__new__', '__reduce__', '__reduce_ex__', '__repr__', '__reversed__', '__rmul__', '__setattr__', '__setitem__', '__sizeof__', '__str__', '__subclasshook__', 'append', 'clear', 'copy', 'count', 'extend', 'index', 'insert', 'pop', 'remove', 'reverse', 'sort']\n"
          ]
        }
      ]
    },
    {
      "cell_type": "markdown",
      "metadata": {
        "id": "VjUYIjvX1QAq"
      },
      "source": [
        "### Iterators\n",
        "\n",
        "An **`Iterator`** is an object with state that remembers where it is during iteration\n",
        "\n",
        "`Iterator` object follows *iterator protocol*. It contains `__next__` & `__iter__` methods\n",
        "\n",
        "Calling `__iter__` method of `iterable` object returns the `iterator` object\n",
        "\n",
        "Calling `__next__` method of `iterator` object returns the next value in the iteration\n",
        "\n",
        "* `iterable` is an object it can be used in iteration\n",
        "\n",
        "* While `iterator` is an object that defines how to actually do the iteration, specifically what is the next element\n",
        "\n",
        ">  `iterator` is self-iterable (meaning that it has an `__iter__` method that returns `self`)\n",
        "\n",
        "> There are 2 builtin functions `iter` & `next`\n",
        "> * Calling `iter(iterable)` function in turn calls `__iter__` method\n",
        "> * Calling `next(iterator)` function in turn calls `__next__` method"
      ]
    },
    {
      "cell_type": "code",
      "metadata": {
        "colab": {
          "base_uri": "https://localhost:8080/",
          "height": 231
        },
        "id": "cxFv1nXs5Voj",
        "outputId": "06f0c9fa-e010-4e1f-8a2a-f0141169e28b"
      },
      "source": [
        "s = 'cat'     # s is an ITERABLE\n",
        "              # s is a str object that is immutable\n",
        "              # s has no state\n",
        "              # s has a __getitem__() method \n",
        "\n",
        "t = iter(s)   # t is an ITERATOR\n",
        "              # t has state (it starts by pointing at the \"c\"\n",
        "              # t has a next() method and an __iter__() method\n",
        "\n",
        "next(t)       # the next() function returns the next value and advances the state\n",
        "# 'c'\n",
        "\n",
        "next(t)       # the next() function returns the next value and advances\n",
        "# 'a'\n",
        "\n",
        "next(t)       # the next() function returns the next value and advances\n",
        "# 't'\n",
        "\n",
        "next(t)       # next() raises StopIteration to signal that iteration is complete\n",
        "# Traceback (most recent call last):\n",
        "# ...\n",
        "# StopIteration\n",
        "\n",
        "iter(t) is t   # the iterator is self-iterable"
      ],
      "execution_count": null,
      "outputs": [
        {
          "output_type": "error",
          "ename": "StopIteration",
          "evalue": "ignored",
          "traceback": [
            "\u001b[0;31m---------------------------------------------------------------------------\u001b[0m",
            "\u001b[0;31mStopIteration\u001b[0m                             Traceback (most recent call last)",
            "\u001b[0;32m<ipython-input-2-ccb2f0630379>\u001b[0m in \u001b[0;36m<module>\u001b[0;34m()\u001b[0m\n\u001b[1;32m     17\u001b[0m \u001b[0;31m# 't'\u001b[0m\u001b[0;34m\u001b[0m\u001b[0;34m\u001b[0m\u001b[0;34m\u001b[0m\u001b[0m\n\u001b[1;32m     18\u001b[0m \u001b[0;34m\u001b[0m\u001b[0m\n\u001b[0;32m---> 19\u001b[0;31m \u001b[0mnext\u001b[0m\u001b[0;34m(\u001b[0m\u001b[0mt\u001b[0m\u001b[0;34m)\u001b[0m       \u001b[0;31m# next() raises StopIteration to signal that iteration is complete\u001b[0m\u001b[0;34m\u001b[0m\u001b[0;34m\u001b[0m\u001b[0m\n\u001b[0m\u001b[1;32m     20\u001b[0m \u001b[0;31m# Traceback (most recent call last):\u001b[0m\u001b[0;34m\u001b[0m\u001b[0;34m\u001b[0m\u001b[0;34m\u001b[0m\u001b[0m\n\u001b[1;32m     21\u001b[0m \u001b[0;31m# ...\u001b[0m\u001b[0;34m\u001b[0m\u001b[0;34m\u001b[0m\u001b[0;34m\u001b[0m\u001b[0m\n",
            "\u001b[0;31mStopIteration\u001b[0m: "
          ]
        }
      ]
    },
    {
      "cell_type": "markdown",
      "metadata": {
        "id": "nneApJdi_Iv1"
      },
      "source": [
        "Iterators can be materialized as lists or tuples by using the `list()` or `tuple()` constructor functions"
      ]
    },
    {
      "cell_type": "code",
      "metadata": {
        "colab": {
          "base_uri": "https://localhost:8080/"
        },
        "id": "XzsMAaFT_PTU",
        "outputId": "422e566f-be60-4b7a-edd6-262d2271bfe8"
      },
      "source": [
        "l1=[1,2,3,4,5] #Converting to iterator object\n",
        "\n",
        "l2=iter(l1) #Converting iterator(l2) to tuple using tuple() constructor\n",
        "\n",
        "t1=tuple(l2)\n",
        "\n",
        "print (t1) # (1, 2, 3, 4, 5)"
      ],
      "execution_count": null,
      "outputs": [
        {
          "output_type": "stream",
          "name": "stdout",
          "text": [
            "(1, 2, 3, 4, 5)\n"
          ]
        }
      ]
    },
    {
      "cell_type": "markdown",
      "metadata": {
        "id": "OPvRzxSy-B6l"
      },
      "source": [
        "### Limits of Iterator\n",
        "* We can only go forward in an iterator.\n",
        "* We can’t make a copy of it.\n",
        "* No way to get the previous element.\n",
        "* We can’t reset the iterator\n",
        "\n",
        "> The `itertools` module contains a number of commonly-used iterators as well as functions"
      ]
    },
    {
      "cell_type": "markdown",
      "metadata": {
        "id": "gFtp0aYm82fU"
      },
      "source": [
        "### 'for' internals\n",
        "\n",
        "Whenever you use a `for` loop, or `map`, or a `list comprehension`, etc. in Python, the next method is called automatically to get each item from the iterator, thus going through the process of iteration\n",
        "Consider the `for`-statement.\n",
        "\n",
        "```python\n",
        "for x in obj:\n",
        "    # statements\n",
        "```\n",
        "\n",
        "What happens under the hood?\n",
        "\n",
        "```python\n",
        "_iter = obj.__iter__()        # Get iterator object\n",
        "while True:\n",
        "    try:\n",
        "        x = _iter.__next__()  # Get next item\n",
        "        # statements ...\n",
        "    except StopIteration:     # No more items\n",
        "        break\n",
        "```\n",
        "\n",
        "All the objects that work with the `for-loop` implement this low-level\n",
        "iteration protocol.\n"
      ]
    },
    {
      "cell_type": "markdown",
      "metadata": {
        "id": "lkfT3rvaN5TH"
      },
      "source": [
        "## Generators\n",
        "\n",
        "A `generator` is a function that returns an `iterator object` which we can iterate over (one value at a time)\n",
        "\n",
        "Normal functions return a single value using `return`. However, there is an alternative, called `yield`. Using one or more `yield` expressions anywhere in a function makes it a `generator`\n",
        "\n",
        "\n",
        "---\n",
        "\n",
        "Suppose you wanted to create your own custom iteration pattern.\n",
        "\n",
        "For example, a sequence of power of 2  (2^1, 2^2 ...)"
      ]
    },
    {
      "cell_type": "code",
      "metadata": {
        "colab": {
          "base_uri": "https://localhost:8080/"
        },
        "id": "xae9BZVKTZKW",
        "outputId": "e66ce026-5c63-40e8-f781-8bfb2c707d8e"
      },
      "source": [
        "class PowTwo:\n",
        "    def __init__(self, max=1):\n",
        "        self.n = 1\n",
        "        self.max = max\n",
        "\n",
        "    def __iter__(self):\n",
        "        return self\n",
        "\n",
        "    def __next__(self):\n",
        "        if self.n > self.max:\n",
        "            raise StopIteration\n",
        "\n",
        "        result = 2 ** self.n\n",
        "        self.n += 1\n",
        "        return result\n",
        "\n",
        "a = PowTwo(5)\n",
        "print(next(a))\n",
        "print(next(a))\n",
        "print(next(a))"
      ],
      "execution_count": null,
      "outputs": [
        {
          "output_type": "stream",
          "name": "stdout",
          "text": [
            "2\n",
            "4\n",
            "8\n"
          ]
        }
      ]
    },
    {
      "cell_type": "markdown",
      "metadata": {
        "id": "X24qmtXETlBP"
      },
      "source": [
        "The above program was lengthy and confusing. We can do same using a generator function easily\n",
        "\n",
        "`generators` provide a convenient way to implement the iterator protocol"
      ]
    },
    {
      "cell_type": "code",
      "metadata": {
        "colab": {
          "base_uri": "https://localhost:8080/"
        },
        "id": "nGIe0ijRTvTY",
        "outputId": "a1d519bf-3f08-47ca-b98f-4a5c3128b195"
      },
      "source": [
        "def PowTwoGen(max=1):\n",
        "    n = 1\n",
        "    while n < max:\n",
        "        yield 2 ** n\n",
        "        n += 1\n",
        "\n",
        "a = PowTwoGen(5) # generator object\n",
        "print(next(a))\n",
        "print(next(a))\n",
        "print(next(a))"
      ],
      "execution_count": null,
      "outputs": [
        {
          "output_type": "stream",
          "name": "stdout",
          "text": [
            "2\n",
            "4\n",
            "8\n"
          ]
        }
      ]
    },
    {
      "cell_type": "markdown",
      "metadata": {
        "id": "dYpnaPmeVsgD"
      },
      "source": [
        "`generator object` is generated once, but its code is not run all at once. Only calls to `next` actually execute (part of) the code. Execution of the code in a generator function pauses once a `yield` statement has been reached, upon which it returns a value. The next call to `next` then causes execution to resume in the state in which the `generator` was left after the last yield. This is a fundamental difference with regular functions: those always start execution at the \"top\" and discard their state upon returning a value"
      ]
    },
    {
      "cell_type": "markdown",
      "metadata": {
        "id": "JthbZ--_X2VO"
      },
      "source": [
        "### Generator Expression\n",
        "\n",
        "Simple generators can be easily created on the fly using **generator expressions**\n",
        "\n",
        "Similar to the lambda functions which create anonymous functions, generator expressions create *anonymous generator functions*\n",
        "\n",
        "The syntax for generator expression is similar to that of a list comprehension. But the square brackets are replaced with round parentheses\n",
        "\n",
        "```python\n",
        "(<expression> for i in s if <conditional>)\n",
        "```"
      ]
    },
    {
      "cell_type": "code",
      "metadata": {
        "id": "DcTl_Hs4YOl-"
      },
      "source": [
        "# Initialize the list\n",
        "my_list = [1, 3, 6, 10]\n",
        "\n",
        "# square each term using list comprehension\n",
        "list_ = [x**2 for x in my_list]\n",
        "\n",
        "# same thing can be done using a generator expression\n",
        "# generator expressions are surrounded by parenthesis ()\n",
        "generator = (x**2 for x in my_list)\n",
        "\n",
        "print(list_)\n",
        "print(generator)"
      ],
      "execution_count": null,
      "outputs": []
    },
    {
      "cell_type": "markdown",
      "metadata": {
        "id": "slFr5HSoaKW_"
      },
      "source": [
        "We can see above that the generator expression did not produce the required result immediately. Instead, it returned a generator object, which produces items only on demand\n",
        "\n",
        "Differences with List Comprehensions.\n",
        "\n",
        "* Does not construct a list.\n",
        "* Only useful purpose is iteration.\n",
        "* Once consumed, can't be reused."
      ]
    },
    {
      "cell_type": "markdown",
      "metadata": {
        "id": "6t0oU6g5gKQ3"
      },
      "source": [
        "### Generator Pipelines\n",
        "\n",
        "Multiple generators can be used to pipeline a series of operations. This is best illustrated using an example.\n",
        "\n",
        "Suppose we have a generator that produces the numbers in the Fibonacci series. And we have another generator for squaring numbers.\n",
        "\n",
        "If we want to find out the sum of squares of numbers in the Fibonacci series, we can do it in the following way by pipelining the output of generator functions together"
      ]
    },
    {
      "cell_type": "code",
      "metadata": {
        "colab": {
          "base_uri": "https://localhost:8080/"
        },
        "id": "_mGbYemrfpGH",
        "outputId": "12e372eb-a538-4cae-f8ae-4bb949ba2e9e"
      },
      "source": [
        "def fibonacci_numbers(nums):\n",
        "    x, y = 0, 1\n",
        "    for _ in range(nums):\n",
        "        x, y = y, x+y\n",
        "        yield x\n",
        "\n",
        "def square(nums):\n",
        "    for num in nums:\n",
        "        yield num**2\n",
        "\n",
        "print(sum(square(fibonacci_numbers(10))))"
      ],
      "execution_count": null,
      "outputs": [
        {
          "output_type": "stream",
          "name": "stdout",
          "text": [
            "4895\n"
          ]
        }
      ]
    },
    {
      "cell_type": "markdown",
      "metadata": {
        "id": "o0WGoYSTcElG"
      },
      "source": [
        "### Why Generators?\n",
        "\n",
        "* Many problems are much more clearly expressed in terms of iteration\n",
        "* Better memory efficiency.\n",
        "  * Only produce values when needed (**Lazy evaluation**)\n",
        "* Represent Infinite Stream\n",
        "* Can operate on streaming data\n",
        "* Pipelining Generators"
      ]
    },
    {
      "cell_type": "markdown",
      "metadata": {
        "id": "WpUKHakXBlak"
      },
      "source": [
        "## Best Practices"
      ]
    },
    {
      "cell_type": "markdown",
      "metadata": {
        "id": "YmkuHdZ6B2Ud"
      },
      "source": [
        "### Lazy Evaluation \n",
        "\n",
        "**Lazy Evaluation** is an evaluation strategy which delays the evaluation of an expression until its value is needed \n",
        "\n",
        " It can improve the efficiency of your code and save plenty of resources\n",
        "\n",
        " Some of the built-in functions `range(), map(), open(), zip()` returns lazy iterator object\n",
        "\n",
        " Use `generator` & `decorator`to create custom Lazy Evaluation function & class"
      ]
    },
    {
      "cell_type": "markdown",
      "metadata": {
        "id": "ftFqbEZC4Mvn"
      },
      "source": [
        "# References\n",
        "\n",
        "https://github.com/dabeaz-course/practical-python"
      ]
    }
  ]
}